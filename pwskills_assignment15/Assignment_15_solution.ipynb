{
 "cells": [
  {
   "cell_type": "markdown",
   "id": "340ec12d-5e87-4f72-83d2-1dbad0a7927c",
   "metadata": {},
   "source": [
    "### 1)"
   ]
  },
  {
   "cell_type": "markdown",
   "id": "a84acf1d-025f-401c-bc5c-f6f83c464347",
   "metadata": {},
   "source": [
    "#### A database is an organized collection of structured information, or data, typically stored electronically in a computer system. A database is usually controlled by a database management system (DBMS). Together, the data and the DBMS, along with the applications that are associated with them, are referred to as a database system, often shortened to just database."
   ]
  },
  {
   "cell_type": "markdown",
   "id": "d0e13dc2-4b1e-4ae7-a147-dd85917d2496",
   "metadata": {},
   "source": [
    "#### SQL, which stands for “Structured Query Language,” is the programming language that’s been widely used in managing data in relational database management systems (RDBMS) since the 1970s. In the early years, when storage was expensive, SQL databases focused on reducing data duplication.\n",
    "\n",
    "#### SQL is still widely used for querying relational databases, where data is stored in rows and tables that are linked in various ways. One table record may link to one other or to many others, or many table records may be related to many records in another table. These relational databases, which offer fast data storage and recovery, can handle great amounts of data and complex SQL queries."
   ]
  },
  {
   "cell_type": "markdown",
   "id": "45940f28-b2c3-40e8-bf6c-d4c386d487ea",
   "metadata": {},
   "source": [
    "#### In the other hand NoSQL is a non-relational database, meaning it allows different structures than a SQL database (not rows and columns) and more flexibility to use a format that best fits the data. The term “NoSQL” was not coined until the early 2000s. It doesn’t mean the systems don’t use SQL, as NoSQL databases do sometimes support some SQL commands. More accurately, “NoSQL” is sometimes defined as “not only SQL.”\n",
    "\n"
   ]
  },
  {
   "cell_type": "markdown",
   "id": "e74fdde8-8ba5-4434-a32d-c2400c2b718b",
   "metadata": {},
   "source": [
    "### 2)"
   ]
  },
  {
   "cell_type": "markdown",
   "id": "9f312657-ccdc-4f8b-8c04-990f6607242d",
   "metadata": {},
   "source": [
    "#### Data Definition Language(DDL) is a subset of SQL and a part of DBMS(Database Management System). DDL consist of Commands to commands like CREATE, ALTER, TRUNCATE and DROP. These commands are used to create or modify the tables in SQL."
   ]
  },
  {
   "cell_type": "markdown",
   "id": "da3780b2-73c8-4c75-9177-6807a8d6e578",
   "metadata": {},
   "source": [
    "#### CREATE\n",
    "> This command is used to create a new table in SQL. The user has to give information like table name, column names, and their datatypes."
   ]
  },
  {
   "cell_type": "code",
   "execution_count": null,
   "id": "d1b5c0d2-c6bf-45a1-b78e-0a5674ec4880",
   "metadata": {},
   "outputs": [],
   "source": [
    "CREATE TABLE Student_info\n",
    "(\n",
    "College_Id number(2),\n",
    "College_name varchar(30),\n",
    "Branch varchar(10)\n",
    ");"
   ]
  },
  {
   "cell_type": "markdown",
   "id": "f1a3f283-b7d2-436b-beec-249def55879f",
   "metadata": {},
   "source": [
    "#### ALTER\n",
    "> This command is used to add, delete or change columns in the existing table. The user needs to know the existing table name and can do add, delete or modify tasks easily."
   ]
  },
  {
   "cell_type": "code",
   "execution_count": null,
   "id": "cd43570e-1d62-4c1f-badb-4a582973c05d",
   "metadata": {},
   "outputs": [],
   "source": [
    "ALTER TABLE Student_info\n",
    "ADD CGPA number;"
   ]
  },
  {
   "cell_type": "markdown",
   "id": "93ebbf74-826c-427e-9620-2355b6c69b99",
   "metadata": {},
   "source": [
    "#### TRUNCATE\n",
    "> This command is used to remove all rows from the table, but the structure of the table still exists."
   ]
  },
  {
   "cell_type": "code",
   "execution_count": null,
   "id": "5897e9df-f34a-4ca0-8ee5-22ace76f2093",
   "metadata": {},
   "outputs": [],
   "source": [
    "TRUNCATE TABLE Student_info;"
   ]
  },
  {
   "cell_type": "markdown",
   "id": "d3418f1e-d383-40e3-9460-904e51d0cf9b",
   "metadata": {},
   "source": [
    "#### DROP\n",
    "> This command is used to remove an existing table along with its structure from the Database."
   ]
  },
  {
   "cell_type": "code",
   "execution_count": null,
   "id": "e3a61485-1c69-423d-8f14-e1f6682cf5cf",
   "metadata": {},
   "outputs": [],
   "source": [
    "DROP TABLE Student_info;"
   ]
  },
  {
   "cell_type": "markdown",
   "id": "60f12167-421d-4234-b288-9efb4b50694b",
   "metadata": {},
   "source": [
    "### 3)"
   ]
  },
  {
   "cell_type": "markdown",
   "id": "b067c010-3f80-42dc-a18f-2d6c23d17b08",
   "metadata": {},
   "source": [
    "#### The data manipulation language statements are used to retrieve, add, delete, and modify the data that is stored in the objects of database. The keywords or statements that are associated with the data manipulation language are: INSERT, UPDATE and DELETE. These are the primary statements of data manipulation language (DML) and are used widely."
   ]
  },
  {
   "cell_type": "markdown",
   "id": "fca62856-0307-42f7-a68e-b530a1958ccb",
   "metadata": {},
   "source": [
    "#### INSERT \n",
    "> To add data to a table the INSERT command is used. The syntax of the INSERT command is given below:\n",
    "\n",
    "\n",
    "\n",
    " "
   ]
  },
  {
   "cell_type": "code",
   "execution_count": null,
   "id": "cce17846-88f6-4e51-852d-6da83bef6c0b",
   "metadata": {},
   "outputs": [],
   "source": [
    "INSERT into table-name values (data, data …)"
   ]
  },
  {
   "cell_type": "markdown",
   "id": "5e83074a-4ee4-4f7a-8482-a7643ca648dc",
   "metadata": {},
   "source": [
    "#### UPDATE\n",
    "> To update a table or row or column in the table we use the update command."
   ]
  },
  {
   "cell_type": "code",
   "execution_count": null,
   "id": "1e39f452-99aa-45fd-829f-943dd37d27f3",
   "metadata": {},
   "outputs": [],
   "source": [
    "Update table-name set column-name = value where condition;"
   ]
  },
  {
   "cell_type": "markdown",
   "id": "8ebe77bd-4df7-45e0-9481-731d6b83680d",
   "metadata": {},
   "source": [
    "#### DELETE\n",
    "> To delete a table row or some data from a table in the database the delete command is used. The syntax of delete command is as follows:\n",
    "\n"
   ]
  },
  {
   "cell_type": "code",
   "execution_count": null,
   "id": "c7b9038c-1367-4ca8-a8cb-6745aec223a5",
   "metadata": {},
   "outputs": [],
   "source": [
    "DELETE from table-name;"
   ]
  },
  {
   "cell_type": "markdown",
   "id": "c5c03780-a44e-4986-b03b-81ddf93c2cdb",
   "metadata": {},
   "source": [
    "### 4)"
   ]
  },
  {
   "cell_type": "markdown",
   "id": "c2a49e34-5d38-42d7-8a01-8dbca03ec670",
   "metadata": {},
   "source": [
    "#### DQL statements are used for performing queries on the data within schema objects. The purpose of DQL commands is to get the schema relation based on the query passed to it."
   ]
  },
  {
   "cell_type": "markdown",
   "id": "9c044992-53a8-42ed-b6a0-9f36c302793e",
   "metadata": {},
   "source": [
    "#### SELECT\n",
    "> An SQL SELECT statement retrieves records from a database table according to clauses (for example, FROM and WHERE) that specify criteria. The syntax is:\n",
    "\n",
    "  "
   ]
  },
  {
   "cell_type": "code",
   "execution_count": null,
   "id": "6dc91781-c5bb-40ed-a2b7-cecb9bf68742",
   "metadata": {},
   "outputs": [],
   "source": [
    "SELECT column1, column2 FROM table1, table2 WHERE column2='value';"
   ]
  },
  {
   "cell_type": "markdown",
   "id": "08ff7bfb-c4b0-4075-aad0-10860fc44699",
   "metadata": {},
   "source": [
    "### 5)"
   ]
  },
  {
   "cell_type": "markdown",
   "id": "af0127b7-112b-4a7e-ba84-2b42a3fd13f2",
   "metadata": {},
   "source": [
    "#### A primary key is used to ensure data in the specific column is unique.\tIt uniquely identifies a record in the relational database table. Only one primary key is allowed in a table. It is a combination of UNIQUE and Not Null constraints. It does not allow NULL values. Its value cannot be deleted from the parent table. It constraint can be implicitly defined on the temporary tables.\t"
   ]
  },
  {
   "cell_type": "markdown",
   "id": "f81c0fe6-490f-4204-8d7c-4784f34540a2",
   "metadata": {},
   "source": [
    "#### A foreign key is a column or group of columns in a relational database table that provides a link between data in two tables. It refers to the field in a table which is the primary key of another table. More than one foreign key are allowed in a table. It can contain duplicate values and a table in a relational database. It can also contain NULL values. Its value can be deleted from the child table. It constraint cannot be defined on the local or global temporary tables."
   ]
  },
  {
   "cell_type": "markdown",
   "id": "aea4e321-f083-4505-98b8-21e348bb6a20",
   "metadata": {},
   "source": [
    "### 6)"
   ]
  },
  {
   "cell_type": "code",
   "execution_count": null,
   "id": "81e2ded4-dc1a-4047-907d-9e5c38c13f6f",
   "metadata": {},
   "outputs": [],
   "source": [
    "# First we have to install mysql.connector by using pip\n",
    "import mysql.connector\n",
    "\n",
    "mydb = mysql.connector.connect(\n",
    "  host=\"localhost\",\n",
    "  user=\"username\",\n",
    "  password=\"password\"\n",
    ")\n",
    "\n",
    "print(mydb)"
   ]
  },
  {
   "cell_type": "markdown",
   "id": "1344c7a5-0044-4546-ba5f-8cf33de256fc",
   "metadata": {},
   "source": [
    "#### In SQL procedures, a cursor make it possible to define a result set (a set of data rows) and perform complex logic on a row by row basis. By using the same mechanics, an SQL procedure can also define a result set and return it directly to the caller of the SQL procedure or to a client application. A cursor can be viewed as a pointer to one row in a set of rows. The cursor can only reference one row at a time, but can move to other rows of the result set as needed."
   ]
  },
  {
   "cell_type": "markdown",
   "id": "d7401b34-6798-46ed-a08e-26ada5657101",
   "metadata": {},
   "source": [
    "#### The Execute method executes the query, SQL statement or procedure specified in the CommandText property of the Command object"
   ]
  },
  {
   "cell_type": "markdown",
   "id": "360b7060-2063-4b73-acab-da3fcd83d9f8",
   "metadata": {},
   "source": [
    "### 7) "
   ]
  },
  {
   "cell_type": "markdown",
   "id": "9e0ef22b-13b5-4ea9-957a-6de290a9c573",
   "metadata": {},
   "source": [
    "1>   FROM - Tables are joined to get the base data.\n",
    "\n",
    "2>\tWHERE - The base data is filtered.\n",
    "\n",
    "3>\tGROUP BY - The filtered base data is grouped.\n",
    "\n",
    "4>\tHAVING - The grouped base data is filtered.\n",
    "\n",
    "5>\tSELECT - The final data is returned.\n",
    "\n",
    "6>\tORDER BY - The final data is sorted.\n",
    "\n",
    "7>\tLIMIT - The returned data is limited to row count."
   ]
  }
 ],
 "metadata": {
  "kernelspec": {
   "display_name": "Python 3 (ipykernel)",
   "language": "python",
   "name": "python3"
  },
  "language_info": {
   "codemirror_mode": {
    "name": "ipython",
    "version": 3
   },
   "file_extension": ".py",
   "mimetype": "text/x-python",
   "name": "python",
   "nbconvert_exporter": "python",
   "pygments_lexer": "ipython3",
   "version": "3.10.8"
  }
 },
 "nbformat": 4,
 "nbformat_minor": 5
}
