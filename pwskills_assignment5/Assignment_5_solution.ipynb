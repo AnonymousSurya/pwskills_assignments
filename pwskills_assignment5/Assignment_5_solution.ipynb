{
 "cells": [
  {
   "cell_type": "markdown",
   "id": "b4008526-f0ba-4134-b47f-3ffdd173e076",
   "metadata": {},
   "source": [
    "### 1)"
   ]
  },
  {
   "cell_type": "code",
   "execution_count": 47,
   "id": "a18ae175-0b02-4238-be2a-f938d2498473",
   "metadata": {},
   "outputs": [
    {
     "name": "stdout",
     "output_type": "stream",
     "text": [
      "[('Virat Kohli', 24936), ('Jack Kallis', 25534), ('Ricky Ponting', 27483), ('Sachin Tendulkar', 34357)]\n"
     ]
    }
   ],
   "source": [
    "lstt = [('Sachin Tendulkar', 34357), ('Ricky Ponting', 27483), ('Jack Kallis', 25534), ('Virat Kohli', 24936)]\n",
    "lstt.sort(key= lambda x:x[1])\n",
    "print(lstt)"
   ]
  },
  {
   "cell_type": "markdown",
   "id": "1603bee3-95c8-4ea6-93af-6152188b2483",
   "metadata": {},
   "source": [
    "### 2) "
   ]
  },
  {
   "cell_type": "code",
   "execution_count": 3,
   "id": "c1ddc6b1-e619-4784-b611-ba8f1467ede4",
   "metadata": {},
   "outputs": [
    {
     "name": "stdout",
     "output_type": "stream",
     "text": [
      "[1, 4, 9, 16, 25, 36, 49, 64, 81, 100]\n"
     ]
    }
   ],
   "source": [
    "lst = [1, 2, 3, 4, 5, 6, 7, 8, 9, 10]\n",
    "lst_sq = list(map(lambda x:x**2,lst))\n",
    "print(lst_sq)"
   ]
  },
  {
   "cell_type": "markdown",
   "id": "effa1c92-491c-44d0-b1d8-fee79dfd1588",
   "metadata": {},
   "source": [
    "### 3)"
   ]
  },
  {
   "cell_type": "code",
   "execution_count": 5,
   "id": "983d0917-4fdc-4bae-bae2-971c968d37b8",
   "metadata": {},
   "outputs": [
    {
     "name": "stdout",
     "output_type": "stream",
     "text": [
      "{'6', '2', '1', '3', '8', '9', '4', '10', '7', '5'}\n"
     ]
    }
   ],
   "source": [
    "lt = [1, 2, 3, 4, 5, 6, 7, 8, 9, 10]\n",
    "lt_tp = set(map(lambda x: str(x), lt))\n",
    "print(lt_tp)"
   ]
  },
  {
   "cell_type": "markdown",
   "id": "7b994232-1040-469d-90b8-caf54324fe7e",
   "metadata": {},
   "source": [
    "### 4)"
   ]
  },
  {
   "cell_type": "code",
   "execution_count": 9,
   "id": "24cb2abc-9039-4347-874c-c1e0ba2a3ebf",
   "metadata": {},
   "outputs": [
    {
     "data": {
      "text/plain": [
       "15511210043330985984000000"
      ]
     },
     "execution_count": 9,
     "metadata": {},
     "output_type": "execute_result"
    }
   ],
   "source": [
    "from functools import reduce\n",
    "reduce(lambda x,y: x*y,[i for i in range(1,26)])"
   ]
  },
  {
   "cell_type": "markdown",
   "id": "25bad661-732c-4fde-89e8-4e1f43826d93",
   "metadata": {},
   "source": [
    "### 5)"
   ]
  },
  {
   "cell_type": "code",
   "execution_count": 48,
   "id": "852fce4a-768a-4aa3-8dbb-cdf949923834",
   "metadata": {},
   "outputs": [
    {
     "name": "stdout",
     "output_type": "stream",
     "text": [
      "[6, 60, 90, 120]\n"
     ]
    }
   ],
   "source": [
    "l1 = [2, 3, 6, 9, 27, 60, 90, 120, 55, 46]\n",
    "l2 = list(filter(lambda x : x%2 == 0 and x%3 == 0, l1))\n",
    "print(l2)"
   ]
  },
  {
   "cell_type": "markdown",
   "id": "dff22a2d-f38e-4af9-b30b-eb378ca6c8a0",
   "metadata": {},
   "source": [
    "### 6)"
   ]
  },
  {
   "cell_type": "code",
   "execution_count": 35,
   "id": "251ba74b-1c9d-44f8-9b2b-8d1c576eb7f5",
   "metadata": {},
   "outputs": [
    {
     "name": "stdout",
     "output_type": "stream",
     "text": [
      "['php', 'aba', 'radar', 'level']\n"
     ]
    }
   ],
   "source": [
    "lst1 = ['python', 'php', 'aba', 'radar', 'level']\n",
    "lst2 = list(filter(lambda x : (x == \"\".join(reversed(x))), lst1))\n",
    "print(lst2)"
   ]
  }
 ],
 "metadata": {
  "kernelspec": {
   "display_name": "Python 3 (ipykernel)",
   "language": "python",
   "name": "python3"
  },
  "language_info": {
   "codemirror_mode": {
    "name": "ipython",
    "version": 3
   },
   "file_extension": ".py",
   "mimetype": "text/x-python",
   "name": "python",
   "nbconvert_exporter": "python",
   "pygments_lexer": "ipython3",
   "version": "3.10.8"
  }
 },
 "nbformat": 4,
 "nbformat_minor": 5
}
