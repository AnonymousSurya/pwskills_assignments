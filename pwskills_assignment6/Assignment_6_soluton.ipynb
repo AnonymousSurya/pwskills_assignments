{
 "cells": [
  {
   "cell_type": "markdown",
   "id": "3fdb46ce-7b22-42b1-9c79-48af71b687d7",
   "metadata": {},
   "source": [
    "### 1)\n",
    "\n",
    "#### A class is a user-defined blueprint or prototype from which objects are created. Classes provide a means of bundling data and functionality together. Creating a new class creates a new type of object, allowing new instances of that type to be made. Each class instance can have attributes attached to it for maintaining its state. Class instances can also have methods (defined by their class) for modifying their state.\n",
    "\n",
    "#### An Object is an instance of a Class. A class is like a blueprint while an instance is a copy of the class with actual values."
   ]
  },
  {
   "cell_type": "code",
   "execution_count": 5,
   "id": "26754050-59f5-4e18-8fca-153fd6c59fc6",
   "metadata": {},
   "outputs": [],
   "source": [
    "# create class\n",
    "class bike:\n",
    "    \n",
    "    def __init__(self ,model_id , price, mileage):\n",
    "        \n",
    "        self.model_id = model_id\n",
    "        self.price = price\n",
    "        self.mileage = mileage\n",
    "        \n",
    "    "
   ]
  },
  {
   "cell_type": "code",
   "execution_count": 7,
   "id": "eb683350-d923-4b4c-a085-7e25489644c8",
   "metadata": {},
   "outputs": [],
   "source": [
    "# create object \n",
    "bike1 = bike(100,150000,52)"
   ]
  },
  {
   "cell_type": "markdown",
   "id": "f876fe26-6385-41bc-adda-ceb8792b8db9",
   "metadata": {},
   "source": [
    "### 2)\n",
    "\n",
    "#### The four pillars of OOPs are Inheritance, Polymorphism, Encapsulation and Abstraction."
   ]
  },
  {
   "cell_type": "markdown",
   "id": "a0605d86-e2a7-4287-acb2-8110b864a880",
   "metadata": {},
   "source": [
    "### 3)\n",
    "\n",
    "#### All classes have a function called __init__(), which is always executed when the class is being initiated. We use the __init__() function to assign values to object properties, or other operations that are necessary to do when the object is being created"
   ]
  },
  {
   "cell_type": "code",
   "execution_count": 15,
   "id": "84f71edc-c9ca-42b9-ab9d-15b5b50cac60",
   "metadata": {},
   "outputs": [],
   "source": [
    "class Person:\n",
    "  def __init__(self, name, age):\n",
    "    self.name = name\n",
    "    self.age = age\n",
    "\n",
    "p1 = Person(\"Surya\", 23)"
   ]
  },
  {
   "cell_type": "code",
   "execution_count": 16,
   "id": "64069234-8afd-47f0-94f4-014d92c9e36b",
   "metadata": {},
   "outputs": [
    {
     "data": {
      "text/plain": [
       "'Surya'"
      ]
     },
     "execution_count": 16,
     "metadata": {},
     "output_type": "execute_result"
    }
   ],
   "source": [
    "p1.name"
   ]
  },
  {
   "cell_type": "code",
   "execution_count": 17,
   "id": "31aec1c8-b798-4534-bc6b-4a1552d464d4",
   "metadata": {},
   "outputs": [
    {
     "data": {
      "text/plain": [
       "23"
      ]
     },
     "execution_count": 17,
     "metadata": {},
     "output_type": "execute_result"
    }
   ],
   "source": [
    "p1.age"
   ]
  },
  {
   "cell_type": "markdown",
   "id": "a2f75ffc-2bfa-4479-bc31-28581793d131",
   "metadata": {},
   "source": [
    "### 4)\n",
    "\n",
    "#### Self represents the instance of the class. By using the “self”  we can access the attributes and methods of the class in python. It binds the attributes with the given arguments. The reason we need to use self, is because Python does not refer to instance attributes. Python decided to do methods in a way that makes the instance to which the method belongs be passed automatically, but not received automatically: the first parameter of methods is the instance the method is called on. "
   ]
  },
  {
   "cell_type": "markdown",
   "id": "cf735961-a422-4f5f-a580-81ad7c465790",
   "metadata": {},
   "source": [
    "### 5)\n",
    "\n",
    "#### Inheritance is defined as the mechanism of inheriting the properties of the base class to the child class.\n"
   ]
  },
  {
   "cell_type": "markdown",
   "id": "e3fd57e0-73c2-4f6d-ad48-12d557fc5437",
   "metadata": {},
   "source": [
    "#### Types of Inheritance depend upon the number of child and parent classes involved. There are four types of inheritance in Python:\n",
    "\n",
    "#### Single Inheritance:   \n",
    "##### Single inheritance enables a derived class to inherit properties from a single parent class, thus enabling code reusability and the addition of new features to existing code."
   ]
  },
  {
   "cell_type": "code",
   "execution_count": 18,
   "id": "05c06922-e0f1-491c-8191-21aeda045329",
   "metadata": {},
   "outputs": [
    {
     "name": "stdout",
     "output_type": "stream",
     "text": [
      "This function is in parent class.\n",
      "This function is in child class.\n"
     ]
    }
   ],
   "source": [
    "class Parent:\n",
    "    def func1(self):\n",
    "        print(\"This function is in parent class.\")\n",
    "\n",
    "\n",
    "class Child(Parent):\n",
    "    def func2(self):\n",
    "        print(\"This function is in child class.\")\n",
    " \n",
    "object = Child()\n",
    "object.func1()\n",
    "object.func2()"
   ]
  },
  {
   "cell_type": "markdown",
   "id": "4741de56-b9d4-4889-aea8-2fc6fd6a0b8d",
   "metadata": {},
   "source": [
    "#### Multiple Inheritance: \n",
    "##### When a class can be derived from more than one base class this type of inheritance is called multiple inheritances. In multiple inheritances, all the features of the base classes are inherited into the derived class. "
   ]
  },
  {
   "cell_type": "code",
   "execution_count": 19,
   "id": "8e843809-b312-4867-af21-8ded7c3e8bf5",
   "metadata": {},
   "outputs": [
    {
     "name": "stdout",
     "output_type": "stream",
     "text": [
      "Father : RAM\n",
      "Mother : SITA\n"
     ]
    }
   ],
   "source": [
    "class Mother:\n",
    "    mothername = \"\"\n",
    " \n",
    "    def mother(self):\n",
    "        print(self.mothername)\n",
    " \n",
    " \n",
    "class Father:\n",
    "    fathername = \"\"\n",
    " \n",
    "    def father(self):\n",
    "        print(self.fathername)\n",
    " \n",
    " \n",
    "class Son(Mother, Father):\n",
    "    def parents(self):\n",
    "        print(\"Father :\", self.fathername)\n",
    "        print(\"Mother :\", self.mothername)\n",
    " \n",
    " \n",
    "s1 = Son()\n",
    "s1.fathername = \"RAM\"\n",
    "s1.mothername = \"SITA\"\n",
    "s1.parents()"
   ]
  },
  {
   "cell_type": "markdown",
   "id": "d9211973-6774-4fae-9b39-9f63b9d1d148",
   "metadata": {},
   "source": [
    "#### Multilevel Inheritance :\n",
    "##### In multilevel inheritance, features of the base class and the derived class are further inherited into the new derived class. This is similar to a relationship representing a child and a grandfather. "
   ]
  },
  {
   "cell_type": "code",
   "execution_count": 21,
   "id": "0d3b1283-f0ed-480e-8c4e-6e3a3d3e6153",
   "metadata": {},
   "outputs": [
    {
     "name": "stdout",
     "output_type": "stream",
     "text": [
      "Paramananda\n",
      "Grandfather name : Paramananda\n",
      "Father name : Nalini\n",
      "Son name : Surya\n"
     ]
    }
   ],
   "source": [
    "class Grandfather:\n",
    "\n",
    "\tdef __init__(self, grandfathername):\n",
    "\t\tself.grandfathername = grandfathername\n",
    "\n",
    "\n",
    "class Father(Grandfather):\n",
    "\tdef __init__(self, fathername, grandfathername):\n",
    "\t\tself.fathername = fathername\n",
    "        \n",
    "\t\tGrandfather.__init__(self, grandfathername)\n",
    "\n",
    "\n",
    "class Son(Father):\n",
    "\tdef __init__(self, sonname, fathername, grandfathername):\n",
    "\t\tself.sonname = sonname\n",
    "        \n",
    "\t\tFather.__init__(self, fathername, grandfathername)\n",
    "\n",
    "\tdef print_name(self):\n",
    "\t\tprint('Grandfather name :', self.grandfathername)\n",
    "\t\tprint(\"Father name :\", self.fathername)\n",
    "\t\tprint(\"Son name :\", self.sonname)\n",
    "\n",
    "        \n",
    "s1 = Son('Surya', 'Nalini', 'Paramananda')\n",
    "print(s1.grandfathername)\n",
    "s1.print_name()\n"
   ]
  },
  {
   "cell_type": "markdown",
   "id": "a6eb44c9-a015-4995-9b03-5a85388f3407",
   "metadata": {},
   "source": [
    "#### Hierarchical Inheritance: \n",
    "##### When more than one derived class are created from a single base this type of inheritance is called hierarchical inheritance. In this program, we have a parent (base) class and two child (derived) classes."
   ]
  },
  {
   "cell_type": "code",
   "execution_count": 22,
   "id": "e3854132-33a2-444d-bc68-c7ccc9e3a925",
   "metadata": {},
   "outputs": [
    {
     "name": "stdout",
     "output_type": "stream",
     "text": [
      "This function is in parent class.\n",
      "This function is in child 1.\n",
      "This function is in parent class.\n",
      "This function is in child 2.\n"
     ]
    }
   ],
   "source": [
    "class Parent:\n",
    "\tdef func1(self):\n",
    "\t\tprint(\"This function is in parent class.\")\n",
    "        \n",
    "\n",
    "class Child1(Parent):\n",
    "\tdef func2(self):\n",
    "\t\tprint(\"This function is in child 1.\")\n",
    "\n",
    "\n",
    "class Child2(Parent):\n",
    "\tdef func3(self):\n",
    "\t\tprint(\"This function is in child 2.\")\n",
    "\n",
    "object1 = Child1()\n",
    "object2 = Child2()\n",
    "object1.func1()\n",
    "object1.func2()\n",
    "object2.func1()\n",
    "object2.func3()\n"
   ]
  },
  {
   "cell_type": "markdown",
   "id": "f06a4de1-af93-4d8a-b82e-d19a3887af1e",
   "metadata": {},
   "source": [
    "#### Hybrid Inheritance: \n",
    "##### Inheritance consisting of multiple types of inheritance is called hybrid inheritance."
   ]
  },
  {
   "cell_type": "code",
   "execution_count": 23,
   "id": "131bf666-bef6-4b1c-ae88-dae65a8bfb30",
   "metadata": {},
   "outputs": [
    {
     "name": "stdout",
     "output_type": "stream",
     "text": [
      "This function is in school.\n",
      "This function is in student 1. \n"
     ]
    }
   ],
   "source": [
    "class School:\n",
    "\tdef func1(self):\n",
    "\t\tprint(\"This function is in school.\")\n",
    "\n",
    "\n",
    "class Student1(School):\n",
    "\tdef func2(self):\n",
    "\t\tprint(\"This function is in student 1. \")\n",
    "\n",
    "\n",
    "class Student2(School):\n",
    "\tdef func3(self):\n",
    "\t\tprint(\"This function is in student 2.\")\n",
    "\n",
    "\n",
    "class Student3(Student1, School):\n",
    "\tdef func4(self):\n",
    "\t\tprint(\"This function is in student 3.\")\n",
    "\n",
    "        \n",
    "object = Student3()\n",
    "object.func1()\n",
    "object.func2()\n"
   ]
  },
  {
   "cell_type": "code",
   "execution_count": null,
   "id": "f15be7f1-76ed-484a-988f-ff7ab27cd144",
   "metadata": {},
   "outputs": [],
   "source": []
  }
 ],
 "metadata": {
  "kernelspec": {
   "display_name": "Python 3 (ipykernel)",
   "language": "python",
   "name": "python3"
  },
  "language_info": {
   "codemirror_mode": {
    "name": "ipython",
    "version": 3
   },
   "file_extension": ".py",
   "mimetype": "text/x-python",
   "name": "python",
   "nbconvert_exporter": "python",
   "pygments_lexer": "ipython3",
   "version": "3.10.8"
  }
 },
 "nbformat": 4,
 "nbformat_minor": 5
}
