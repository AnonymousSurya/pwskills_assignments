{
 "cells": [
  {
   "cell_type": "markdown",
   "id": "f8f7ff17",
   "metadata": {},
   "source": [
    "#### Q1. In order to predict house price based on several characteristics, such as location, square footage, number of bedrooms, etc., you are developing an SVM regression model. Which regression metric in this situation would be the best to employ?"
   ]
  },
  {
   "cell_type": "markdown",
   "id": "6e0725e1",
   "metadata": {},
   "source": [
    "MSE is a widely used regression metric that measures the average squared difference between the predicted and actual values. It is especially useful in the case of SVM regression because it is a convex optimization problem, meaning that it has a unique global minimum. This makes it easy to optimize and minimize the error between predicted and actual values."
   ]
  },
  {
   "cell_type": "markdown",
   "id": "a2f04c48",
   "metadata": {},
   "source": [
    "#### Q2. You have built an SVM regression model and are trying to decide between using MSE or R-squared as your evaluation metric. Which metric would be more appropriate if your goal is to predict the actual price of a house as accurately as possible?"
   ]
  },
  {
   "cell_type": "markdown",
   "id": "8e7425b3",
   "metadata": {},
   "source": [
    "If your goal is to predict the actual price of a house as accurately as possible, then the most appropriate evaluation metric would be the mean squared error (MSE)."
   ]
  },
  {
   "cell_type": "markdown",
   "id": "23c09625",
   "metadata": {},
   "source": [
    "#### Q3. You have a dataset with a significant number of outliers and are trying to select an appropriate regression metric to use with your SVM model. Which metric would be the most appropriate in this scenario?"
   ]
  },
  {
   "cell_type": "markdown",
   "id": "f07546a5",
   "metadata": {},
   "source": [
    "I will use MAE because it is robust to outlier.\n",
    "MAE measures the average absolute difference between the predicted and actual values. It is less sensitive to outliers than other regression metrics, such as mean squared error (MSE), which heavily penalizes larger errors.\n",
    "MAE is robust to outliers because it only considers the magnitude of the error, rather than the squared magnitude. This means that even if the error is large, the MAE will still provide an accurate measure of the performance of the model."
   ]
  },
  {
   "cell_type": "markdown",
   "id": "c2d9c8a6",
   "metadata": {},
   "source": [
    "#### Q4. You have built an SVM regression model using a polynomial kernel and are trying to select the best metric to evaluate its performance. You have calculated both MSE and RMSE and found that both values are very close. Which metric should you choose to use in this case?"
   ]
  },
  {
   "cell_type": "markdown",
   "id": "19adcead",
   "metadata": {},
   "source": [
    "We need to use RMSE becaue our house price may be in different unit so we RMSE will not change the unit."
   ]
  },
  {
   "cell_type": "markdown",
   "id": "68ef2b74",
   "metadata": {},
   "source": [
    "#### Q5. You are comparing the performance of different SVM regression models using different kernels (linear,polynomial, and RBF) and are trying to select the best evaluation metric. Which metric would be most appropriate if your goal is to measure how well the model explains the variance in the target variable?"
   ]
  },
  {
   "cell_type": "markdown",
   "id": "43d92eda",
   "metadata": {},
   "source": [
    "If your goal is to measure how well the SVM regression model explains the variance in the target variable, then the most appropriate evaluation metric to use is the coefficient of determination, also known as R-squared.\n",
    "\n",
    "R-squared measures the proportion of the variance in the target variable that is explained by the model. It ranges from 0 to 1, with higher values indicating a better fit of the model to the data.\n",
    "\n",
    "R-squared is a useful metric to evaluate the performance of SVM regression models with different kernels because it is a standardized metric that is not affected by the scale of the target variable"
   ]
  }
 ],
 "metadata": {
  "kernelspec": {
   "display_name": "Python 3 (ipykernel)",
   "language": "python",
   "name": "python3"
  },
  "language_info": {
   "codemirror_mode": {
    "name": "ipython",
    "version": 3
   },
   "file_extension": ".py",
   "mimetype": "text/x-python",
   "name": "python",
   "nbconvert_exporter": "python",
   "pygments_lexer": "ipython3",
   "version": "3.11.2"
  }
 },
 "nbformat": 4,
 "nbformat_minor": 5
}
