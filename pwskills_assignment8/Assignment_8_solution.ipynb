{
 "cells": [
  {
   "cell_type": "markdown",
   "id": "2e852117",
   "metadata": {},
   "source": [
    "#### Q1. Pearson correlation coefficient is a measure of the linear relationship between two variables. Suppose you have collected data on the amount of time students spend studying for an exam and their final exam scores. Calculate the Pearson correlation coefficient between these two variables and interpret the result."
   ]
  },
  {
   "cell_type": "markdown",
   "id": "707962b8",
   "metadata": {},
   "source": [
    "1.calculate the mean and standard deviation for each variable.\n",
    "\n",
    "2.calcuate the covariance between two variable.\n",
    "\n",
    "Cov(x,y) = Σ[(xᵢ - x̄)(yᵢ - ȳ)] / (n - 1)\n",
    "\n",
    "3.cacluate the pearson correlation coefficient.\n",
    "\n",
    "r = Cov(x,y)/(std(x),std(y))\n",
    "\n",
    "the resulting r value will be between -1 to 1.\n",
    "\n",
    "where value 1 represents perfect positive linear relationship and value -1 represents perfect negative linear reltionship.\n",
    "\n",
    "if the pearson correlation coefficient is positive then there is positive linear relationship between study time and exam score.\n",
    "other wise there is negative linear relationship between study time and exame score."
   ]
  },
  {
   "cell_type": "markdown",
   "id": "123edff6",
   "metadata": {},
   "source": [
    "#### Q2. Spearman's rank correlation is a measure of the monotonic relationship between two variables. Suppose you have collected data on the amount of sleep individuals get each night and their overall job satisfaction level on a scale of 1 to 10. Calculate the Spearman's rank correlation between these two variables and interpret the result."
   ]
  },
  {
   "cell_type": "markdown",
   "id": "83c05a3e",
   "metadata": {},
   "source": [
    "1.Rank the data for each variable from smallest to largest.\n",
    "\n",
    "2.Calculate the difference between ranks.\n",
    "\n",
    "3.Square each difference to obtain the sum of squared differences.\n",
    "\n",
    "4.calculate trhe spearman's rank correlations.\n",
    "\n",
    "if value of spearsman rank correlation is positive(1) it means that there is positive monotonic relationship between the amout of sleep and job satisfication other there is negative spearman's rank correlation with value -1"
   ]
  },
  {
   "cell_type": "markdown",
   "id": "dee5f280",
   "metadata": {},
   "source": [
    "#### Q3. Suppose you are conducting a study to examine the relationship between the number of hours of exercise per week and body mass index (BMI) in a sample of adults. You collected data on both variables for 50 participants. Calculate the Pearson correlation coefficient and the Spearman's rank correlation between these two variables and compare the results."
   ]
  },
  {
   "cell_type": "markdown",
   "id": "29b6b744",
   "metadata": {},
   "source": [
    "The above steps can follow to calculcate the pearson correlation coefficient and spearman rank correlation.\n",
    "\n",
    "if the both coefficient are similar then it suggest that relationship is linear, if pearson correlation ship is much higher then it is suggestv that relationship is linear and if spearman rank correlation is much higher then it is monotonic in relationship."
   ]
  },
  {
   "cell_type": "markdown",
   "id": "39097438",
   "metadata": {},
   "source": [
    "#### Q4. A researcher is interested in examining the relationship between the number of hours individuals spend watching television per day and their level of physical activity. The researcher collected data on both variables from a sample of 50 participants. Calculate the Pearson correlation coefficient between these two variables."
   ]
  },
  {
   "cell_type": "markdown",
   "id": "5257664e",
   "metadata": {},
   "source": [
    "Let x be the number of hours spent watching TV per day, and y be the level of physical activity.\n",
    "\n",
    "1.calculate the mean and standard deviation for each variable.\n",
    "\n",
    "2.calcuate the covariance between two variable.\n",
    "\n",
    "Cov(x,y) = Σ[(xᵢ - x̄)(yᵢ - ȳ)] / (n - 1)\n",
    "\n",
    "3.cacluate the pearson correlation coefficient.\n",
    "\n",
    "r = Cov(x,y)/(std(x),std(y))\n",
    "\n",
    "the resulting r value will be between -1 to 1.\n",
    "\n",
    "where value 1 represents perfect positive linear relationship and value -1 represents perfect negative linear reltionship.\n",
    "\n",
    "if the pearson correlation coefficient is positive then there is positive linear relationship between watching time and physical activity. other wise there is negative linear relationship between study watching time and physical activity."
   ]
  },
  {
   "cell_type": "markdown",
   "id": "98fae057",
   "metadata": {},
   "source": [
    "#### Q5. A survey was conducted to examine the relationship between age and preference for a particular brand of soft drink. The survey results are shown below:"
   ]
  },
  {
   "cell_type": "markdown",
   "id": "ac09b3fd",
   "metadata": {},
   "source": [
    "H0: There is no relationship between age and preference for a particular brand of soft drink.\n",
    "\n",
    "H1: There is a relationship between age and preference for a particular brand of soft drink."
   ]
  },
  {
   "cell_type": "code",
   "execution_count": 9,
   "id": "61cf94d3",
   "metadata": {},
   "outputs": [],
   "source": [
    "import pandas as pd\n",
    "from scipy.stats import chi2_contingency"
   ]
  },
  {
   "cell_type": "code",
   "execution_count": 4,
   "id": "bf935103",
   "metadata": {},
   "outputs": [],
   "source": [
    "df = pd.DataFrame({\n",
    "    'age' : [25,42,37,19,31,28],\n",
    "    'soft_drink' : ['coke','pepsi','mountain dew','coke','pepsi','coke']\n",
    "})"
   ]
  },
  {
   "cell_type": "code",
   "execution_count": 7,
   "id": "7fba2633",
   "metadata": {},
   "outputs": [],
   "source": [
    "# Create contigency table\n",
    "con_table = pd.crosstab(df['age']>=30,df['soft_drink'])"
   ]
  },
  {
   "cell_type": "code",
   "execution_count": 8,
   "id": "03ecb58f",
   "metadata": {},
   "outputs": [
    {
     "data": {
      "text/html": [
       "<div>\n",
       "<style scoped>\n",
       "    .dataframe tbody tr th:only-of-type {\n",
       "        vertical-align: middle;\n",
       "    }\n",
       "\n",
       "    .dataframe tbody tr th {\n",
       "        vertical-align: top;\n",
       "    }\n",
       "\n",
       "    .dataframe thead th {\n",
       "        text-align: right;\n",
       "    }\n",
       "</style>\n",
       "<table border=\"1\" class=\"dataframe\">\n",
       "  <thead>\n",
       "    <tr style=\"text-align: right;\">\n",
       "      <th>soft_drink</th>\n",
       "      <th>coke</th>\n",
       "      <th>mountain dew</th>\n",
       "      <th>pepsi</th>\n",
       "    </tr>\n",
       "    <tr>\n",
       "      <th>age</th>\n",
       "      <th></th>\n",
       "      <th></th>\n",
       "      <th></th>\n",
       "    </tr>\n",
       "  </thead>\n",
       "  <tbody>\n",
       "    <tr>\n",
       "      <th>False</th>\n",
       "      <td>3</td>\n",
       "      <td>0</td>\n",
       "      <td>0</td>\n",
       "    </tr>\n",
       "    <tr>\n",
       "      <th>True</th>\n",
       "      <td>0</td>\n",
       "      <td>1</td>\n",
       "      <td>2</td>\n",
       "    </tr>\n",
       "  </tbody>\n",
       "</table>\n",
       "</div>"
      ],
      "text/plain": [
       "soft_drink  coke  mountain dew  pepsi\n",
       "age                                  \n",
       "False          3             0      0\n",
       "True           0             1      2"
      ]
     },
     "execution_count": 8,
     "metadata": {},
     "output_type": "execute_result"
    }
   ],
   "source": [
    "con_table"
   ]
  },
  {
   "cell_type": "code",
   "execution_count": 10,
   "id": "f2392ae7",
   "metadata": {},
   "outputs": [],
   "source": [
    "chi2, p_val, dof, excepted = chi2_contingency(con_table)"
   ]
  },
  {
   "cell_type": "code",
   "execution_count": 11,
   "id": "1d491616",
   "metadata": {},
   "outputs": [
    {
     "name": "stdout",
     "output_type": "stream",
     "text": [
      "We reject null hypothesis.\n"
     ]
    }
   ],
   "source": [
    "if chi2 > p_val:\n",
    "    print('We reject null hypothesis.')\n",
    "else:\n",
    "    print('We failed to reject the null hypothesis.')"
   ]
  },
  {
   "cell_type": "code",
   "execution_count": 12,
   "id": "ba0bf49e",
   "metadata": {},
   "outputs": [
    {
     "data": {
      "text/plain": [
       "6.0"
      ]
     },
     "execution_count": 12,
     "metadata": {},
     "output_type": "execute_result"
    }
   ],
   "source": [
    "chi2"
   ]
  },
  {
   "cell_type": "code",
   "execution_count": 13,
   "id": "bfd5e15b",
   "metadata": {},
   "outputs": [
    {
     "data": {
      "text/plain": [
       "0.04978706836786395"
      ]
     },
     "execution_count": 13,
     "metadata": {},
     "output_type": "execute_result"
    }
   ],
   "source": [
    "p_val"
   ]
  },
  {
   "cell_type": "markdown",
   "id": "e5d4ec33",
   "metadata": {},
   "source": [
    "#### Q.6 A company is interested in examining the relationship between the number of sales calls made per day and the number of sales made per week. The company collected data on both variables from a sample of 30 sales representatives. Calculate the Pearson correlation coefficient between these two variables."
   ]
  },
  {
   "cell_type": "code",
   "execution_count": 14,
   "id": "754f20f4",
   "metadata": {},
   "outputs": [],
   "source": [
    "import numpy as np"
   ]
  },
  {
   "cell_type": "code",
   "execution_count": 15,
   "id": "1501726c",
   "metadata": {},
   "outputs": [],
   "source": [
    "sales_calls = [20, 24, 16, 22, 18, 25, 21, 19, 17, 23,\n",
    "               20, 24, 16, 22, 18, 25, 21, 19, 17, 23,\n",
    "               20, 24, 16, 22, 18, 25, 21, 19, 17, 23]\n",
    "sales_made = [3, 4, 2, 3, 3, 5, 4, 3, 2, 4,\n",
    "              3, 4, 2, 3, 3, 5, 4, 3, 2, 4,\n",
    "              3, 4, 2, 3, 3, 5, 4, 3, 2, 4]"
   ]
  },
  {
   "cell_type": "code",
   "execution_count": 16,
   "id": "392e8649",
   "metadata": {},
   "outputs": [],
   "source": [
    "mean_calls = np.mean(sales_calls)\n",
    "std_calls = np.std(sales_calls)\n",
    "mean_sales = np.mean(sales_made)\n",
    "std_sales = np.std(sales_made)"
   ]
  },
  {
   "cell_type": "code",
   "execution_count": 17,
   "id": "4fb4b32d",
   "metadata": {},
   "outputs": [],
   "source": [
    "covariance = np.cov(sales_calls, sales_made)[0, 1]"
   ]
  },
  {
   "cell_type": "code",
   "execution_count": 18,
   "id": "da545a92",
   "metadata": {},
   "outputs": [],
   "source": [
    "# Calculate the Pearson correlation coefficient\n",
    "r = covariance / (std_calls * std_sales)"
   ]
  },
  {
   "cell_type": "code",
   "execution_count": 19,
   "id": "9ae76a2b",
   "metadata": {},
   "outputs": [
    {
     "data": {
      "text/plain": [
       "0.9404195206802066"
      ]
     },
     "execution_count": 19,
     "metadata": {},
     "output_type": "execute_result"
    }
   ],
   "source": [
    "r"
   ]
  },
  {
   "cell_type": "markdown",
   "id": "c660124b",
   "metadata": {},
   "source": [
    "As you can see r is positive and which represent the strong pearson correlation between two variable."
   ]
  },
  {
   "cell_type": "code",
   "execution_count": null,
   "id": "4a139c19",
   "metadata": {},
   "outputs": [],
   "source": []
  }
 ],
 "metadata": {
  "kernelspec": {
   "display_name": "Python 3 (ipykernel)",
   "language": "python",
   "name": "python3"
  },
  "language_info": {
   "codemirror_mode": {
    "name": "ipython",
    "version": 3
   },
   "file_extension": ".py",
   "mimetype": "text/x-python",
   "name": "python",
   "nbconvert_exporter": "python",
   "pygments_lexer": "ipython3",
   "version": "3.11.2"
  }
 },
 "nbformat": 4,
 "nbformat_minor": 5
}
