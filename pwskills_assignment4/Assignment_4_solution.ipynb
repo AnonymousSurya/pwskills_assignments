{
 "cells": [
  {
   "cell_type": "markdown",
   "id": "2f74c524-61e4-4082-8d95-0cee8106f60f",
   "metadata": {},
   "source": [
    "### 1)\n",
    "\n",
    "#### \"def\" keyword is used to create a function.\n",
    "##### code for a function to return a list of odd numbers in the range of 1 to 25 is given below."
   ]
  },
  {
   "cell_type": "code",
   "execution_count": 17,
   "id": "ad41a4e8-d6b8-4080-8252-22935ccf631d",
   "metadata": {},
   "outputs": [],
   "source": [
    "def odd_no(a,b):\n",
    "    for i in range(a,b):\n",
    "        if i%2 == 1 and i >= 0:\n",
    "            print(i)"
   ]
  },
  {
   "cell_type": "code",
   "execution_count": 13,
   "id": "c7e190e5-5e3b-439a-8fa5-41b54e4572a1",
   "metadata": {},
   "outputs": [
    {
     "name": "stdout",
     "output_type": "stream",
     "text": [
      "1\n",
      "3\n",
      "5\n",
      "7\n",
      "9\n",
      "11\n",
      "13\n",
      "15\n",
      "17\n",
      "19\n",
      "21\n",
      "23\n"
     ]
    }
   ],
   "source": [
    "odd_no(1,25)"
   ]
  },
  {
   "cell_type": "markdown",
   "id": "11a020db-34bb-4baf-94f1-2c616ad4fea6",
   "metadata": {},
   "source": [
    "### 2)\n",
    "\n",
    "#### Python has *args which allow us to pass the variable number of non keyword arguments to function.\n",
    "\n",
    "#### In the function, we use an asterisk * before the parameter name to pass variable length arguments.The arguments are passed as a tuple and these passed arguments make tuple inside the function with same name as the parameter excluding asterisk *.   Example--->"
   ]
  },
  {
   "cell_type": "code",
   "execution_count": 14,
   "id": "6cb55691-b9db-4738-8220-5fd16992c2c7",
   "metadata": {},
   "outputs": [],
   "source": [
    "def adder(*num):\n",
    "    sum = 0\n",
    "    \n",
    "    for n in num:\n",
    "        sum = sum + n\n",
    "\n",
    "    print(\"Sum:\",sum)"
   ]
  },
  {
   "cell_type": "code",
   "execution_count": 15,
   "id": "61adc2dd-e825-43fb-9c02-35d73665fbde",
   "metadata": {},
   "outputs": [
    {
     "name": "stdout",
     "output_type": "stream",
     "text": [
      "Sum: 98\n"
     ]
    }
   ],
   "source": [
    "adder(1,4,6,9,78)"
   ]
  },
  {
   "cell_type": "markdown",
   "id": "1a4033fc-b8fc-4201-8541-126f4c2d43b9",
   "metadata": {},
   "source": [
    "#### Python passes variable length non keyword argument to function using *args but we cannot use this to pass keyword argument(basically dictionaries). For this problem Python has got a solution called **kwargs, it allows us to pass the variable length of keyword arguments to the function.\n",
    "\n",
    "#### In the function, we use the double asterisk ** before the parameter name to denote this type of argument. The arguments are passed as a dictionary and these arguments make a dictionary inside function with name same as the parameter excluding double asterisk **."
   ]
  },
  {
   "cell_type": "code",
   "execution_count": 2,
   "id": "9e5e8862-082e-45a4-ba50-0c97072d25a1",
   "metadata": {},
   "outputs": [],
   "source": [
    "def intro(**data):\n",
    "    print(\"\\nData type of argument:\",type(data))\n",
    "\n",
    "    for key, value in data.items():\n",
    "        print(\"{} is {}\".format(key,value))"
   ]
  },
  {
   "cell_type": "code",
   "execution_count": 3,
   "id": "46bb9565-0740-47a1-9ed4-72374ead6c5f",
   "metadata": {},
   "outputs": [
    {
     "name": "stdout",
     "output_type": "stream",
     "text": [
      "\n",
      "Data type of argument: <class 'dict'>\n",
      "name is surya\n",
      "age is 23\n"
     ]
    }
   ],
   "source": [
    "intro(name= \"surya\", age = 23)"
   ]
  },
  {
   "cell_type": "markdown",
   "id": "03c7f321-e969-4dc2-9082-d8dc077ff730",
   "metadata": {},
   "source": [
    "### 3)\n",
    "\n",
    "#### Iterator in Python is an object that is used to iterate over iterable objects like lists, tuples, dicts, and sets.\n",
    "#### The iterator object is initialized using the iter() method. It uses the next() method for iteration."
   ]
  },
  {
   "cell_type": "code",
   "execution_count": 10,
   "id": "c4ce9acd-9c05-4567-b163-1ee5625408d1",
   "metadata": {},
   "outputs": [
    {
     "name": "stdout",
     "output_type": "stream",
     "text": [
      "2\n",
      "4\n",
      "6\n",
      "8\n",
      "10\n"
     ]
    }
   ],
   "source": [
    "lst = [2, 4, 6, 8, 10, 12, 14, 16, 18, 20]\n",
    "\n",
    "lst_iterator = iter(lst)\n",
    " \n",
    "print(next(lst_iterator))\n",
    "print(next(lst_iterator))\n",
    "print(next(lst_iterator))\n",
    "print(next(lst_iterator))\n",
    "print(next(lst_iterator))"
   ]
  },
  {
   "cell_type": "markdown",
   "id": "de6cc78a-495f-4c22-bcb7-dbe1c65b7094",
   "metadata": {},
   "source": [
    "### 4)\n",
    "\n",
    "#### Generator functions are a special kind of function that return a lazy iterator called a generator iterator. These are objects that you can loop over like a list. However, unlike lists, lazy iterators do not store their contents in memory.\n",
    "\n",
    "#### The yield keyword in Python controls the flow of a generator function. This is similar to a return statement used for returning values in Python. However, there is a difference.\n",
    "\n",
    "#### When you call a function that has a yield statement, as soon as a yield is encountered, the execution of the function halts and returns a generator iterator object instead of simply returning a value. The state of the function, which includes variable bindings, the instruction pointer, the internal stack, and a few other things, is saved.\n",
    "\n",
    "#### In other words, the yield keyword will convert an expression that is specified along with it to a generator iterator, and return it to the caller."
   ]
  },
  {
   "cell_type": "code",
   "execution_count": 19,
   "id": "5f729d96-8575-4240-b10d-efb2ee7cbd11",
   "metadata": {},
   "outputs": [],
   "source": [
    "def even_no(a,b):\n",
    "    for i in range(a,b):\n",
    "        if i%2 == 0 and i >= 0:\n",
    "            yield i"
   ]
  },
  {
   "cell_type": "code",
   "execution_count": 20,
   "id": "28045a07-bc4e-4e62-9b73-327fe86fff6e",
   "metadata": {},
   "outputs": [
    {
     "data": {
      "text/plain": [
       "<generator object even_no at 0x7fc8602c53f0>"
      ]
     },
     "execution_count": 20,
     "metadata": {},
     "output_type": "execute_result"
    }
   ],
   "source": [
    "even_no(1,20)"
   ]
  },
  {
   "cell_type": "code",
   "execution_count": 23,
   "id": "09503811-84b3-47ea-b087-679585e6817a",
   "metadata": {},
   "outputs": [
    {
     "name": "stdout",
     "output_type": "stream",
     "text": [
      "2\n",
      "4\n",
      "6\n",
      "8\n",
      "10\n",
      "12\n",
      "14\n",
      "16\n",
      "18\n"
     ]
    }
   ],
   "source": [
    "for i in even_no(1,20):\n",
    "    print(i)"
   ]
  },
  {
   "cell_type": "markdown",
   "id": "75a82656-d94d-478c-ade4-007dfc895b72",
   "metadata": {},
   "source": [
    "### 5)\n",
    "\n"
   ]
  },
  {
   "cell_type": "code",
   "execution_count": 18,
   "id": "ab170d5b-8f3e-4efc-af1c-8171b42a7af4",
   "metadata": {},
   "outputs": [],
   "source": [
    "def prime_no(a,b):\n",
    "    for i in range(a,b): \n",
    "        for j in range(2,b):\n",
    "            if i%j == 0:\n",
    "                break\n",
    "        if i == j:\n",
    "            yield i"
   ]
  },
  {
   "cell_type": "code",
   "execution_count": 37,
   "id": "e818da62-8b07-42d1-98ca-20c97935c044",
   "metadata": {},
   "outputs": [],
   "source": [
    "lst = iter(prime_no(1,1000))"
   ]
  },
  {
   "cell_type": "code",
   "execution_count": 38,
   "id": "fe0482e3-105e-4abf-8611-9015af258e9f",
   "metadata": {},
   "outputs": [
    {
     "name": "stdout",
     "output_type": "stream",
     "text": [
      "2\n",
      "3\n",
      "5\n",
      "7\n",
      "11\n",
      "13\n",
      "17\n",
      "19\n",
      "23\n",
      "29\n",
      "31\n",
      "37\n",
      "41\n",
      "43\n",
      "47\n",
      "53\n",
      "59\n",
      "61\n",
      "67\n",
      "71\n"
     ]
    }
   ],
   "source": [
    "for i in range(20):\n",
    "    print(next(lst))\n",
    "        "
   ]
  }
 ],
 "metadata": {
  "kernelspec": {
   "display_name": "Python 3 (ipykernel)",
   "language": "python",
   "name": "python3"
  },
  "language_info": {
   "codemirror_mode": {
    "name": "ipython",
    "version": 3
   },
   "file_extension": ".py",
   "mimetype": "text/x-python",
   "name": "python",
   "nbconvert_exporter": "python",
   "pygments_lexer": "ipython3",
   "version": "3.10.8"
  }
 },
 "nbformat": 4,
 "nbformat_minor": 5
}
