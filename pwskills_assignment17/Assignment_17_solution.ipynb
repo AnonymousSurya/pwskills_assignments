{
 "cells": [
  {
   "cell_type": "markdown",
   "id": "37c1beb4-e878-42c1-8300-19c5f42ad237",
   "metadata": {},
   "source": [
    "### 1)"
   ]
  },
  {
   "cell_type": "markdown",
   "id": "ef25351c-1ec8-4c40-b573-b6d094554998",
   "metadata": {},
   "source": [
    "#### APIs are mechanisms that enable two software components to communicate with each other using a set of definitions and protocols. For example, the weather bureau’s software system contains daily weather data. The weather app on your phone “talks” to this system via APIs and shows you daily weather updates on your phone."
   ]
  },
  {
   "cell_type": "markdown",
   "id": "53bdfc4d-b5ab-47ab-bd34-a3d569c489e0",
   "metadata": {},
   "source": [
    "### 2)"
   ]
  },
  {
   "cell_type": "markdown",
   "id": "41deb21e-8a7b-46f8-a5e9-1e1b003c9318",
   "metadata": {},
   "source": [
    "#### Advantages\n",
    "\n",
    "> Applications: Access to APIs ensures more flexibility in information-transfer processes.\n",
    "\n",
    "> Reach: APIs let you create layers in apps in order to distribute information to different audiences.\n",
    "\n",
    "> Customization: Furthermore, it can serve as a solution to create different experiences for users, letting protocols, functions, and commands be adapted according to specific demands.\n",
    "\n",
    "> Efficiency: When you have content that is automatically published and made available on different channels simultaneously, APIs allow for more efficient data distribution.\n",
    "\n",
    "> Adaptability: One of the greatest benefits of APIs is the ability it has to adapt to changes through data migration and flexibility of services."
   ]
  },
  {
   "cell_type": "markdown",
   "id": "e5460f29-6335-4de3-9381-9e41038b6c47",
   "metadata": {},
   "source": [
    "#### Disadvantages\n",
    "\n",
    "> As a single point of entry, an API is a gateway and can become a hacker's primary target. Once the API is compromised, all other applications and systems become vulnerable.\n"
   ]
  },
  {
   "cell_type": "markdown",
   "id": "a52cdee1-458c-4315-9ccc-eb4fa4ba6a50",
   "metadata": {},
   "source": [
    "### 3)\n"
   ]
  },
  {
   "cell_type": "markdown",
   "id": "4d6e3226-3f9b-4f29-8d0e-87964f77f3ff",
   "metadata": {},
   "source": [
    "#### Web API is an API as the name suggests, it can be accessed over the web using the HTTP protocol. It is a framework that helps you to create and develop HTTP based RESTFUL services. The web API can be developed by using different technologies such as java, ASP.NET, etc. Web API is used in either a web server or a web browser. Basically Web API is a web development concept. It is limited to Web Application’s client-side and also it does not include a web server or web browser details. If an application is to be used on a distributed system and to provide services on different devices like laptops, mobiles, etc then web API services are used. Web API is the enhanced form of the web application."
   ]
  },
  {
   "cell_type": "markdown",
   "id": "c8353e6a-0f4b-453c-9c98-bc8b3bf76880",
   "metadata": {},
   "source": [
    "#### web APIs are just subset of APIs\n",
    "\n",
    "> web APIs us http while APIs use smtp, tcp, http\n",
    "\n",
    "> A Web API services are preferable over other services to use with a native application that does not support SOAP but require web services.\n",
    "\n",
    "> For creating resource-oriented services, the web API services are the best to choose. By using HTTP or restful service, these services are established.\n",
    "\n",
    "> If you want good performance and fast development of services, the web API services are very helpful.\n",
    "\n",
    "> For developing light weighted and maintainable web services, web API services are really helpful to develop that service. It supports any text pattern like JSON, XML etc.\n",
    "\n",
    "> The devices that have tight bandwidth or having a limitation in bandwidth, then the Web API services are the best for those devices."
   ]
  },
  {
   "cell_type": "markdown",
   "id": "6d9881f9-227e-4bc4-b34e-c7f2bd67adef",
   "metadata": {},
   "source": [
    "### 4)"
   ]
  },
  {
   "cell_type": "markdown",
   "id": "02aff4df-69d8-4e61-acb4-1c6db25e7381",
   "metadata": {},
   "source": [
    "#### REST stands for REpresentational State Transfer and API stands for Application Program Interface. REST is a software architectural style that defines the set of rules to be used for creating web services. Web services which follow the REST architectural style are known as RESTful web services. It allows requesting systems to access and manipulate web resources by using a uniform and predefined set of rules. Interaction in REST based systems happen through Internet’s Hypertext Transfer Protocol (HTTP). \n",
    "\n",
    "#### A Restful system consists of a:\n",
    "\n",
    "> client who requests for the resources.\n",
    "\n",
    "> server who has the resources.\n",
    "\n",
    "#### Architectural Constraints of RESTful API: There are six architectural constraints which makes any web service are listed below:\n",
    "> Uniform Interface\n",
    "\n",
    "> Stateless\n",
    "\n",
    "> Cacheable\n",
    "\n",
    "> Client-Server\n",
    "\n",
    "> Layered System\n",
    "\n",
    "> Code on Demand"
   ]
  },
  {
   "cell_type": "markdown",
   "id": "c25b4e19-f1bd-4f0a-ba8a-7e8ef0a3f82b",
   "metadata": {},
   "source": [
    "#### SOAP is a protocol for the exchange of information in a distributed environment. SOAP messages are encoded as XML documents and can be exchanged using various underlying protocols\n",
    "#### The SOAP web services architecture is based on interactions between three components: a service provider, a service requester, and an optional service registry."
   ]
  },
  {
   "cell_type": "markdown",
   "id": "302397cc-23af-4277-aae0-f633ee0ca42e",
   "metadata": {},
   "source": [
    "#### The shortcomings of SOAP\n",
    "\n",
    "> Slow: SOAP uses XML format that must be parsed to be read. It defines many standards that must be followed while developing the SOAP applications. So it is slow and consumes more bandwidth and resource.\n",
    "\n",
    "> WSDL dependent: SOAP uses WSDL and doesn't have any other mechanism to discover the service.\n",
    "\n"
   ]
  },
  {
   "cell_type": "markdown",
   "id": "90057faa-b821-48d1-bdf9-46efbb366adc",
   "metadata": {},
   "source": [
    "### 5)"
   ]
  },
  {
   "cell_type": "markdown",
   "id": "088a950b-bbfb-49c9-88c5-3fc66adec192",
   "metadata": {},
   "source": [
    "#### difference between SOAP & REST API\n",
    "\n",
    "> SOAP stands for Simple Object Access Protocol and REST stands for Representational State Transfer.\n",
    "\n",
    "> Since SOAP is a protocol, it follows a strict standard to allow communication between the client and the server whereas REST is an architectural style that doesn’t follow any strict standard but follows six constraints defined by Roy Fielding in 2000. Those constraints are – Uniform Interface, Client-Server, Stateless, Cacheable, Layered System, Code on Demand.\n",
    "\n",
    "> SOAP uses only XML for exchanging information in its message format whereas REST is not restricted to XML and its the choice of implementer which Media-Type to use like XML, JSON, Plain-text. Moreover, REST can use SOAP protocol but SOAP cannot use REST.\n",
    "\n",
    "> On behalf of services interfaces to business logic, SOAP uses @WebService whereas REST instead of using interfaces uses URI like @Path.\n",
    "\n",
    "> SOAP is difficult to implement and it requires more bandwidth whereas REST is easy to implement and requires less bandwidth such as smartphones.\n",
    "\n",
    "> Benefits of SOAP over REST as SOAP has ACID compliance transaction. Some of the applications require transaction ability which is accepted by SOAP whereas REST lacks in it.\n",
    "\n",
    "> On the basis of Security, SOAP has SSL( Secure Socket Layer) and WS-security whereas REST has SSL and HTTPS. In the case of Bank Account Password, Card Number, etc. SOAP is preferred over REST. The security issue is all about your application requirement, you have to build security on your own. It’s about what type of protocol you use.\n",
    "\n",
    "> SOAP cannot make use of REST since SOAP is a protocol without any architectural pattern. REST can make use of SOAP because it is an architectural pattern having protocol."
   ]
  }
 ],
 "metadata": {
  "kernelspec": {
   "display_name": "Python 3 (ipykernel)",
   "language": "python",
   "name": "python3"
  },
  "language_info": {
   "codemirror_mode": {
    "name": "ipython",
    "version": 3
   },
   "file_extension": ".py",
   "mimetype": "text/x-python",
   "name": "python",
   "nbconvert_exporter": "python",
   "pygments_lexer": "ipython3",
   "version": "3.10.8"
  }
 },
 "nbformat": 4,
 "nbformat_minor": 5
}
