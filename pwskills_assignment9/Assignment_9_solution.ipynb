{
 "cells": [
  {
   "cell_type": "markdown",
   "id": "6a1ecf33-dcef-4fb5-8f67-d45e3bca4b71",
   "metadata": {},
   "source": [
    "### 1)"
   ]
  },
  {
   "cell_type": "code",
   "execution_count": 2,
   "id": "ef475945-6317-4f63-aca1-96794defb4d2",
   "metadata": {},
   "outputs": [],
   "source": [
    "class vehicle :\n",
    "    def __init__ (self, name_of_vehicle, max_speed, average_of_vehicle):\n",
    "        self.name_of_vehicle = name_of_vehicle\n",
    "        self.max_speed = max_speed\n",
    "        self.average_of_vehicle= average_of_vehicle"
   ]
  },
  {
   "cell_type": "markdown",
   "id": "73f7ab5e-305e-45a4-90ab-e73e20f9cadf",
   "metadata": {},
   "source": [
    "### 2)"
   ]
  },
  {
   "cell_type": "code",
   "execution_count": 20,
   "id": "020a0e4b-d62f-4133-bc57-5d05bfdc80a4",
   "metadata": {},
   "outputs": [],
   "source": [
    "class car(vehicle):\n",
    "    def seating_capacity(self,capacity):\n",
    "        self.capacity = capacity\n",
    "        return self.name_of_vehicle , self.capacity "
   ]
  },
  {
   "cell_type": "code",
   "execution_count": 21,
   "id": "72d5d652-cdf7-4af6-a233-54b1470d4280",
   "metadata": {},
   "outputs": [
    {
     "data": {
      "text/plain": [
       "('nissan', 5)"
      ]
     },
     "execution_count": 21,
     "metadata": {},
     "output_type": "execute_result"
    }
   ],
   "source": [
    "car1 = car(\"nissan\",70,50)\n",
    "car1.seating_capacity(5)"
   ]
  },
  {
   "cell_type": "markdown",
   "id": "35573c7b-0a48-4937-adbf-a0ee60f37bfc",
   "metadata": {},
   "source": [
    "### 3)\n",
    "#### Multiple Inheritance:\n",
    "##### When a class can be derived from more than one base class this type of inheritance is called multiple inheritances. In multiple inheritances, all the features of the base classes are inherited into the derived class."
   ]
  },
  {
   "cell_type": "code",
   "execution_count": 1,
   "id": "fa4600af-a101-4f4c-a7c6-e128f9698e17",
   "metadata": {},
   "outputs": [
    {
     "name": "stdout",
     "output_type": "stream",
     "text": [
      "Father : Surya\n",
      "Mother : Sonali\n"
     ]
    }
   ],
   "source": [
    "class Mother:\n",
    "    mothername = \"\"\n",
    " \n",
    "    def mother(self):\n",
    "        print(self.mothername)\n",
    " \n",
    " \n",
    "class Father:\n",
    "    fathername = \"\"\n",
    " \n",
    "    def father(self):\n",
    "        print(self.fathername)\n",
    " \n",
    " \n",
    "class Son(Mother, Father):\n",
    "    def parents(self):\n",
    "        print(\"Father :\", self.fathername)\n",
    "        print(\"Mother :\", self.mothername)\n",
    " \n",
    " \n",
    "s1 = Son()\n",
    "s1.fathername = \"Surya\"\n",
    "s1.mothername = \"Sonali\"\n",
    "s1.parents()"
   ]
  },
  {
   "cell_type": "markdown",
   "id": "2f9cb6ff-eb6a-4cd3-95be-d0b710a59292",
   "metadata": {},
   "source": [
    "### 4)"
   ]
  },
  {
   "cell_type": "markdown",
   "id": "381bc1b9-2efe-421c-b335-f2d9fb6d379e",
   "metadata": {},
   "source": [
    "#### Getters are the methods that are used in Object-Oriented Programming (OOPS) to access a class's private attributes. \n",
    "#### The setter is a method that is used to set the property's value. It is very useful in object-oriented programming to set the value of private attributes in a class."
   ]
  },
  {
   "cell_type": "markdown",
   "id": "44e94d4d-da6c-49b5-bd48-736f3f48a15a",
   "metadata": {},
   "source": [
    "##### We use getters & setters to add validation logic around getting and setting a value & to avoid direct access of a class field i.e. private variables cannot be accessed directly or modified by external user."
   ]
  },
  {
   "cell_type": "code",
   "execution_count": 2,
   "id": "3e2085e6-842e-49ee-be32-f2e4e97e712b",
   "metadata": {},
   "outputs": [
    {
     "name": "stdout",
     "output_type": "stream",
     "text": [
      "23\n",
      "23\n"
     ]
    }
   ],
   "source": [
    "class details:\n",
    "    def __init__(self, age = 0):\n",
    "         self._age = age\n",
    "    \n",
    "    def get_age(self):\n",
    "        return self._age\n",
    "    \n",
    "    def set_age(self, x):\n",
    "        self._age = x\n",
    "  \n",
    "Surya = details()\n",
    "  \n",
    "\n",
    "Surya.set_age(23)\n",
    "  \n",
    "print(Surya.get_age())\n",
    "  \n",
    "print(Surya._age)"
   ]
  },
  {
   "cell_type": "markdown",
   "id": "22ad2872-f040-409d-b6bb-98b6199eada7",
   "metadata": {},
   "source": [
    "### 5)"
   ]
  },
  {
   "cell_type": "markdown",
   "id": "0a36ec42-6f5f-447d-87a1-b02302946a56",
   "metadata": {},
   "source": [
    "#### Method overriding is an ability of any object-oriented programming language that allows a subclass or child class to provide a specific implementation of a method that is already provided by one of its super-classes or parent classes. When a method in a subclass has the same name, same parameters or signature and same return type(or sub-type) as a method in its super-class, then the method in the subclass is said to override the method in the super-class.\n",
    "\n",
    "#### The version of a method that is executed will be determined by the object that is used to invoke it. If an object of a parent class is used to invoke the method, then the version in the parent class will be executed, but if an object of the subclass is used to invoke the method, then the version in the child class will be executed. In other words, it is the type of the object being referred to (not the type of the reference variable) that determines which version of an overridden method will be executed."
   ]
  },
  {
   "cell_type": "code",
   "execution_count": 1,
   "id": "eb85dc1a-824c-4eda-8105-5e994b9df3c3",
   "metadata": {},
   "outputs": [
    {
     "name": "stdout",
     "output_type": "stream",
     "text": [
      "Inside Parent\n",
      "Inside Child\n"
     ]
    }
   ],
   "source": [
    "class Parent():\n",
    "      \n",
    "    def __init__(self):\n",
    "        self.value = \"Inside Parent\"\n",
    "          \n",
    "    def show(self):\n",
    "        print(self.value)\n",
    "          \n",
    "class Child(Parent):\n",
    "      \n",
    "    def __init__(self):\n",
    "        self.value = \"Inside Child\"\n",
    "        \n",
    "    def show(self):\n",
    "        print(self.value)\n",
    "          \n",
    "obj1 = Parent()\n",
    "obj2 = Child()\n",
    "  \n",
    "obj1.show()\n",
    "obj2.show()"
   ]
  }
 ],
 "metadata": {
  "kernelspec": {
   "display_name": "Python 3 (ipykernel)",
   "language": "python",
   "name": "python3"
  },
  "language_info": {
   "codemirror_mode": {
    "name": "ipython",
    "version": 3
   },
   "file_extension": ".py",
   "mimetype": "text/x-python",
   "name": "python",
   "nbconvert_exporter": "python",
   "pygments_lexer": "ipython3",
   "version": "3.10.8"
  }
 },
 "nbformat": 4,
 "nbformat_minor": 5
}
