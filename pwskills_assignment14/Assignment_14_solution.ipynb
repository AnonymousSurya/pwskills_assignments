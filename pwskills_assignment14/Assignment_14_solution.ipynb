{
 "cells": [
  {
   "cell_type": "markdown",
   "id": "c79c9213-0652-4913-a728-32d1d17837f8",
   "metadata": {},
   "source": [
    "### 1)"
   ]
  },
  {
   "cell_type": "markdown",
   "id": "1ae14768-0e91-45f6-ae50-a766cd0d3b87",
   "metadata": {},
   "source": [
    "#### Multiprocessing refers to the ability of a system to support more than one processor at the same time. Applications in a multiprocessing system are broken to smaller routines that run independently. The operating system allocates these threads to the processors improving performance of the system."
   ]
  },
  {
   "cell_type": "markdown",
   "id": "5b8be46c-fed9-45f9-bd2c-dc5507185034",
   "metadata": {},
   "source": [
    "#### Multiprocessing in Python is a built-in package that allows the system to run multiple processes simultaneously. It will enable the breaking of applications into smaller threads that can run independently. The operating system can then allocate all these threads or processes to the processor to run them parallelly, thus improving the overall performance and efficiency.\n",
    "#### Performing multiple operations for a single processor becomes challenging. As the number of processes keeps increasing, the processor will have to halt the current process and move to the next, to keep them going. Thus, it will have to interrupt each task, thereby hampering the performance.\n",
    "#### That’s why multiprocessing in Python becomes essential. The smaller task threads make it easier to handle and manage various processes. A multiprocessing system can be represented as:\n",
    "\n",
    "> A system with more than a single central processor\n",
    "\n",
    "> A multi-core processor, i.e., a single computing unit with multiple independent core processing units\n",
    "\n",
    "> In multiprocessing, the system can divide and assign tasks to different processors."
   ]
  },
  {
   "cell_type": "markdown",
   "id": "1fd022de-5fc5-4c66-b7b3-3dd4c6175643",
   "metadata": {},
   "source": [
    "### 2)"
   ]
  },
  {
   "cell_type": "markdown",
   "id": "48c4b2e3-8504-4f4e-b04e-68e038c6e1e9",
   "metadata": {},
   "source": [
    "#### While multithreading and multiprocessing can both be used to increase the computing power of a system, there are some key differences between these approaches. Here are some of the primary ways these methods differ from one another:\n",
    "\n",
    "> Multiprocessing uses two or more CPUs to increase computing power, whereas multithreading uses a single process with multiple code segments to increase computing power.\n",
    "\n",
    "> Multithreading focuses on generating computing threads from a single process, whereas multiprocessing increases computing power by adding CPUs.\n",
    "\n",
    "> Multiprocessing is used to create a more reliable system, whereas multithreading is used to create threads that run parallel to each other.\n",
    "\n",
    "> Multithreading is quick to create and requires few resources, whereas multiprocessing requires a significant amount of time and specific resources to create.\n",
    "\n",
    "> Multiprocessing executes many processes simultaneously, whereas multithreading executes many threads simultaneously.\n",
    "Multithreading uses a common address space for all the threads, whereas multiprocessing creates a separate address space for each process."
   ]
  },
  {
   "cell_type": "markdown",
   "id": "7a86b3f0-f5f7-4813-a153-c5baa12d27d4",
   "metadata": {},
   "source": [
    "### 3)"
   ]
  },
  {
   "cell_type": "code",
   "execution_count": 1,
   "id": "38a1c40b-51c9-4444-9b95-6441a0614ea3",
   "metadata": {},
   "outputs": [
    {
     "name": "stdout",
     "output_type": "stream",
     "text": [
      "Square: 100\n",
      "Cube: 1000\n",
      "Done!\n"
     ]
    }
   ],
   "source": [
    "import multiprocessing\n",
    "\n",
    "def print_cube(num):\n",
    "\t\n",
    "\tprint(\"Cube: {}\".format(num * num * num))\n",
    "\n",
    "def print_square(num):\n",
    "\t\n",
    "\tprint(\"Square: {}\".format(num * num))\n",
    "\n",
    "if __name__ == \"__main__\":\n",
    "\t\n",
    "\tp1 = multiprocessing.Process(target=print_square, args=(10, ))\n",
    "\tp2 = multiprocessing.Process(target=print_cube, args=(10, ))\n",
    "    \n",
    "\tp1.start()\n",
    "\tp2.start()\n",
    "\n",
    "\tp1.join()\n",
    "\tp2.join()\n",
    "\n",
    "\tprint(\"Done!\")"
   ]
  },
  {
   "cell_type": "markdown",
   "id": "84297b92-f35e-4624-981b-95241301ac77",
   "metadata": {},
   "source": [
    "### 4)"
   ]
  },
  {
   "cell_type": "markdown",
   "id": "e6231cbf-9f70-4dae-a263-29d5eac4fe24",
   "metadata": {},
   "source": [
    "#### A process pool is a programming pattern for automatically managing a pool of worker processes.\n",
    "\n",
    "#### The pool is responsible for a fixed number of processes.\n",
    "\n",
    "#### It controls when they are created, such as when they are needed. It also controls what they should do when they are not being used, such as making them wait without consuming computational resources. The pool can provide a generic interface for executing ad hoc tasks with a variable number of arguments, much like the target property on the Process object, but does not require that we choose a process to run the task, start the process, or wait for the task to complete.\n",
    "#### The multiprocessing.pool.Pool class provides a process pool in Python. It allows tasks to be submitted as functions to the process pool to be executed concurrently."
   ]
  },
  {
   "cell_type": "markdown",
   "id": "3d77f4af-88a9-40de-a7ba-0a20466c10df",
   "metadata": {},
   "source": [
    "#### Each process that is created requires the application of resources (e.g. an instance of the Python interpreter and a memory for the process’s main thread’s stack space). The computational costs for setting up processes can become expensive if we are creating and destroying many processes over and over for ad hoc tasks. Instead, we would prefer to keep worker processes around for reuse if we expect to run many ad hoc tasks throughout our program.\n",
    "#### This can be achieved using a process pool."
   ]
  },
  {
   "cell_type": "markdown",
   "id": "83de0fad-e0c7-4eeb-9ec6-886de0314a04",
   "metadata": {},
   "source": [
    "### 5)"
   ]
  },
  {
   "cell_type": "markdown",
   "id": "a233e1a7-4e01-4137-828e-e99e0f9a77ab",
   "metadata": {},
   "source": [
    "#### We can configure the number of worker processes in the multiprocessing.pool.Pool by setting the “processes” argument in the constructor.By default this equals the number of logical CPUs in your system.\n",
    "\n",
    "#### Processes is the number of worker processes to use. If processes is None then the number returned by os.cpu_count() is used.\n",
    "#### For example, if we had 4 physical CPU cores with hyperthreading, this would mean we would have 8 logical CPU cores and this would be the default number of workers in the process pool.\n",
    "#### We can set the “processes” argument to specify the number of child processes to create and use as workers in the process pool.\n",
    "\n"
   ]
  },
  {
   "cell_type": "markdown",
   "id": "2926bf0b-e469-4427-aae2-25835a0849fa",
   "metadata": {},
   "source": [
    "### 6)"
   ]
  },
  {
   "cell_type": "code",
   "execution_count": 40,
   "id": "62313369-5207-4010-8e7d-334ad67779f3",
   "metadata": {},
   "outputs": [
    {
     "name": "stdout",
     "output_type": "stream",
     "text": [
      "[18, 23, 4, 15, 47, 47, 13, 27, 17, 18, 44, 28, 40, 36, 34, 49, 44, 18, 48, 1, 13, 43, 29, 24, 47, 13, 22, 20, 1, 35, 0, 35, 25, 46, 7, 28, 8, 14, 27, 1, 35, 41, 24, 22, 42, 29, 28, 24, 27, 47]\n"
     ]
    }
   ],
   "source": [
    "from multiprocessing import Pool\n",
    "import random\n",
    " \n",
    "\n",
    "def f(lst):\n",
    "    lst = [i for i in range(50)]\n",
    "    r = random.choice(lst)\n",
    "    return r\n",
    "\n",
    "if __name__ == '__main__':\n",
    "    with Pool(4) as p:\n",
    "        print(p.map(f, lst))"
   ]
  }
 ],
 "metadata": {
  "kernelspec": {
   "display_name": "Python 3 (ipykernel)",
   "language": "python",
   "name": "python3"
  },
  "language_info": {
   "codemirror_mode": {
    "name": "ipython",
    "version": 3
   },
   "file_extension": ".py",
   "mimetype": "text/x-python",
   "name": "python",
   "nbconvert_exporter": "python",
   "pygments_lexer": "ipython3",
   "version": "3.10.8"
  }
 },
 "nbformat": 4,
 "nbformat_minor": 5
}
