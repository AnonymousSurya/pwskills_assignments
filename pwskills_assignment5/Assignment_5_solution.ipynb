{
 "cells": [
  {
   "cell_type": "markdown",
   "id": "21e0dfef-3cc4-4906-a870-d32bca6278dc",
   "metadata": {},
   "source": [
    "###  1)"
   ]
  },
  {
   "cell_type": "markdown",
   "id": "7ada0d04-7941-4c10-91b9-d48943a2a37d",
   "metadata": {},
   "source": [
    "#### Estimation statistics is a branch of statistics that involves using data from a sample to make inferences about the population. The goal of estimation is to provide information about population parameters, such as the mean or proportion, based on a sample of data.\n",
    "\n",
    "#### There are two main types of estimates: point estimates and interval estimates.\n",
    "\n",
    "> Point Estimate: A point estimate is a single value that is used to estimate a population parameter. It is obtained by using a sample statistic, such as the sample mean or sample proportion, to estimate the corresponding population parameter.\n",
    "\n",
    "> Interval Estimate: An interval estimate, also called a confidence interval, is a range of values that is likely to contain the true population parameter with a certain level of confidence. It is obtained by using a sample statistic, such as the sample mean or sample proportion, to calculate an interval of values that is likely to contain the true population parameter."
   ]
  },
  {
   "cell_type": "markdown",
   "id": "780eef1d-ebff-4aec-b603-d7bdfa2b68d8",
   "metadata": {},
   "source": [
    "### 2)"
   ]
  },
  {
   "cell_type": "code",
   "execution_count": 11,
   "id": "6510a740-94cc-4c56-b143-b18907e69ab5",
   "metadata": {},
   "outputs": [],
   "source": [
    "import math\n",
    "\n",
    "def population_mean(sample_mean, sample_std, sample_size):\n",
    "    std_error = sample_std / math.sqrt(sample_size)\n",
    "    z_value = 1.96 # assume a 95% confidence level and use the corresponding z-value\n",
    "    margin_of_error = z_value * std_error \n",
    "    lower_bound = sample_mean - margin_of_error \n",
    "    upper_bound = sample_mean + margin_of_error \n",
    "    return lower_bound,upper_bound,margin_of_error"
   ]
  },
  {
   "cell_type": "code",
   "execution_count": 13,
   "id": "43f41fb5-44b0-483b-abc9-17cc6999f85d",
   "metadata": {},
   "outputs": [
    {
     "name": "stdout",
     "output_type": "stream",
     "text": [
      "Lower boundary of Population mean: 7.458422121266231 & Upper boundary is: 7.541577878733769\n"
     ]
    }
   ],
   "source": [
    "lower,upper,err = population_mean(7.5,3,20000)\n",
    "\n",
    "print(f\"Lower boundary of Population mean: {lower} & Upper boundary is: {upper}\")"
   ]
  },
  {
   "cell_type": "code",
   "execution_count": 14,
   "id": "7a734df5-03b3-4f25-b38d-9e99ebf49d2f",
   "metadata": {},
   "outputs": [
    {
     "name": "stdout",
     "output_type": "stream",
     "text": [
      "0.04157787873376899\n"
     ]
    }
   ],
   "source": [
    "print(err)"
   ]
  },
  {
   "cell_type": "markdown",
   "id": "5e26d771-c173-4650-8b7e-fae90b8b949c",
   "metadata": {},
   "source": [
    "### 3)"
   ]
  },
  {
   "cell_type": "markdown",
   "id": "d8f01d69-99d6-454a-84e1-51522136d6e9",
   "metadata": {},
   "source": [
    "#### Hypothesis testing is a statistical method used to make decisions or draw conclusions about a population based on a sample of data. It involves comparing a hypothesis or claim about a population parameter (such as a mean or proportion) with the data from a sample, in order to determine if the hypothesis is likely to be true.\n",
    "\n",
    "#### Hypothesis testing is used to test the validity of a theory or claim.\n",
    "\n",
    "> For example, in medical research, hypothesis testing can be used to determine if a new drug is effective in treating a disease by comparing its effects to a placebo. In business, hypothesis testing can be used to evaluate whether a new marketing strategy is effective in increasing sales.\n",
    "\n",
    "#### The importance of hypothesis testing lies in its ability to provide evidence for or against a theory or claim, and to help researchers make informed decisions based on data. It allows researchers to determine if an observed difference between groups or variables is statistically significant or simply due to chance, and to quantify the level of uncertainty in their findings. This can help researchers to draw conclusions that are based on evidence and minimize the risk of drawing incorrect or unsupported conclusions."
   ]
  },
  {
   "cell_type": "markdown",
   "id": "8ab7b7fe-acc9-42a2-a894-1879001c426f",
   "metadata": {},
   "source": [
    "### 4)"
   ]
  },
  {
   "cell_type": "markdown",
   "id": "e6f196bf-8f44-4613-a755-3131cdbd30c9",
   "metadata": {},
   "source": [
    "#### The null hypothesis would be:\n",
    "\n",
    "- H0: The average weight of male college students is not greater than the average weight of female college students.\n",
    "\n",
    "#### The alternative hypothesis would be:\n",
    "\n",
    "- H1: The average weight of male college students is greater than the average weight of female college students."
   ]
  },
  {
   "cell_type": "markdown",
   "id": "c9265734-2556-407f-a24f-b9fadf877aa0",
   "metadata": {},
   "source": [
    "### 5)"
   ]
  },
  {
   "cell_type": "code",
   "execution_count": 1,
   "id": "e7017ebf-2384-4e75-8e04-06122b83ed18",
   "metadata": {},
   "outputs": [
    {
     "name": "stdout",
     "output_type": "stream",
     "text": [
      "t-statistic:  -7.168548620789204\n",
      "p-value:  1.4696811711324723e-11\n",
      "Reject null hypothesis\n"
     ]
    }
   ],
   "source": [
    "import numpy as np\n",
    "from scipy.stats import ttest_ind\n",
    "\n",
    "# create two random samples\n",
    "sample1 = np.random.normal(10, 2, 100)\n",
    "sample2 = np.random.normal(12, 2, 100)\n",
    "\n",
    "t_stat, p_val = ttest_ind(sample1, sample2)\n",
    "\n",
    "print(\"t-statistic: \", t_stat)\n",
    "print(\"p-value: \", p_val)\n",
    "\n",
    "# check if p-value is significant at 5% level\n",
    "if p_val < 0.05:\n",
    "    print(\"Reject null hypothesis\")\n",
    "else:\n",
    "    print(\"Fail to reject null hypothesis\")"
   ]
  },
  {
   "cell_type": "markdown",
   "id": "47a37e99-ec15-4a43-9e1a-eb07b9778c68",
   "metadata": {},
   "source": [
    "### 6)"
   ]
  },
  {
   "cell_type": "markdown",
   "id": "5e8a0756-5ed3-4553-9f14-f041a66ad3ab",
   "metadata": {},
   "source": [
    "####  The null hypothesis (H0) states that there is no significant difference between two populations or variables. It is often the default or conventional position and is tested against the alternative hypothesis. In other words, it is the claim that researchers aim to reject or fail to reject based on the evidence from the data.\n",
    "\n",
    "####  The alternative hypothesis (H1) is the complement of the null hypothesis and states that there is a significant difference between two populations or variables. It represents the claim that researchers seek to support or prove based on the evidence from the data.\n",
    "\n",
    "##### Examples:\n",
    "\n",
    "> Null hypothesis: The average IQ scores of two groups of students are equal.\n",
    "Alternative hypothesis: The average IQ score of one group of students is significantly different from the other group.\n",
    "\n",
    "> Null hypothesis: The new drug has no effect on curing a disease.\n",
    "Alternative hypothesis: The new drug is significantly more effective in curing the disease than the current drug."
   ]
  },
  {
   "cell_type": "markdown",
   "id": "380da4f9-fa56-43a1-8f3a-ed07a8e5730c",
   "metadata": {},
   "source": [
    "### 7)\n"
   ]
  },
  {
   "cell_type": "markdown",
   "id": "5efc376b-eaef-4f36-89f8-5a1b1471d8e6",
   "metadata": {},
   "source": [
    "#### The general steps involved in hypothesis testing are:\n",
    "\n",
    "- State the null and alternative hypotheses: Identify the research question and define the null and alternative hypotheses that represent the possible outcomes.\n",
    "\n",
    "- Determine the test statistic: Choose an appropriate statistical test (e.g., t-test, ANOVA, chi-square) based on the research question and data type, and calculate the test statistic using the sample data.\n",
    "\n",
    "- Set the significance level: Determine the level of significance (alpha) to use for the test. This is the probability of rejecting the null hypothesis when it is true and is typically set at 0.05.\n",
    "\n",
    "- Calculate the p-value: Calculate the probability of observing the test statistic or a more extreme value under the null hypothesis.\n",
    "\n",
    "- Make a decision: Compare the p-value to the significance level and make a decision whether to reject or fail to reject the null hypothesis. If the p-value is less than or equal to the significance level, reject the null hypothesis; otherwise, fail to reject the null hypothesis."
   ]
  },
  {
   "cell_type": "markdown",
   "id": "92472375-c23a-4573-a5b8-9c8b80285d2d",
   "metadata": {},
   "source": [
    "### 8)"
   ]
  },
  {
   "cell_type": "markdown",
   "id": "80c896cb-4464-4aea-9d34-f2dfc9b43db4",
   "metadata": {},
   "source": [
    "#### The p-value in hypothesis testing is the probability of observing a test statistic or a more extreme value, given that the null hypothesis is true. In other words, it is the probability of obtaining the observed data or more extreme data if the null hypothesis is true.\n",
    "#### The p-value provides a measure of the strength of evidence against the null hypothesis. A small p-value indicates strong evidence against the null hypothesis, while a large p-value indicates weak evidence against the null hypothesis.\n",
    "\n",
    "#### The p-value is a key component of hypothesis testing because it helps researchers make decisions about the null hypothesis. If the p-value is small (e.g., less than or equal to the significance level), it suggests that the observed data is unlikely to have occurred by chance under the null hypothesis, and the null hypothesis is rejected. If the p-value is large (e.g., greater than the significance level), it suggests that the observed data is consistent with the null hypothesis, and the null hypothesis is not rejected."
   ]
  },
  {
   "cell_type": "markdown",
   "id": "e1d6b46e-d753-4393-9d2d-be5c86e855a7",
   "metadata": {},
   "source": [
    "### 9)"
   ]
  },
  {
   "cell_type": "code",
   "execution_count": 3,
   "id": "a8bd3754-dd7e-482c-8195-943fbc27d5fe",
   "metadata": {},
   "outputs": [
    {
     "data": {
      "text/plain": [
       "(array([6.41564586e-04, 6.41564586e-04, 2.13854862e-04, 1.71083890e-03,\n",
       "        4.06324238e-03, 7.91262989e-03, 1.32590014e-02, 3.74246008e-02,\n",
       "        6.71504267e-02, 1.28099062e-01, 2.29252412e-01, 3.34469004e-01,\n",
       "        3.75315283e-01, 3.59276168e-01, 2.62827625e-01, 1.65523663e-01,\n",
       "        8.34033962e-02, 3.97770043e-02, 1.28312917e-02, 7.91262989e-03,\n",
       "        3.20782293e-03, 1.92469376e-03, 6.41564586e-04, 6.41564586e-04,\n",
       "        4.27709724e-04]),\n",
       " array([-5.91886884, -5.45126198, -4.98365512, -4.51604826, -4.04844141,\n",
       "        -3.58083455, -3.11322769, -2.64562083, -2.17801397, -1.71040712,\n",
       "        -1.24280026, -0.7751934 , -0.30758654,  0.16002031,  0.62762717,\n",
       "         1.09523403,  1.56284089,  2.03044774,  2.4980546 ,  2.96566146,\n",
       "         3.43326832,  3.90087518,  4.36848203,  4.83608889,  5.30369575,\n",
       "         5.77130261]),\n",
       " <BarContainer object of 25 artists>)"
      ]
     },
     "execution_count": 3,
     "metadata": {},
     "output_type": "execute_result"
    },
    {
     "data": {
      "image/png": "[encoded data removed]",
      "text/plain": [
       "<Figure size 640x480 with 1 Axes>"
      ]
     },
     "metadata": {},
     "output_type": "display_data"
    }
   ],
   "source": [
    "from scipy.stats import t\n",
    "import matplotlib.pyplot as plt\n",
    "\n",
    "x = t.rvs(df=10, size=10000)\n",
    "\n",
    "plt.hist(x, density=True, edgecolor='black', bins=25)"
   ]
  },
  {
   "cell_type": "markdown",
   "id": "c2b7779a-b1f6-4471-9501-a3e58d15e909",
   "metadata": {},
   "source": [
    "### 10)"
   ]
  },
  {
   "cell_type": "code",
   "execution_count": 1,
   "id": "e6f2d779-9ee3-4fb6-96b1-98b75e954fc9",
   "metadata": {},
   "outputs": [
    {
     "name": "stdout",
     "output_type": "stream",
     "text": [
      "t-test statistic: -7.461804031107316\n",
      "p-value: 2.6346102393630643e-12\n",
      "Reject the null hypothesis\n"
     ]
    }
   ],
   "source": [
    "import numpy as np\n",
    "from scipy.stats import ttest_ind\n",
    "\n",
    "sample1 = np.random.normal(10, 2, 100)\n",
    "sample2 = np.random.normal(12, 2, 100)\n",
    "\n",
    "t_statistic, p_value = ttest_ind(sample1, sample2)\n",
    "\n",
    "print(\"t-test statistic:\", t_statistic)\n",
    "print(\"p-value:\", p_value)\n",
    "\n",
    "#compare the p-value to the significance level\n",
    "alpha = 0.05\n",
    "if p_value < alpha:\n",
    "    print(\"Reject the null hypothesis\")\n",
    "else:\n",
    "    print(\"Fail to reject the null hypothesis\")"
   ]
  },
  {
   "cell_type": "markdown",
   "id": "b38eaf7a-4856-49e0-8537-306fc60e8a8c",
   "metadata": {},
   "source": [
    "### 11)"
   ]
  },
  {
   "cell_type": "markdown",
   "id": "251cb228-6d5f-4e15-bf6f-af61aa9ffbbd",
   "metadata": {},
   "source": [
    "#### Student's t distribution is a probability distribution that is used in hypothesis testing when the sample size is small and the population standard deviation is unknown. It is similar to the standard normal distribution (z-distribution), but has heavier tails, which means it has more probability in the tails and less in the center compared to the standard normal distribution. The shape of the t-distribution depends on the sample size, with smaller sample sizes resulting in a more spread-out distribution.\n",
    "\n",
    "#### The t-distribution is used in situations where the population standard deviation is unknown and must be estimated from the sample data.\n",
    "#### It is also used when the sample size is small (typically less than 30) and the population is normally distributed. The t-distribution allows for greater uncertainty in the estimate of the population standard deviation due to the smaller sample size."
   ]
  },
  {
   "cell_type": "markdown",
   "id": "54e5dab3-5bb2-48e7-93af-c8f85f9f6ffc",
   "metadata": {},
   "source": [
    "### 12)"
   ]
  },
  {
   "cell_type": "markdown",
   "id": "f1e73c95-0525-4f91-94d9-3e310ba3d98d",
   "metadata": {},
   "source": [
    "#### The t-statistic is a measure of how many standard errors the sample mean is from the hypothesized population mean, under the assumption that the population variance is unknown and must be estimated from the sample data. It is used in hypothesis testing to determine whether the difference between the sample mean and the hypothesized population mean is statistically significant.\n",
    "\n",
    "> The formula for the t-statistic is:\n",
    "- t = (x̄ - μ) / (s / √n)\n",
    "\n",
    "> where:\n",
    "\n",
    "> x̄ is the sample mean\n",
    "\n",
    "> μ is the hypothesized population mean\n",
    "\n",
    "> s is the sample standard deviation\n",
    "\n",
    "> n is the sample size\n",
    "\n",
    "> √n is the square root of the sample size"
   ]
  },
  {
   "cell_type": "markdown",
   "id": "09a9649f-6a4c-439f-abed-2362731e99a1",
   "metadata": {},
   "source": [
    "### 13)"
   ]
  },
  {
   "cell_type": "markdown",
   "id": "9839a35c-acda-4f89-b721-e594a0c0b96a",
   "metadata": {},
   "source": [
    "#### To estimate the population mean revenue with a 95% confidence interval, we can use the following formula:\n",
    "\n",
    "- Confidence Interval = sample mean ± margin of error\n",
    "\n",
    "#### where the margin of error is given by:\n",
    "\n",
    "- Margin of Error = critical value * standard error\n",
    "\n",
    "#### The standard error is the standard deviation of the sample divided by the square root of the sample size:\n",
    "\n",
    "- Standard Error = standard deviation / sqrt(sample size)\n",
    "\n",
    "#### Substituting the values given in the problem statement, we get:\n",
    "\n",
    "> Standard Error = 50 / sqrt(50) = 7.07\n",
    "\n",
    "> Margin of Error = 1.96 * 7.07 = 13.85\n",
    "\n",
    "#### Therefore, the 95% confidence interval for the population mean revenue is:\n",
    "\n",
    "> 500 ± 13.85, or (486.15, 513.85)\n",
    "\n",
    "#### We can be 95% confident that the true population mean revenue falls within this interval."
   ]
  },
  {
   "cell_type": "markdown",
   "id": "5d6c354e-bac3-4ed7-9645-322c3a94c15d",
   "metadata": {},
   "source": [
    "### 14)"
   ]
  },
  {
   "cell_type": "markdown",
   "id": "2b922fba-af7f-44b9-a5c8-3bda35d758d6",
   "metadata": {},
   "source": [
    "#### The following values are given in the question:\n",
    "\n",
    "- Population Mean = 10\n",
    "- Sample Size = n = 100\n",
    "- Sample Mean = 8\n",
    "- Standard Deviation = 3\n",
    "- Significance Level = 0.05\n",
    "- Confidence Interval = 0.95\n",
    "\n",
    "#### Our null and alternate hypothesis are as follows:\n",
    "\n",
    "> Null Hypothesis = H0 => Population Mean = 10\n",
    "\n",
    "> Alternate Hypothesis = H1 => Population Mean != 10\n",
    "\n",
    "#### From utilizing z-table the values for z-score are:\n",
    "\n",
    "- z-score = ± 1.96"
   ]
  },
  {
   "cell_type": "markdown",
   "id": "f87742a8-2527-42f4-bc34-dea055ed27a1",
   "metadata": {},
   "source": [
    "#### From formula for Z-score\n",
    "#### We got the following value:\n",
    "\n",
    "> Z-score = -6.667\n",
    "\n",
    "#### As -6.667 lies outside the region ± 1.96, that means it lies in the rejection region.\n",
    "#### So my final conclusion was:\n",
    "\n",
    "> Reject the null hypothesis"
   ]
  },
  {
   "cell_type": "markdown",
   "id": "d1f9ab49-e07e-4b77-99c8-3679ea4342ff",
   "metadata": {},
   "source": [
    "### 15)"
   ]
  },
  {
   "cell_type": "markdown",
   "id": "41e9247f-cb1b-4732-9b44-be84023c9b37",
   "metadata": {},
   "source": [
    "#### The following values are given in the question:\n",
    "\n",
    "- Population Mean = 5\n",
    "- Sample Size = n = 25\n",
    "- Sample Mean = 4.8\n",
    "- Standard Deviation = 0.5\n",
    "- Significance Level = 0.01\n",
    "- Confidence Interval = 0.99\n",
    "\n",
    "#### Our null and alternate hypothesis are as follows:\n",
    "\n",
    "> Null Hypothesis = H0 => Population Mean = 5\n",
    "\n",
    "> Alternate Hypothesis = H1 => Population Mean < 5"
   ]
  },
  {
   "cell_type": "markdown",
   "id": "e1dbb69d-9189-487d-b087-3bf2ec0b4a53",
   "metadata": {},
   "source": [
    "#### Then utilizing  z-test formula:\n",
    "#### We got the following value:\n",
    "\n",
    "- z-score= -2\n",
    "\n",
    "#### From utilizing z-table we obtained values for z-score of -2:\n",
    "\n",
    "- z-score = 0.02275\n",
    "\n",
    "#### Which also becomes my p-value:\n",
    "\n",
    "- p-value = 0.02275\n",
    "\n",
    "#### Then we checked whether p-value < significance value\n",
    "\n",
    "> 0.02775 < 0.01\n",
    "False\n",
    "\n",
    "#### So our final conclusion was:\n",
    "\n",
    "> Failed to reject null hypothesis"
   ]
  },
  {
   "cell_type": "markdown",
   "id": "96885274-5b8b-4efd-bc08-1db465485864",
   "metadata": {},
   "source": [
    "### 16)"
   ]
  },
  {
   "cell_type": "markdown",
   "id": "7b7756d6-fd65-4eae-b035-6ef33efe43c9",
   "metadata": {},
   "source": [
    "#### My null and alternate hypothesis are as follows:\n",
    "\n",
    "> Null Hypothesis = H0 => Population Mean of Group 1 = Population Mean of Group 2\n",
    "\n",
    "> Alternate Hypothesis = H1 => Population Mean of Group 1 != Population Mean of Group 2\n",
    "\n",
    "#### Then utilizing the two sample T-test formula:\n",
    "\n",
    "#### We got the value of t as:\n",
    "\n",
    "- t = 2.37\n",
    "\n",
    "#### Then We utilized t-table to look for the value of t for the following parameters:\n",
    "\n",
    "> Degrees of Freedom = 68\n",
    "\n",
    "> Significance Value = 0.01\n",
    "\n",
    "#### We got the following value of t fromt the table:\n",
    "\n",
    "- t = ± 2.638\n",
    "\n",
    "#### Since 2.37 lies in the region ±2.638 so, the final conclusion was:\n",
    "\n",
    "> Failed to reject null hypothesis\n",
    "\n",
    "> Population mean for two groups are equal"
   ]
  },
  {
   "cell_type": "markdown",
   "id": "970d1f24-a645-4526-8b29-f438f6d18cbd",
   "metadata": {},
   "source": [
    "### 17)"
   ]
  },
  {
   "cell_type": "markdown",
   "id": "bcd9feff-5e21-41ac-bf04-e70be2f69e67",
   "metadata": {},
   "source": [
    "#### To estimate the population mean with a 99% confidence interval, we can use the following formula:\n",
    "\n",
    "> CI = X̄ ± z*(σ/√n)\n",
    "\n",
    "#### Where:\n",
    "\n",
    "> X̄ = sample mean (4)\n",
    "\n",
    "> z = z-score corresponding to the confidence level (99%)\n",
    "\n",
    "> σ = population standard deviation (1.5)\n",
    "\n",
    "> n = sample size (50)\n",
    "\n",
    "#### To find the z-score, we can use a standard normal distribution table. For a 99% confidence level, the z-score is\n",
    "\n",
    "- z-score = 2.576.\n",
    "\n",
    "#### Plugging in the values, we get:\n",
    "\n",
    "> CI = 4 ± 2.576*(1.5/√50)\n",
    "\n",
    "> CI = 4 ± 0.665\n",
    "\n",
    "#### Therefore, the 99% confidence interval for the population mean of the number of ads watched by viewers during a TV program is (3.335, 4.665). We are 99% confident that the true population mean falls within this interval."
   ]
  }
 ],
 "metadata": {
  "kernelspec": {
   "display_name": "Python 3 (ipykernel)",
   "language": "python",
   "name": "python3"
  },
  "language_info": {
   "codemirror_mode": {
    "name": "ipython",
    "version": 3
   },
   "file_extension": ".py",
   "mimetype": "text/x-python",
   "name": "python",
   "nbconvert_exporter": "python",
   "pygments_lexer": "ipython3",
   "version": "3.10.8"
  }
 },
 "nbformat": 4,
 "nbformat_minor": 5
}
