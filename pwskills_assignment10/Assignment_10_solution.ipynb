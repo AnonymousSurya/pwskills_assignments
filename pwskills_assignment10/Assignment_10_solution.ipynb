{
 "cells": [
  {
   "cell_type": "markdown",
   "id": "68fe7e24-6003-4db3-b590-f21c7eb91660",
   "metadata": {},
   "source": [
    "### 1)"
   ]
  },
  {
   "cell_type": "markdown",
   "id": "1546fcfb-6eca-4a28-965a-a0a353d73db4",
   "metadata": {},
   "source": [
    "#### Opening a file refers to getting the file ready either for reading or for writing. This can be done using the open() function. This function returns a file object and takes two arguments, one that accepts the file name and another that accepts the mode(Access Mode). Now, the question arises what is the access mode? Access modes govern the type of operations possible in the opened file. It refers to how the file will be used once it’s opened. These modes also define the location of the File Handle in the file. File handle is like a cursor, which defines from where the data has to be read or written in the file. There are 6 access modes in python.\n",
    "\n",
    "> Read Only (‘r’): Open text file for reading. The handle is positioned at the beginning of the file. If the file does not exist, raises an I/O error. This is also the default mode in which the file is opened.\n",
    "\n",
    "> Read and Write (‘r+’): Open the file for reading and writing. The handle is positioned at the beginning of the file. Raises I/O error if the file does not exist.\n",
    "\n",
    "> Write Only (‘w’): Open the file for writing. For the existing files, the data is truncated and over-written. The handle is positioned at the beginning of the file. Creates the file if the file does not exist.\n",
    "\n",
    "> Write and Read (‘w+’): Open the file for reading and writing. For existing files, data is truncated and over-written. The handle is positioned at the beginning of the file.\n",
    "\n",
    "> Append Only (‘a’): Open the file for writing. The file is created if it does not exist. The handle is positioned at the end of the file. The data being written will be inserted at the end, after the existing data.\n",
    "\n",
    "> Append and Read (‘a+’): Open the file for reading and writing. The file is created if it does not exist. The handle is positioned at the end of the file. The data being written will be inserted at the end, after the existing data.\n"
   ]
  },
  {
   "cell_type": "markdown",
   "id": "e0c230c5-1307-42f5-a70f-81c61282e11b",
   "metadata": {},
   "source": [
    "### 2)"
   ]
  },
  {
   "cell_type": "markdown",
   "id": "e692a45f-8c6f-4d52-b5c7-16ea011d4dd6",
   "metadata": {},
   "source": [
    "#### The close() method closes an open file."
   ]
  },
  {
   "cell_type": "markdown",
   "id": "5c833cca-aa30-4009-969a-bba71f48b443",
   "metadata": {},
   "source": [
    "#### There are several reasons to close a file:\n",
    "\n",
    "> When you write to a file the OS doesn’t actually write to the file right away. Instead it often buffers the data in memory and writes to it when it has time, or when another process isn’t writing to the disk. You can call flush() to flush the file to the disk.\n",
    "\n",
    "> When a file is open the operating system has to keep track of it and this uses some resources. Closing the file releases the resources. On a large system running many process you can use up all of the resources to keep track of open files. This may prevent any process from opening another file. When the process ends or crashes the OS is supposed to clean up for you.\n",
    "\n",
    "> If your program crashes or hangs before closing the file, the file may not be closed correctly. This can cause you to loose all or some of the data in the file.\n",
    "\n",
    "> If another process wants to read a file, it may be prevented from reading an open file. This depends on how you open the file."
   ]
  },
  {
   "cell_type": "markdown",
   "id": "23287618-8900-439d-8ce1-375c002e9690",
   "metadata": {},
   "source": [
    "### 3)"
   ]
  },
  {
   "cell_type": "code",
   "execution_count": 41,
   "id": "6258f62f-2ddb-4bf1-b45c-31547862bdea",
   "metadata": {},
   "outputs": [],
   "source": [
    "test_file = open(\"surya.txt\",\"w\")\n",
    "test_file.write(\"I want to become a Data Scientist\")\n",
    "test_file.close()"
   ]
  },
  {
   "cell_type": "code",
   "execution_count": 42,
   "id": "a91fe229-2bae-4010-98a8-ee9ff3757a30",
   "metadata": {},
   "outputs": [],
   "source": [
    "test_file = open(\"surya.txt\" , \"r\")"
   ]
  },
  {
   "cell_type": "code",
   "execution_count": 43,
   "id": "3b81a617-6871-43c0-844a-64c4dbaf3c85",
   "metadata": {},
   "outputs": [
    {
     "data": {
      "text/plain": [
       "'I want to become a Data Scientist'"
      ]
     },
     "execution_count": 43,
     "metadata": {},
     "output_type": "execute_result"
    }
   ],
   "source": [
    "test_file.read()"
   ]
  },
  {
   "cell_type": "markdown",
   "id": "c805e143-430f-4ac5-9f57-2ead15ef3628",
   "metadata": {},
   "source": [
    "### 4)"
   ]
  },
  {
   "cell_type": "markdown",
   "id": "256bd10e-8863-4df9-afc8-ac5dc728df31",
   "metadata": {},
   "source": [
    "#### The read() method returns the specified number of bytes from the file. Default is -1 which means the whole file"
   ]
  },
  {
   "cell_type": "code",
   "execution_count": 44,
   "id": "c7b51ab8-98c6-421a-a011-4ea4ee2795c4",
   "metadata": {},
   "outputs": [
    {
     "data": {
      "text/plain": [
       "'I want'"
      ]
     },
     "execution_count": 44,
     "metadata": {},
     "output_type": "execute_result"
    }
   ],
   "source": [
    "file = open(\"surya.txt\", \"r\")\n",
    "file.read(6)"
   ]
  },
  {
   "cell_type": "markdown",
   "id": "62677376-fb72-4a34-944e-9482263123b6",
   "metadata": {},
   "source": [
    "#### Python readline() method will return a line from the file when called."
   ]
  },
  {
   "cell_type": "code",
   "execution_count": 45,
   "id": "04522686-8406-48f4-91f2-e8abf3aa356f",
   "metadata": {},
   "outputs": [
    {
     "data": {
      "text/plain": [
       "'I want to become a Data Scientist'"
      ]
     },
     "execution_count": 45,
     "metadata": {},
     "output_type": "execute_result"
    }
   ],
   "source": [
    "file = open(\"surya.txt\", \"r\")\n",
    "file.readline()"
   ]
  },
  {
   "cell_type": "markdown",
   "id": "1c51b290-0552-43e2-8cf4-0a869b927072",
   "metadata": {},
   "source": [
    "#### readlines() method will return all the lines in a file in the format of a list where each element is a line in the file."
   ]
  },
  {
   "cell_type": "code",
   "execution_count": 46,
   "id": "47f1625e-7071-43e0-a9f2-8923090d8d75",
   "metadata": {},
   "outputs": [
    {
     "data": {
      "text/plain": [
       "['I want to become a Data Scientist']"
      ]
     },
     "execution_count": 46,
     "metadata": {},
     "output_type": "execute_result"
    }
   ],
   "source": [
    "file = open(\"surya.txt\", \"r\")\n",
    "file.readlines()"
   ]
  },
  {
   "cell_type": "markdown",
   "id": "290928bb-f810-4ffa-bf03-b977d534fc09",
   "metadata": {},
   "source": [
    "### 5)"
   ]
  },
  {
   "cell_type": "markdown",
   "id": "27bfca70-a1da-4f97-aa82-eb683a5272ee",
   "metadata": {},
   "source": [
    "#### The with statement works with the open() function to open a file."
   ]
  },
  {
   "cell_type": "markdown",
   "id": "6eed8cca-eaa7-4724-b2aa-70939493b6bf",
   "metadata": {},
   "source": [
    "#### Unlike open() where you have to close the file with the close() method, the with statement closes the file for you without you telling it to. \n",
    "#### This is because the with statement calls 2 built-in methods behind the scene – __enter()__ and __exit()__. The __exit()__ method closes the file when the operation you specify is done.So the combination of with and open() is better because the with statement closes the file for you and you get to write less code."
   ]
  },
  {
   "cell_type": "markdown",
   "id": "6d6a9407-c6bd-4ea3-9aa6-8716e80b586b",
   "metadata": {},
   "source": [
    "### 6)"
   ]
  },
  {
   "cell_type": "markdown",
   "id": "aa3daced-1874-4d03-9fff-a43f30c23cdd",
   "metadata": {},
   "source": [
    "#### The write() function will write the content in the file without adding any extra characters."
   ]
  },
  {
   "cell_type": "code",
   "execution_count": 51,
   "id": "9111f12f-d39b-40e5-9d71-01df76df04ff",
   "metadata": {},
   "outputs": [
    {
     "name": "stdin",
     "output_type": "stream",
     "text": [
      "Enter the name of the employee:  surya\n",
      "Enter the name of the employee:  sonali\n"
     ]
    },
    {
     "name": "stdout",
     "output_type": "stream",
     "text": [
      "Data is written into the file.\n"
     ]
    }
   ],
   "source": [
    "file = open(\"Employees.txt\", \"w\")\n",
    "  \n",
    "for i in range(2):\n",
    "   name = input(\"Enter the name of the employee: \")\n",
    "   file.write(name)\n",
    "   file.write(\"\\n\")\n",
    "     \n",
    "file.close()\n",
    "  \n",
    "print(\"Data is written into the file.\")"
   ]
  },
  {
   "cell_type": "markdown",
   "id": "c2c47fb9-26af-460d-a7c4-cf69954c5a90",
   "metadata": {},
   "source": [
    "#### Writelines() function writes the content of a list to a file. As per the syntax, the list of strings that is passed to the writelines() function is written into the opened file. Similar to the write() function, the writelines() function does not add a newline character(\\n) to the end of the string."
   ]
  },
  {
   "cell_type": "code",
   "execution_count": 52,
   "id": "6728692e-1e6d-45cf-8020-6a5217e49682",
   "metadata": {},
   "outputs": [
    {
     "name": "stdin",
     "output_type": "stream",
     "text": [
      "Enter the name of the employee:  sonali\n",
      "Enter the name of the employee:  surya\n"
     ]
    },
    {
     "name": "stdout",
     "output_type": "stream",
     "text": [
      "Data is written into the file.\n"
     ]
    }
   ],
   "source": [
    "file1 = open(\"Employees.txt\", \"w\")\n",
    "lst = []\n",
    "for i in range(2):\n",
    "    name = input(\"Enter the name of the employee: \")\n",
    "    lst.append(name + '\\n')\n",
    "      \n",
    "file1.writelines(lst)\n",
    "file1.close()\n",
    "print(\"Data is written into the file.\") "
   ]
  }
 ],
 "metadata": {
  "kernelspec": {
   "display_name": "Python 3 (ipykernel)",
   "language": "python",
   "name": "python3"
  },
  "language_info": {
   "codemirror_mode": {
    "name": "ipython",
    "version": 3
   },
   "file_extension": ".py",
   "mimetype": "text/x-python",
   "name": "python",
   "nbconvert_exporter": "python",
   "pygments_lexer": "ipython3",
   "version": "3.10.8"
  }
 },
 "nbformat": 4,
 "nbformat_minor": 5
}
