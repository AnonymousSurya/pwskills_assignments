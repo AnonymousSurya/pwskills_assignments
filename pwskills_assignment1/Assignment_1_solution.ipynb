{
 "cells": [
  {
   "cell_type": "markdown",
   "id": "60313bfd-807c-4a61-b680-5e44a57479c7",
   "metadata": {},
   "source": [
    "##### 1- Guido van Rossum"
   ]
  },
  {
   "cell_type": "markdown",
   "id": "b313b795-570d-4419-b5ef-23427572b55f",
   "metadata": {},
   "source": [
    "##### 2-Python is a multi-paradigm programming language. Object-oriented programming and structured programming are fully supported, and many of their features support functional programming and aspect-oriented programming (including metaprogramming and metaobjects)."
   ]
  },
  {
   "cell_type": "markdown",
   "id": "1c632637-e578-4b1b-896d-d551260bba87",
   "metadata": {},
   "source": [
    "##### 3- Yes, Python is case sensitive when dealing with identifiers"
   ]
  },
  {
   "cell_type": "markdown",
   "id": "575839d4-c932-4f4f-9ff5-9c35130e459a",
   "metadata": {},
   "source": [
    "##### 4- (.py) is the correct extension for python files."
   ]
  },
  {
   "cell_type": "markdown",
   "id": "3c478289-d32a-4806-a3f3-f205a2a0eeb5",
   "metadata": {},
   "source": [
    "##### 5-  Python code is first compiled and then interpreted line by line. The compilation part is done first when we execute our code and this will generate byte code and internally this byte code gets converted by the python virtual machine(PVM) to generate the output. The compilation part is hidden from the programmer."
   ]
  },
  {
   "cell_type": "markdown",
   "id": "755723f5-a71d-4342-8abb-e51de37cd888",
   "metadata": {},
   "source": [
    "##### 6- Python uses indentation (space or tab) to define blocks of code."
   ]
  },
  {
   "cell_type": "markdown",
   "id": "31e37f55-ccb9-4eae-b318-eefd1d2b0426",
   "metadata": {},
   "source": [
    "##### 7- \"#\" is used to give single line comments in python"
   ]
  },
  {
   "cell_type": "markdown",
   "id": "75ce4a03-e23c-45a4-a0cc-f64b0fd75923",
   "metadata": {},
   "source": [
    "##### 8- To check the python version first we have to import the python_version function with  \"from platform import python_version\". Then call the function python_version() that returns a string with the version number."
   ]
  },
  {
   "cell_type": "code",
   "execution_count": 6,
   "id": "5a2dbb80-2148-42a6-bae1-dbacedd1e0f9",
   "metadata": {},
   "outputs": [
    {
     "data": {
      "text/plain": [
       "'3.10.8'"
      ]
     },
     "execution_count": 6,
     "metadata": {},
     "output_type": "execute_result"
    }
   ],
   "source": [
    "from platform import python_version\n",
    "python_version()"
   ]
  },
  {
   "cell_type": "markdown",
   "id": "b3b870eb-bd4b-4143-8165-78739f00a278",
   "metadata": {},
   "source": [
    "##### 9- Python supports the creation of anonymous functions at runtime, using a construct called \"lambda\"."
   ]
  },
  {
   "cell_type": "markdown",
   "id": "0f68f636-57a9-44d8-a733-1d628ee6bda8",
   "metadata": {},
   "source": [
    "##### 10- pip stands for \"Preferred Installer Program\"."
   ]
  },
  {
   "cell_type": "markdown",
   "id": "4159505f-6f92-464e-bf24-feda63055ada",
   "metadata": {},
   "source": [
    "##### 11- list(), dict(), bool(), int(), float(), print(), id(), type(), input() are some type of built in functions."
   ]
  },
  {
   "cell_type": "markdown",
   "id": "08481e05-a062-4e11-baef-06801bc89896",
   "metadata": {},
   "source": [
    "##### 12- An identifier can have a maximum length of 79 characters in Python."
   ]
  },
  {
   "cell_type": "markdown",
   "id": "bdf18a46-8bb2-4abe-9a64-40a2da661633",
   "metadata": {},
   "source": [
    "##### 13- Python is a high-level, interpreted, and general-purpose dynamic programming language that focuses on code readability. It generally has small programs when compared to Java and C. Python ranks among the most popular and fastest-growing languages in the world. Python is a powerful, flexible, and easy-to-use language. In addition, the python community is very active. It is used in many organizations as it supports multiple programming paradigms. It also performs automatic memory management.\n",
    "\n",
    "##### Benefits: \n",
    "> Presence of third-party modules \n",
    "\n",
    "> Extensive support libraries(NumPy for numerical calculations, Pandas for data analytics, etc.) \n",
    "\n",
    "> Open source and large active community base \n",
    "\n",
    "> Versatile, Easy to read, learn and write\n",
    "\n",
    "> User-friendly data structures \n",
    "\n",
    "> High-level language \n",
    "\n",
    "> Dynamically typed language(No need to mention data type based on the value assigned, it takes data type) \n",
    "\n",
    "> Object-Oriented and Procedural  Programming language\n",
    "\n",
    "> Portable and Interactive\n",
    "\n",
    "> Ideal for prototypes – provide more functionality with less coding\n",
    "\n",
    "> Internet of Things(IoT) Opportunities\n",
    "\n",
    "> Interpreted Language\n",
    "\n",
    "> Portable across Operating systems "
   ]
  },
  {
   "cell_type": "markdown",
   "id": "6deda935-16a1-44be-98ed-8dedbdb1472d",
   "metadata": {},
   "source": [
    "##### 14- Memory management in Python involves a private heap containing all Python objects and data structures. The management of this private heap is ensured internally by the Python memory manager. The Python memory manager has different components which deal with various dynamic storage management aspects, like sharing, segmentation, preallocation or caching.\n",
    "\n",
    "##### At the lowest level, a raw memory allocator ensures that there is enough room in the private heap for storing all Python-related data by interacting with the memory manager of the operating system. On top of the raw memory allocator, several object-specific allocators operate on the same heap and implement distinct memory management policies adapted to the peculiarities of every object type. For example, integer objects are managed differently within the heap than strings, tuples or dictionaries because integers imply different storage requirements and speed/space tradeoffs. The Python memory manager thus delegates some of the work to the object-specific allocators, but ensures that the latter operate within the bounds of the private heap."
   ]
  },
  {
   "cell_type": "markdown",
   "id": "7423a9b0-87f2-49b9-8379-ca3240cce88e",
   "metadata": {},
   "source": [
    "##### 15- Download python from the official website. After that, install it on your PC. Look for the location where PYTHON has been installed on your PC using the following command on your command prompt: cmd python. (to chech whether it has been installed or not)\n",
    "\n",
    "The Path variables can be set by the following steps\n",
    " > Right-clicking This PC and going to Properties.\n",
    "\n",
    " > Clicking on the Advanced system settings in the menu on the left.\n",
    "\n",
    " > Clicking on the Environment Variables button on the bottom right.\n",
    "\n",
    " > In the System variables section, selecting the Path variable and clicking on Edit. The next screen will show all the directories that are currently a part of the PATH variable.\n",
    "\n",
    " > Clicking on New and entering Python’s install directory."
   ]
  },
  {
   "cell_type": "markdown",
   "id": "8ea96858-d65e-43e8-9eda-151933ceea41",
   "metadata": {},
   "source": [
    "##### 16- Yes, indentation is required in python. "
   ]
  }
 ],
 "metadata": {
  "kernelspec": {
   "display_name": "Python 3 (ipykernel)",
   "language": "python",
   "name": "python3"
  },
  "language_info": {
   "codemirror_mode": {
    "name": "ipython",
    "version": 3
   },
   "file_extension": ".py",
   "mimetype": "text/x-python",
   "name": "python",
   "nbconvert_exporter": "python",
   "pygments_lexer": "ipython3",
   "version": "3.10.8"
  }
 },
 "nbformat": 4,
 "nbformat_minor": 5
}
