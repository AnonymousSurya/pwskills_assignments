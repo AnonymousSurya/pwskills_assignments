{
 "cells": [
  {
   "cell_type": "markdown",
   "id": "33227883-1438-40cc-ad55-f9368797e8bc",
   "metadata": {},
   "source": [
    "### 1)"
   ]
  },
  {
   "cell_type": "code",
   "execution_count": 1,
   "id": "f1e6db52-3d11-4f7f-81d6-b4c94f25d1f0",
   "metadata": {},
   "outputs": [
    {
     "name": "stdout",
     "output_type": "stream",
     "text": [
      "Given list: [1, 2, 3, 4, [44, 55, 66, True], False, (34, 56, 78, 89, 34), {1, 2, 3}, {1: 34, 'key2': [55, 67, 78, 89], 4: (45, 22, 61, 34)}, [56, 'data science'], 'Machine Learning']\n"
     ]
    }
   ],
   "source": [
    "list1 = [1,2,3,4, [44,55,66, True], False, (34,56,78,89,34), {1,2,3,3,2,1}, {1:34, \"key2\": [55, 67, 78, 89], 4: (45,\n",
    "22, 61, 34)}, [56, 'data science'], 'Machine Learning']\n",
    "\n",
    "print(f\"Given list: {list1}\")"
   ]
  },
  {
   "cell_type": "code",
   "execution_count": 3,
   "id": "77a5edeb-4ab2-401d-a7ec-3660fa57158d",
   "metadata": {},
   "outputs": [],
   "source": [
    "from functools import reduce"
   ]
  },
  {
   "cell_type": "code",
   "execution_count": 4,
   "id": "a53e405a-e0b2-48e0-89c8-e2190a098df0",
   "metadata": {},
   "outputs": [],
   "source": [
    "def flat_list_mul(l):\n",
    "    lst = []\n",
    "    for i in l:\n",
    "        if type(i) == int:\n",
    "            lst.append(i)\n",
    "        elif type(i) == list or type(i) == tuple or type(i) == set:\n",
    "            for j in i:\n",
    "                if type(j) == int:\n",
    "                    lst.append(j)\n",
    "        elif type(i) == dict:\n",
    "            for k in i.keys():\n",
    "                if type(k) == int:\n",
    "                    lst.append(k)\n",
    "            for m in i.values():\n",
    "                if type(m) == int:\n",
    "                    lst.append(m)\n",
    "                elif type(m) == list or type(m) == tuple or type(m) == set:\n",
    "                    for n in m:\n",
    "                        if type(n) == int:\n",
    "                            lst.append(n)\n",
    "                            \n",
    "    ans = reduce(lambda x,y: x*y,lst)\n",
    "    return ans ,lst"
   ]
  },
  {
   "cell_type": "code",
   "execution_count": 5,
   "id": "e27e5b97-3d97-49a6-aadb-277d4fc998e9",
   "metadata": {},
   "outputs": [
    {
     "name": "stdout",
     "output_type": "stream",
     "text": [
      "this is the flattened list: [1, 2, 3, 4, 44, 55, 66, 34, 56, 78, 89, 34, 1, 2, 3, 1, 4, 34, 55, 67, 78, 89, 45, 22, 61, 34, 56]\n",
      "The answer is: 4134711838987085478833841242112000\n"
     ]
    }
   ],
   "source": [
    "mul,flat_lst = flat_list_mul(list1)\n",
    "print(f\"this is the flattened list: {flat_lst}\")\n",
    "print(f\"The answer is: {mul}\")"
   ]
  },
  {
   "cell_type": "markdown",
   "id": "f6db9d48-0ec2-4c72-bc78-a7364e385dc7",
   "metadata": {},
   "source": [
    "### 2)\n"
   ]
  },
  {
   "cell_type": "code",
   "execution_count": 62,
   "id": "f41e175b-5b60-4921-b922-063291a5f158",
   "metadata": {},
   "outputs": [],
   "source": [
    "def encrypter(sen):\n",
    "    char_to_replace = {\"a\":\"z\",\"b\":\"y\",\"c\":\"x\",\" \":\"$\" }\n",
    "    for i in char_to_replace.keys():\n",
    "        sen = sen.replace(i, char_to_replace[i])\n",
    "    return sen                          \n",
    "                              "
   ]
  },
  {
   "cell_type": "code",
   "execution_count": 63,
   "id": "66b0effe-131a-4e89-8a7d-1ec5c4d01d2b",
   "metadata": {},
   "outputs": [],
   "source": [
    "sentence = \"I want to become a Data Scientist.\""
   ]
  },
  {
   "cell_type": "code",
   "execution_count": 64,
   "id": "af5acd8c-5d42-475d-86f5-8affa15b94bd",
   "metadata": {},
   "outputs": [],
   "source": [
    "encypted_sentence = encrypter(sentence.lower())"
   ]
  },
  {
   "cell_type": "code",
   "execution_count": 65,
   "id": "dffcd040-3cb0-46b0-8970-75b3528c9400",
   "metadata": {},
   "outputs": [
    {
     "name": "stdout",
     "output_type": "stream",
     "text": [
      "i$wznt$to$yexome$z$dztz$sxientist.\n"
     ]
    }
   ],
   "source": [
    "print(encypted_sentence)"
   ]
  },
  {
   "cell_type": "markdown",
   "id": "dd9eb7d2-d794-4a2c-98e5-8bc75fec3dd4",
   "metadata": {},
   "source": [
    "#### From The question it was unclear whether to only change (a,b,c) or the whole alphabet in accordance with  that logic. "
   ]
  },
  {
   "cell_type": "markdown",
   "id": "fbfa76d6-e1b2-482e-b625-7709ef37f9ed",
   "metadata": {},
   "source": [
    "#### So i only changed \"a\", \"b\", \"c\" & \" \" "
   ]
  },
  {
   "cell_type": "code",
   "execution_count": null,
   "id": "8cf51879-ce4e-4e6f-b4f4-47a5ad06a6dd",
   "metadata": {},
   "outputs": [],
   "source": []
  }
 ],
 "metadata": {
  "kernelspec": {
   "display_name": "Python 3 (ipykernel)",
   "language": "python",
   "name": "python3"
  },
  "language_info": {
   "codemirror_mode": {
    "name": "ipython",
    "version": 3
   },
   "file_extension": ".py",
   "mimetype": "text/x-python",
   "name": "python",
   "nbconvert_exporter": "python",
   "pygments_lexer": "ipython3",
   "version": "3.10.8"
  }
 },
 "nbformat": 4,
 "nbformat_minor": 5
}
