{
 "cells": [
  {
   "cell_type": "markdown",
   "id": "31d5f643-8e2d-4d58-8b4a-1cfc9677c00b",
   "metadata": {},
   "source": [
    "### 1)"
   ]
  },
  {
   "cell_type": "markdown",
   "id": "13945e10-6387-447f-875c-4a0a356697ff",
   "metadata": {},
   "source": [
    "#### Web scraping is about extracting data from the Web. Specifically, a web scraper is a tool that performs web scraping and is generally represented by a script. "
   ]
  },
  {
   "cell_type": "markdown",
   "id": "dc04dc94-9f86-4ce8-a132-fc7f1c4e54df",
   "metadata": {},
   "source": [
    "#### Whether you are a data scientist, engineer, or anybody who analyzes large amounts of datasets, the ability to scrape data from the web is a useful skill to have. Let's say you find data from the web, and there is no direct way to download it, web scraping using Python is a skill you can use to extract the data into a useful form that can be imported."
   ]
  },
  {
   "cell_type": "markdown",
   "id": "5e51d3de-91ce-40d2-ad27-dccea59168f7",
   "metadata": {},
   "source": [
    "#### There are a variety of uses you can gain from web scraping, including:\n",
    "> Monitoring e-commerce prices\n",
    "\n",
    "> Finding opportunities for investment\n",
    "\n",
    "> Analyzing social media web data\n",
    "\n",
    "> Applying machine learning techniques\n",
    "\n",
    "> Gathering web data automatically\n",
    "\n",
    "> Researching new concepts in a field\n",
    "\n",
    "> Extracting contact information\n",
    "\n",
    "> Monitoring news sources\n",
    "\n",
    "> Generating sales leads"
   ]
  },
  {
   "cell_type": "markdown",
   "id": "af65a9fc-f56d-4de2-8d72-720e4c7c6178",
   "metadata": {},
   "source": [
    "### 2)"
   ]
  },
  {
   "cell_type": "markdown",
   "id": "3039c4af-37f2-4ec5-af98-d0871014039c",
   "metadata": {},
   "source": [
    "#### MANUAL SCRAPING\n",
    "\n",
    "> 1 - COPY-PASTING"
   ]
  },
  {
   "cell_type": "markdown",
   "id": "ed2b381d-fc72-47b9-a794-943979cbac88",
   "metadata": {},
   "source": [
    "#### AUTOMATED SCRAPING\n",
    "\n",
    "> 1 - HTML PARSING\n",
    "\n",
    "> 2 - DOM PARSING\n",
    "\n",
    "> 3 - VERTICAL AGGREGATION\n",
    "\n",
    "> 4 - XPATH\n",
    "\n",
    "> 5 - GOOGLE SHEETS\n",
    "\n",
    "> 6 - TEXT PATTERN MATCHING"
   ]
  },
  {
   "cell_type": "markdown",
   "id": "774a2f61-9e1e-4a53-8338-0c4128861932",
   "metadata": {},
   "source": [
    "### 3)"
   ]
  },
  {
   "cell_type": "markdown",
   "id": "9dda81da-ec45-4446-892b-b8ba1abb3b1c",
   "metadata": {},
   "source": [
    "#### Beautiful Soup is a Python package for parsing HTML and XML documents (including having malformed markup, i.e. non-closed tags, so named after tag soup). It creates a parse tree for parsed pages that can be used to extract data from HTML, which is useful for web scraping."
   ]
  },
  {
   "cell_type": "markdown",
   "id": "8458b500-fdbb-436f-b840-8421dd3adab1",
   "metadata": {},
   "source": [
    "#### Beautiful Soup provides simple methods for navigating, searching, and modifying a parse tree in HTML, XML files. It transforms a complex HTML document into a tree of Python objects. It also automatically converts the document to Unicode, so you don't have to think about encodings."
   ]
  },
  {
   "cell_type": "markdown",
   "id": "96dd8630-c969-4896-9c63-40f3d4bc2258",
   "metadata": {},
   "source": [
    "### 4)"
   ]
  },
  {
   "cell_type": "markdown",
   "id": "45911cc4-d334-49c8-a0b8-ebd0be07c246",
   "metadata": {},
   "source": [
    "#### Flask is a lightweight framework to build websites. It allows you to build a web application by providing tools, libraries, and technologies. Flask is classified into a micro-framework that means it has little to no dependencies on external libraries. "
   ]
  },
  {
   "cell_type": "markdown",
   "id": "529a0cbf-02ac-4043-ac90-a4e1bc356967",
   "metadata": {},
   "source": [
    "#### There are impressive features to use the flask in our web scrapping project. such as :- \n",
    "\n",
    "> Built-in development server and fast debugger\n",
    "\n",
    "\n",
    "> flask gives you some premier control to develop your project.\n",
    "\n",
    "> HTTP request handling function\n",
    "\n",
    "> Flask has a modular design and lightweight so that it can easy to transit into web framework with some extension\n",
    "\n",
    "> Highly flexible\n",
    "\n",
    "> It is easy to deploy the flask in production"
   ]
  },
  {
   "cell_type": "markdown",
   "id": "f29be640-8e0a-4552-ad0e-58a42fa771f0",
   "metadata": {},
   "source": [
    "### 5)"
   ]
  },
  {
   "cell_type": "markdown",
   "id": "fd12fb36-dc13-4050-99ee-43ea5d36ec0c",
   "metadata": {},
   "source": [
    "#### We have used 2 services in our project.\n",
    "> CodePipeline\n",
    "\n",
    "> Elastic Beanstalk"
   ]
  },
  {
   "cell_type": "markdown",
   "id": "6b3e8988-4c6e-41ee-bb8a-f6039bb992e8",
   "metadata": {},
   "source": [
    "#### AWS CodePipeline is a continuous delivery service you can use to model, visualize, and automate the steps required to release your software. You can quickly model and configure the different stages of a software release process. \n",
    "\n",
    "#### Specifically, you can:\n",
    "\n",
    "> Automate your release processes: CodePipeline fully automates your release process from end to end, starting from your source repository through build, test, and deployment. You can prevent changes from moving through a pipeline by including a manual approval action in any stage except a Source stage. You can release when you want, in the way you want, on the systems of your choice, across one instance or multiple instances.\n",
    "\n",
    "> Establish a consistent release process: Define a consistent set of steps for every code change. CodePipeline runs each stage of your release according to your criteria.\n",
    "\n",
    "> Speed up delivery while improving quality: You can automate your release process to allow your developers to test and release code incrementally and speed up the release of new features to your customers.\n",
    "\n",
    "> Use your favorite tools: You can incorporate your existing source, build, and deployment tools into your pipeline. For a full list of AWS services and third-party tools currently supported by CodePipeline, see Product and service integrations with CodePipeline.\n",
    "\n",
    "> View progress at a glance: You can review real-time status of your pipelines, check the details of any alerts, retry failed actions, view details about the source revisions used in the latest pipeline execution in each stage, and manually rerun any pipeline.\n",
    "\n",
    "> View pipeline history details: You can view details about executions of a pipeline, including start and end times, run duration, and execution IDs."
   ]
  },
  {
   "cell_type": "markdown",
   "id": "5241a477-8e9b-4cae-bcfd-58fe3ea6b644",
   "metadata": {},
   "source": [
    "#### Elastic Beanstalk: \n",
    "> With Elastic Beanstalk, you can quickly deploy and manage applications in the AWS Cloud without having to learn about the infrastructure that runs those applications. Elastic Beanstalk reduces management complexity without restricting choice or control. You simply upload your application, and Elastic Beanstalk automatically handles the details of capacity provisioning, load balancing, scaling, and application health monitoring.\n",
    "\n",
    "> Elastic Beanstalk supports applications developed in Go, Java, .NET, Node.js, PHP, Python, and Ruby. When you deploy your application, Elastic Beanstalk builds the selected supported platform version and provisions one or more AWS resources, such as Amazon EC2 instances, to run your application."
   ]
  }
 ],
 "metadata": {
  "kernelspec": {
   "display_name": "Python 3 (ipykernel)",
   "language": "python",
   "name": "python3"
  },
  "language_info": {
   "codemirror_mode": {
    "name": "ipython",
    "version": 3
   },
   "file_extension": ".py",
   "mimetype": "text/x-python",
   "name": "python",
   "nbconvert_exporter": "python",
   "pygments_lexer": "ipython3",
   "version": "3.10.8"
  }
 },
 "nbformat": 4,
 "nbformat_minor": 5
}
