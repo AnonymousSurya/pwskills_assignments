{
 "cells": [
  {
   "cell_type": "markdown",
   "id": "0cc1317c-3144-4ac7-b651-4a3cdff1434b",
   "metadata": {},
   "source": [
    "### 1->\n",
    "#### Tuples have the given characteristics:\n",
    "\n",
    ">They are indexed\n",
    "\n",
    ">Tuples are ordered\n",
    "\n",
    ">They can contain duplicate items\n",
    "\n",
    "#### Yes tuples are immutable."
   ]
  },
  {
   "cell_type": "markdown",
   "id": "d7c19fc5-8d64-4cdd-a522-d391024a5491",
   "metadata": {},
   "source": [
    "### 2-> \n",
    "#### The 2 methods for tuple data type in python - \"index\" & \"count\". Tuples have less in built functions because they are immutable so they don't have functions like add(), remove() etc like \"lists\" have."
   ]
  },
  {
   "cell_type": "markdown",
   "id": "4d868f4d-58e8-43b4-adc7-8d701cbec27c",
   "metadata": {},
   "source": [
    "### 3-> \n",
    "#### Tuple doesn't allow duplicate items inside it."
   ]
  },
  {
   "cell_type": "code",
   "execution_count": 2,
   "id": "f75b1e1f-6752-4411-94c8-ad4c0201501a",
   "metadata": {},
   "outputs": [
    {
     "name": "stdout",
     "output_type": "stream",
     "text": [
      "{1, 2, 3, 4}\n"
     ]
    }
   ],
   "source": [
    "lst = [1, 1, 1, 2, 1, 3, 1, 4, 2, 1, 2, 2, 2, 3, 2, 4, 3, 1, 3, 2, 3, 3, 3, 4, 4, 1, 4, 2, 4, 3, 4, 4]\n",
    "st = set(lst)\n",
    "print(st)"
   ]
  },
  {
   "cell_type": "markdown",
   "id": "59cc6442-190e-4916-a048-9e328d1500f3",
   "metadata": {},
   "source": [
    "### 4->\n",
    "#### Both set.update() and set.union() perform the union operation. However, set.update() adds all missing elements to the set on which it is called whereas set.union() creates a new set. Consequently, the return value of set.update() is None (with side effects) and the return value of set.union() is a set (without side effects).\n",
    "\n",
    "#### Example->"
   ]
  },
  {
   "cell_type": "code",
   "execution_count": 9,
   "id": "65785f81-e8e1-4bbd-b9fd-e9ca8c647695",
   "metadata": {},
   "outputs": [
    {
     "name": "stdout",
     "output_type": "stream",
     "text": [
      "{1, 2, 3, 4, 5}\n"
     ]
    }
   ],
   "source": [
    "s1 = {1, 2, 3}\n",
    "s1.update({4, 5})\n",
    "print(s1)"
   ]
  },
  {
   "cell_type": "markdown",
   "id": "ded8d53a-b68b-42fb-9e7c-e65fe0c35cc1",
   "metadata": {},
   "source": [
    "##### The original set \"s1\" is modified and now contains five elements after the update. There is no return value, so you need to separately print out the set."
   ]
  },
  {
   "cell_type": "code",
   "execution_count": 10,
   "id": "002c28ae-be89-4ee2-ad3f-33be271d8fb3",
   "metadata": {},
   "outputs": [
    {
     "data": {
      "text/plain": [
       "{1, 2, 3, 4, 5}"
      ]
     },
     "execution_count": 10,
     "metadata": {},
     "output_type": "execute_result"
    }
   ],
   "source": [
    "s2 = {1, 2, 3}\n",
    "s2.union({4, 5})"
   ]
  },
  {
   "cell_type": "markdown",
   "id": "10f06e14-0a98-4e6b-a9aa-691d413b7156",
   "metadata": {},
   "source": [
    "##### Both sets remain unchanged. However, a new set has been created and this set is the return value of the operation."
   ]
  },
  {
   "cell_type": "markdown",
   "id": "c3ce9d20-9616-46e0-80b0-02dd5218d041",
   "metadata": {},
   "source": [
    "### 5-> \n",
    "#### Dictionary in Python is a collection of keys values, used to store data values like a map, which, unlike other data types which hold only a single value as an element. \n",
    "\n",
    "#### example -> "
   ]
  },
  {
   "cell_type": "code",
   "execution_count": 11,
   "id": "12807db2-044c-480d-b7fe-8b19392af52a",
   "metadata": {},
   "outputs": [
    {
     "name": "stdout",
     "output_type": "stream",
     "text": [
      "{1: 'name', 2: 'roll_no', 3: 'age'}\n"
     ]
    }
   ],
   "source": [
    "dic1 = {1: 'name', 2: 'roll_no', 3: 'age'}\n",
    "print(dic1)"
   ]
  },
  {
   "cell_type": "markdown",
   "id": "b1328cf3-798d-40e6-bd1d-52e725c619c7",
   "metadata": {},
   "source": [
    "### 6-> \n",
    "#### Yes we can have a nested dictionary.\n",
    "\n",
    "##### Here is an example-->"
   ]
  },
  {
   "cell_type": "code",
   "execution_count": 7,
   "id": "bb752b62-4eba-4832-b2d5-b4082134982c",
   "metadata": {},
   "outputs": [
    {
     "name": "stdout",
     "output_type": "stream",
     "text": [
      "{1: 'student_id', 2: {3: 'name', 4: 'roll_no'}}\n"
     ]
    }
   ],
   "source": [
    "d1 = {1:\"student_id\", 2: {3:\"name\", 4:\"roll_no\"}}\n",
    "print(d1)"
   ]
  },
  {
   "cell_type": "markdown",
   "id": "11930e39-6e66-4810-b8c3-3ecf0364b748",
   "metadata": {},
   "source": [
    "### 7->"
   ]
  },
  {
   "cell_type": "code",
   "execution_count": 3,
   "id": "35d2b37d-5479-469c-b831-75316dd7d60b",
   "metadata": {},
   "outputs": [
    {
     "name": "stdout",
     "output_type": "stream",
     "text": [
      "{'language': 'Python', 'course': 'Data Science Masters', 'topics': ['Python', 'Machine Learning', 'Deep Learning']}\n"
     ]
    }
   ],
   "source": [
    "dict1 = {'language' : 'Python', 'course': 'Data Science Masters'}\n",
    "\n",
    "dict1.setdefault('topics',['Python', 'Machine Learning' , 'Deep Learning' ])\n",
    "print(dict1)"
   ]
  },
  {
   "cell_type": "markdown",
   "id": "d30c501e-bccc-4e51-9d56-e14782e85d75",
   "metadata": {},
   "source": [
    "### 8->\n",
    "#### The 3 view objects for dictionaries are keys(), values(), items().\n"
   ]
  },
  {
   "cell_type": "code",
   "execution_count": 12,
   "id": "d91df86b-e1ca-41d0-bd52-0258f4399714",
   "metadata": {},
   "outputs": [
    {
     "name": "stdout",
     "output_type": "stream",
     "text": [
      "dict_keys(['Sport', 'Teams'])\n",
      "dict_values(['Cricket', ['India', 'Australia', 'England', 'South Africa', 'Sri Lanka', 'New Zealand']])\n",
      "dict_items([('Sport', 'Cricket'), ('Teams', ['India', 'Australia', 'England', 'South Africa', 'Sri Lanka', 'New Zealand'])])\n"
     ]
    }
   ],
   "source": [
    "dict1 = {'Sport': 'Cricket' , 'Teams': ['India', 'Australia', 'England', 'South Africa', 'Sri Lanka', 'New Zealand']}\n",
    "print(dict1.keys())\n",
    "print(dict1.values())\n",
    "print(dict1.items())"
   ]
  }
 ],
 "metadata": {
  "kernelspec": {
   "display_name": "Python 3 (ipykernel)",
   "language": "python",
   "name": "python3"
  },
  "language_info": {
   "codemirror_mode": {
    "name": "ipython",
    "version": 3
   },
   "file_extension": ".py",
   "mimetype": "text/x-python",
   "name": "python",
   "nbconvert_exporter": "python",
   "pygments_lexer": "ipython3",
   "version": "3.10.8"
  }
 },
 "nbformat": 4,
 "nbformat_minor": 5
}
