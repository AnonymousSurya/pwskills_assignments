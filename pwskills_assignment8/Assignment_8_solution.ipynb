{
 "cells": [
  {
   "cell_type": "markdown",
   "id": "9e5ef436-5c45-4314-b7e9-c8fbae28f33f",
   "metadata": {},
   "source": [
    "### 1) "
   ]
  },
  {
   "cell_type": "code",
   "execution_count": 30,
   "id": "1efb8bcb-5dc0-45ae-8cda-d0f58f570b15",
   "metadata": {},
   "outputs": [],
   "source": [
    "def check_password(password):\n",
    "    lst = []\n",
    "    low = 0\n",
    "    up = 0\n",
    "    num = 0\n",
    "    sp = 0\n",
    "    for i in password:\n",
    "        lst.append(i)\n",
    "    if len(lst) == 10:\n",
    "        for j in lst:\n",
    "            if j.isupper():\n",
    "                up+=1\n",
    "            elif j.islower():\n",
    "                low+=1\n",
    "            elif j.isnumeric():\n",
    "                num+=1\n",
    "            elif j in [\"!\",\"@\",\"#\",\"$\",\"%\",\"^\",\"&\",\"*\",\"?\",\"~\",\"/\",\"-\",\"_\",\";\",\":\"]:\n",
    "                sp+=1\n",
    "\n",
    "        if up >= 2 and low >= 2 and num >= 1 and sp >= 3:\n",
    "            print(\"<Valid Password>\")\n",
    "        else:\n",
    "            print(\"<Invalid Password>\")\n",
    "            print(\"Try again!\")\n",
    "    else:\n",
    "        print(\"<Invalid Password>\")\n",
    "        print(\"Try again!\")    "
   ]
  },
  {
   "cell_type": "code",
   "execution_count": 32,
   "id": "6df45567-3a93-4dcf-b879-50d97d17f901",
   "metadata": {},
   "outputs": [
    {
     "name": "stdin",
     "output_type": "stream",
     "text": [
      "Enter your password:  DugMom@!-0\n"
     ]
    },
    {
     "name": "stdout",
     "output_type": "stream",
     "text": [
      "<Valid Password>\n"
     ]
    }
   ],
   "source": [
    "password = input(\"Enter your password: \")\n",
    "check_password(password)"
   ]
  },
  {
   "cell_type": "markdown",
   "id": "0833fcbe-dc34-4a54-a69a-1cc66d7dc312",
   "metadata": {},
   "source": [
    "### 2)"
   ]
  },
  {
   "cell_type": "markdown",
   "id": "91899ab0-ff15-49a9-b3e4-a86182147f06",
   "metadata": {},
   "source": [
    "#### i)   Check if the string starts with a particular letter"
   ]
  },
  {
   "cell_type": "code",
   "execution_count": 9,
   "id": "ff011e54-4692-49fb-9b65-16b90fffc752",
   "metadata": {},
   "outputs": [],
   "source": [
    "particular = lambda x : x[0] == \"s\""
   ]
  },
  {
   "cell_type": "code",
   "execution_count": 10,
   "id": "a082e45d-0a11-4669-94fe-93b02a038b09",
   "metadata": {},
   "outputs": [
    {
     "name": "stdout",
     "output_type": "stream",
     "text": [
      "True\n"
     ]
    }
   ],
   "source": [
    "name = \"Surya\"\n",
    "print(particular(name.lower()))"
   ]
  },
  {
   "cell_type": "markdown",
   "id": "7e9db90d-901e-4e77-ae1c-7dd44f8d4474",
   "metadata": {},
   "source": [
    "#### ii) Check if the string is numeric."
   ]
  },
  {
   "cell_type": "code",
   "execution_count": 16,
   "id": "14a4de2f-bace-429d-bcc3-7d385d0be5b6",
   "metadata": {},
   "outputs": [],
   "source": [
    "numeric = lambda x : x.isnumeric()"
   ]
  },
  {
   "cell_type": "code",
   "execution_count": 18,
   "id": "ee919f69-13b6-4286-836c-7d91647e3626",
   "metadata": {},
   "outputs": [
    {
     "name": "stdout",
     "output_type": "stream",
     "text": [
      "False\n"
     ]
    }
   ],
   "source": [
    "sub = \"12f3\"\n",
    "print(numeric(sub))"
   ]
  },
  {
   "cell_type": "markdown",
   "id": "54ba2ef5-bc8d-4a25-a215-3c1051869b12",
   "metadata": {},
   "source": [
    "#### iii)  Sort a list of tuples having fruit names and their quantity. [(\"mango\",99),(\"orange\",80), (\"grapes\", 1000)]"
   ]
  },
  {
   "cell_type": "code",
   "execution_count": 21,
   "id": "f35d7e47-87c1-4b45-aafe-c3f526cc03ff",
   "metadata": {},
   "outputs": [
    {
     "name": "stdout",
     "output_type": "stream",
     "text": [
      "[('orange', 80), ('mango', 99), ('grapes', 1000)]\n"
     ]
    }
   ],
   "source": [
    "lst = [(\"mango\",99),(\"orange\",80), (\"grapes\", 1000)]\n",
    "lst.sort(key = lambda x : x[1])\n",
    "print(lst)"
   ]
  },
  {
   "cell_type": "markdown",
   "id": "62e3fe22-d665-4c65-ba5f-a2ffffec4d08",
   "metadata": {},
   "source": [
    "#### iv) Find the squares of numbers from 1 to 10."
   ]
  },
  {
   "cell_type": "code",
   "execution_count": 25,
   "id": "1eb03dfe-6ce0-453d-a02e-9a1475fedcd1",
   "metadata": {},
   "outputs": [
    {
     "name": "stdout",
     "output_type": "stream",
     "text": [
      "[1, 4, 9, 16, 25, 36, 49, 64, 81, 100]\n"
     ]
    }
   ],
   "source": [
    "sq = map(lambda x : x**2, range(1,11))\n",
    "print(list(sq))"
   ]
  },
  {
   "cell_type": "markdown",
   "id": "008e7941-7c97-4e30-bcab-08de8fa280b1",
   "metadata": {},
   "source": [
    "#### v) Find the cube root of numbers from 1 to 10."
   ]
  },
  {
   "cell_type": "code",
   "execution_count": 26,
   "id": "6b856390-1cd1-4827-8cb2-19439a6e8bcd",
   "metadata": {},
   "outputs": [
    {
     "name": "stdout",
     "output_type": "stream",
     "text": [
      "[1.0, 1.2599210498948732, 1.4422495703074083, 1.5874010519681994, 1.7099759466766968, 1.8171205928321397, 1.912931182772389, 2.0, 2.080083823051904, 2.154434690031884]\n"
     ]
    }
   ],
   "source": [
    "cr = map(lambda x : x**(1/3), range(1,11))\n",
    "print(list(cr))"
   ]
  },
  {
   "cell_type": "markdown",
   "id": "0a6248c8-bec4-4203-9c9a-d35fe05d34bc",
   "metadata": {},
   "source": [
    "#### vi) Check if a given number is even."
   ]
  },
  {
   "cell_type": "code",
   "execution_count": 30,
   "id": "4289ec0f-8368-4488-9804-53db7e3b272c",
   "metadata": {},
   "outputs": [
    {
     "name": "stdin",
     "output_type": "stream",
     "text": [
      "Type your number:  5\n"
     ]
    },
    {
     "data": {
      "text/plain": [
       "False"
      ]
     },
     "execution_count": 30,
     "metadata": {},
     "output_type": "execute_result"
    }
   ],
   "source": [
    "evn = lambda x : (x%2) == 0\n",
    "a = int(input(\"Type your number: \"))\n",
    "evn(a)"
   ]
  },
  {
   "cell_type": "markdown",
   "id": "0bb49109-b63e-46be-a12a-fbe2275ebdbd",
   "metadata": {},
   "source": [
    "#### vii) Filter odd numbers from the given list.\n",
    "[1,2,3,4,5,6,7,8,9,10]"
   ]
  },
  {
   "cell_type": "code",
   "execution_count": 31,
   "id": "a5fce6c2-ea4d-4f9b-8efe-8dc51f8d8301",
   "metadata": {},
   "outputs": [
    {
     "name": "stdout",
     "output_type": "stream",
     "text": [
      "[1, 3, 5, 7, 9]\n"
     ]
    }
   ],
   "source": [
    "lst = [1,2,3,4,5,6,7,8,9,10]\n",
    "odd_no = filter(lambda x : x%2 != 0, lst)\n",
    "print(list(odd_no))"
   ]
  },
  {
   "cell_type": "markdown",
   "id": "b6e645fb-f488-4db0-88e3-3e201478c82d",
   "metadata": {},
   "source": [
    "#### viii) Sort a list of integers into positive and negative integers lists.\n",
    "[1,2,3,4,5,6,-1,-2,-3,-4,-5,0]"
   ]
  },
  {
   "cell_type": "code",
   "execution_count": 48,
   "id": "09066120-cb54-487d-8f71-7abd38b494b1",
   "metadata": {},
   "outputs": [
    {
     "name": "stdout",
     "output_type": "stream",
     "text": [
      "[0, 1, 2, 3, 4, 5, 6]\n",
      "[-5, -4, -3, -2, -1]\n"
     ]
    }
   ],
   "source": [
    "lst1 = [1,2,3,4,5,6,-1,-2,-3,-4,-5,0]\n",
    "pos_lst = list(filter(lambda x : x >= 0,lst1))\n",
    "neg_lst = list(filter(lambda x : x < 0 ,lst1))\n",
    "pos_lst.sort()\n",
    "neg_lst.sort()\n",
    "print(pos_lst)\n",
    "print(neg_lst)\n"
   ]
  }
 ],
 "metadata": {
  "kernelspec": {
   "display_name": "Python 3 (ipykernel)",
   "language": "python",
   "name": "python3"
  },
  "language_info": {
   "codemirror_mode": {
    "name": "ipython",
    "version": 3
   },
   "file_extension": ".py",
   "mimetype": "text/x-python",
   "name": "python",
   "nbconvert_exporter": "python",
   "pygments_lexer": "ipython3",
   "version": "3.10.8"
  }
 },
 "nbformat": 4,
 "nbformat_minor": 5
}
