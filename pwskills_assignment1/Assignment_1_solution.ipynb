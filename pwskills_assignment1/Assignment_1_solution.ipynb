{
 "cells": [
  {
   "cell_type": "markdown",
   "id": "c1a9942f-acd4-4941-933e-925f9547a4aa",
   "metadata": {},
   "source": [
    "### 1)"
   ]
  },
  {
   "cell_type": "markdown",
   "id": "2ab64dad-b919-4ab9-a4ff-b213aa4e964f",
   "metadata": {},
   "source": [
    "#### Statistics in data science is the study of how to collect, analyze, interpret, and present data. It is a branch of mathematics that deals with the analysis of data, which can be used to gain insights, make predictions, and inform decision-making.\n",
    "\n",
    "#### In data science, statistics is used to summarize and describe data through measures such as mean, median, mode, and standard deviation. It is also used to test hypotheses and make inferences about populations based on samples of data. Additionally, statistical models are used to make predictions and identify relationships between variables."
   ]
  },
  {
   "cell_type": "markdown",
   "id": "42cc3a38-633e-4ae8-b4d1-7d0a45b74d58",
   "metadata": {},
   "source": [
    "### 2)"
   ]
  },
  {
   "cell_type": "markdown",
   "id": "a0d8a855-e068-48b6-89a7-7df8ea17a8e0",
   "metadata": {},
   "source": [
    "#### There are two major types of Statistics:\n",
    "\n",
    "#### Descriptive Statistics: \n",
    "> Descriptive statistics involves the collection, analysis, and presentation of data to summarize and describe characteristics of a dataset. It is used to provide a concise and meaningful summary of data through measures such as central tendency, variability, and shape. Descriptive statistics is generally used when data is available for the entire population of interest, or when a sample is used to estimate population parameters.\n",
    "\n",
    "> Example of descriptive statistics: A researcher collects data on the heights of 100 students in a school. The researcher uses descriptive statistics to summarize the data by calculating the mean height, standard deviation, and creating a histogram to visualize the distribution of heights.\n",
    "\n",
    "#### Inferential Statistics: \n",
    "> Inferential statistics involves making predictions or generalizations about a population based on data from a sample. It is used to draw conclusions or test hypotheses about the population using the sample data. Inferential statistics is generally used when data is not available for the entire population, and a sample is used to make inferences about the population.\n",
    "\n",
    "> Example of inferential statistics: A company wants to determine whether a new product will be successful among its target market. The company collects a sample of data from a group of customers who have purchased the product and uses inferential statistics to determine whether the data supports the conclusion that the product will be successful among the entire target market. The company may use techniques such as hypothesis testing, confidence intervals, or regression analysis to draw conclusions about the population."
   ]
  },
  {
   "cell_type": "markdown",
   "id": "b92d1448-373e-475b-9aa6-f57ca5c1077f",
   "metadata": {},
   "source": [
    "### 3)"
   ]
  },
  {
   "cell_type": "markdown",
   "id": "44cb299d-8f76-4dc7-a1a4-4191d78c22e6",
   "metadata": {},
   "source": [
    "#### The two major types of data are:\n",
    "\n",
    "#### Quantitative Data: \n",
    "> When data is collected about a variable that can be measured with numerical values, it is called quantitative data.\n",
    "\n",
    "> Examples of quantitative data include age, height, weight, and number of hours worked.\n",
    "\n",
    "#### Qualitative Data: \n",
    "> When data is collected about a variable that represents categories or attributes, it is called qualitative data.\n",
    "\n",
    "> Examples of qualitative data include gender, occupation, color, and type of car."
   ]
  },
  {
   "cell_type": "markdown",
   "id": "12fa2897-a4b0-4a8e-8799-5025ab03d4b0",
   "metadata": {},
   "source": [
    "### 4)"
   ]
  },
  {
   "cell_type": "markdown",
   "id": "821aabbd-6909-4990-905e-41a785b4bc7c",
   "metadata": {},
   "source": [
    "#### Grading in exam: A+, A, B+, B, C+, C, D, E\n",
    "> Qualitative (Categorical) Data Type\n",
    "\n",
    "#### Colour of mangoes: yellow, green, orange, red\n",
    "> Qualitative (Categorical) Data Type\n",
    "\n",
    "#### Height data of a class: [178.9, 179, 179.5, 176, 177.2, 178.3, 175.8,...]\n",
    "> Quantitative (Continuous) Data Type\n",
    "\n",
    "#### Number of mangoes exported by a farm: [500, 600, 478, 672, ...]\n",
    "> Quantitative (Discrete) Data Type"
   ]
  },
  {
   "cell_type": "markdown",
   "id": "0fcccd72-0074-4cd6-aa12-a9e9cbe4a263",
   "metadata": {},
   "source": [
    "### 5)"
   ]
  },
  {
   "cell_type": "markdown",
   "id": "1e9bf33b-a376-40ee-a0b7-df54565a33d5",
   "metadata": {},
   "source": [
    "#### Nominal Level: \n",
    "> You can categorize your data by labelling them in mutually exclusive groups, but there is no order between the categories.\n",
    "\n",
    "> Examples: City of birth, Gender, Ethnicity, Car brands, Marital status\n",
    "\n",
    "#### Ordinal Level: \n",
    "> You can categorize and rank your data in an order, but you cannot say anything about the intervals between the rankings.\n",
    "Although you can rank the top 5 Olympic medallists, this scale does not tell you how close or far apart they are in number of wins.\n",
    "\n",
    "> Examples: Top 5 Olympic medallists, Language ability (e.g., beginner, intermediate, fluent)\n",
    "\n",
    "#### Interval Level:\n",
    "> You can categorize, rank, and infer equal intervals between neighboring data points, but there is no true zero point.\n",
    "\n",
    "> For example, the difference between any two adjacent temperatures is the same: one degree. But zero degrees is defined differently depending on the scale – it doesn’t mean an absolute absence of temperature.\n",
    "Other Examples: Test scores (e.g., IQ or exams), Personality inventories, Temperature in Fahrenheit or Celsius\n",
    "\n",
    "#### Ratio Level: \n",
    "> You can categorize, rank, and infer equal intervals between neighboring data points, and there is a true zero point.\n",
    "A true zero means there is an absence of the variable of interest. In ratio scales, zero does mean an absolute lack of the variable.\n",
    "\n",
    "> For example, in the Kelvin temperature scale, there are no negative degrees of temperature – zero means an absolute lack of thermal energy.\n",
    "Other Exmaples: Height, Age, Weight"
   ]
  },
  {
   "cell_type": "markdown",
   "id": "ddefacdc-4ef7-496f-82f0-7851e62c2819",
   "metadata": {},
   "source": [
    "### 6)"
   ]
  },
  {
   "cell_type": "markdown",
   "id": "fc4eae3d-02d9-472c-8014-5f92a95d4164",
   "metadata": {},
   "source": [
    "#### Understanding the level of measurement is important when analyzing data because it determines the type of statistical analyses that can be performed on the data, as well as the appropriate way to interpret the results. Different types of statistical analysis are suited for different levels of measurement, and using an inappropriate analysis can result in inaccurate conclusions.\n",
    "\n",
    "#### If a variable is nominal, it is inappropriate to perform calculations such as mean or standard deviation, as these statistics are not meaningful for categorical data. Instead, appropriate measures for nominal data include frequency counts and percentages. If a variable is ordinal, it is appropriate to use measures such as median or mode, but not mean, as the ranking of the values does not necessarily correspond to equal intervals. If a variable is interval or ratio, all three measures (mean, median, and mode) can be used, as well as measures such as standard deviation and correlation.\n",
    "\n",
    "> An example to illustrate the importance of understanding the level of measurement is the analysis of income data. If income is measured as a nominal variable with categories such as \"less than 20,000\", \"20,000 to 40,000\", and \"more than 40,000\", it would be inappropriate to calculate the mean income, as the categories do not represent equal intervals. Instead, appropriate measures would include the frequency counts and percentages of individuals in each income category. If income is measured as a ratio variable in dollars, the mean income can be calculated and compared across different groups or time periods, and statistical tests such as t-tests or ANOVA can be used to determine whether there are significant differences in income between groups."
   ]
  },
  {
   "cell_type": "markdown",
   "id": "278292da-a4d3-4a36-97c3-c5458c1bd741",
   "metadata": {},
   "source": [
    "### 7)"
   ]
  },
  {
   "cell_type": "markdown",
   "id": "b3a3672c-f925-4d1c-acfd-a508fc972418",
   "metadata": {},
   "source": [
    "#### Nominal data is a type of categorical data where the categories are unordered and do not have any inherent ranking or order. Nominal data simply represents different categories or groups, without any implied order or hierarchy. Examples of nominal data include gender (male/female), hair color (blonde, brown, black, etc.), or political affiliation (Republican, Democrat, Independent, etc.).\n",
    "\n",
    "#### Ordinal data, on the other hand, is also a type of categorical data, but the categories have a specific order or hierarchy. In other words, the categories can be ranked in a meaningful way. Examples of ordinal data include educational level (e.g. high school, some college, bachelor's degree, master's degree, etc.), socioeconomic status (e.g. low, middle, high), or level of agreement (e.g. strongly disagree, disagree, neutral, agree, strongly agree).\n",
    "\n",
    "> The main difference between nominal and ordinal data is that ordinal data has a specific order or ranking of the categories, while nominal data does not."
   ]
  },
  {
   "cell_type": "markdown",
   "id": "f24a8261-5fdf-4ec0-91d4-4777d4cb4d0d",
   "metadata": {},
   "source": [
    "### 8)"
   ]
  },
  {
   "cell_type": "markdown",
   "id": "73f36a2f-8c38-4e68-be40-8fb756568fea",
   "metadata": {},
   "source": [
    "#### A type of plot that can be used to display data in terms of range is a box plot (also known as a box-and-whisker plot). A box plot is a graphical representation of the distribution of a set of continuous data, using five summary statistics: the minimum value, the first quartile (Q1), the median, the third quartile (Q3), and the maximum value.\n",
    "\n",
    "> For example, a box plot could be used to display the range of temperatures recorded in a city over a given period of time. The minimum and maximum values would be represented by the whiskers, and the box would represent the interquartile range (the middle 50% of the data). The median temperature would be represented by a line inside the box. This would allow for easy comparison of temperature ranges across different months or years, and also identify any unusually high or low temperatures as outliers"
   ]
  },
  {
   "cell_type": "markdown",
   "id": "f7833049-34c5-4332-a578-cc12707fb0e3",
   "metadata": {},
   "source": [
    "### 9)"
   ]
  },
  {
   "cell_type": "markdown",
   "id": "e808226d-094b-42a4-86af-88d06ab1e4af",
   "metadata": {},
   "source": [
    "#### Descriptive statistics involves summarizing and describing the main features of a data set, such as measures of central tendency (mean, median, mode) and measures of dispersion (range, standard deviation, variance). Descriptive statistics is used to provide a snapshot or summary of the data, in order to gain an understanding of the characteristics and patterns of the data set.\n",
    "\n",
    "> Examples of descriptive statistics include calculating the mean height of a group of people or the standard deviation of their weights.\n",
    "\n",
    "#### Inferential statistics, on the other hand, involves using statistical methods to make inferences or draw conclusions about a population based on a sample of data. Inferential statistics is used to test hypotheses or answer research questions, by making predictions or generalizations about a larger group based on a smaller subset of data.\n",
    "\n",
    "> Examples of inferential statistics include hypothesis testing, confidence intervals, and regression analysis."
   ]
  },
  {
   "cell_type": "markdown",
   "id": "f4d3e3c5-bdf0-4986-9d45-bebde0cbd17a",
   "metadata": {},
   "source": [
    "### 10)"
   ]
  },
  {
   "cell_type": "markdown",
   "id": "b03344a0-3a90-44ad-b63d-a6bb6133b950",
   "metadata": {},
   "source": [
    "#### Some of the common Measures of Central Tendency used in Statistics are:\n",
    "\n",
    "> Mean: The arithmetic mean, or average, is calculated by summing all the values in a dataset and dividing by the number of values. The mean is a useful measure of central tendency when the data is normally distributed and there are no extreme values or outliers.\n",
    "\n",
    "> Median: The median is the middle value in a dataset when the values are arranged in order. The median is useful when there are extreme values or outliers in the dataset, since it is not affected by these values in the same way as the mean.\n",
    "\n",
    "> Mode: The mode is the most common value in a dataset. The mode is useful when dealing with categorical data or discrete variables, where there may be several values that occur with the same frequency.\n",
    "\n",
    "#### Some of the common Measures of Variability used in Statistics are:\n",
    "\n",
    "> Range: The range is the difference between the largest and smallest values in a dataset. The range provides a simple measure of variability, but it can be sensitive to extreme values or outliers.\n",
    "\n",
    "> Variance: The variance measures the average squared deviation from the mean in a dataset. The variance is useful when you want to quantify the spread of a dataset, and it is used in many statistical tests and models.\n",
    "\n",
    "> Standard deviation: The standard deviation is the square root of the variance. The standard deviation provides a more intuitive measure of variability, since it is in the same units as the original data."
   ]
  }
 ],
 "metadata": {
  "kernelspec": {
   "display_name": "Python 3 (ipykernel)",
   "language": "python",
   "name": "python3"
  },
  "language_info": {
   "codemirror_mode": {
    "name": "ipython",
    "version": 3
   },
   "file_extension": ".py",
   "mimetype": "text/x-python",
   "name": "python",
   "nbconvert_exporter": "python",
   "pygments_lexer": "ipython3",
   "version": "3.10.8"
  }
 },
 "nbformat": 4,
 "nbformat_minor": 5
}
