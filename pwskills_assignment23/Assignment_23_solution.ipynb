{
 "cells": [
  {
   "cell_type": "markdown",
   "id": "2edc7d0e",
   "metadata": {},
   "source": [
    "#### Q1. What is the relationship between polynomial functions and kernel functions in machine learning algorithms?"
   ]
  },
  {
   "cell_type": "markdown",
   "id": "05278190",
   "metadata": {},
   "source": [
    "Polynomial functions are a class of functions that can be used to model a wide variety of relationships between variables. They are defined as functions that involve powers and coefficients of a variable, such as x^2, x^3, etc. Polynomial functions can be used to fit a curve to a set of data points, which can be useful in regression problems.\n",
    "\n",
    "Kernel functions, on the other hand, are a type of function that is used to measure the similarity between two data points. In machine learning algorithms, kernel functions are often used in support vector machines (SVMs) to transform data from a low-dimensional space to a higher-dimensional space, where it can be more easily separated. The most commonly used kernel functions in SVMs are the linear kernel, polynomial kernel, and radial basis function (RBF) kernel."
   ]
  },
  {
   "cell_type": "markdown",
   "id": "b0889876",
   "metadata": {},
   "source": [
    "#### Q2. How can we implement an SVM with a polynomial kernel in Python using Scikit-learn?"
   ]
  },
  {
   "cell_type": "code",
   "execution_count": 3,
   "id": "161aff1d",
   "metadata": {},
   "outputs": [],
   "source": [
    "# importing important library\n",
    "from sklearn import datasets\n",
    "from sklearn.model_selection import train_test_split\n",
    "from sklearn.svm import SVC"
   ]
  },
  {
   "cell_type": "code",
   "execution_count": 7,
   "id": "0ebb4e3f",
   "metadata": {},
   "outputs": [],
   "source": [
    "# loading iris dataset\n",
    "dataset = datasets.load_iris()"
   ]
  },
  {
   "cell_type": "code",
   "execution_count": 30,
   "id": "cd9c39bd",
   "metadata": {},
   "outputs": [
    {
     "data": {
      "text/html": [
       "<div>\n",
       "<style scoped>\n",
       "    .dataframe tbody tr th:only-of-type {\n",
       "        vertical-align: middle;\n",
       "    }\n",
       "\n",
       "    .dataframe tbody tr th {\n",
       "        vertical-align: top;\n",
       "    }\n",
       "\n",
       "    .dataframe thead th {\n",
       "        text-align: right;\n",
       "    }\n",
       "</style>\n",
       "<table border=\"1\" class=\"dataframe\">\n",
       "  <thead>\n",
       "    <tr style=\"text-align: right;\">\n",
       "      <th></th>\n",
       "      <th>sepal length (cm)</th>\n",
       "      <th>sepal width (cm)</th>\n",
       "      <th>petal length (cm)</th>\n",
       "      <th>petal width (cm)</th>\n",
       "      <th>Target</th>\n",
       "    </tr>\n",
       "  </thead>\n",
       "  <tbody>\n",
       "    <tr>\n",
       "      <th>0</th>\n",
       "      <td>5.1</td>\n",
       "      <td>3.5</td>\n",
       "      <td>1.4</td>\n",
       "      <td>0.2</td>\n",
       "      <td>0</td>\n",
       "    </tr>\n",
       "    <tr>\n",
       "      <th>1</th>\n",
       "      <td>4.9</td>\n",
       "      <td>3.0</td>\n",
       "      <td>1.4</td>\n",
       "      <td>0.2</td>\n",
       "      <td>0</td>\n",
       "    </tr>\n",
       "    <tr>\n",
       "      <th>2</th>\n",
       "      <td>4.7</td>\n",
       "      <td>3.2</td>\n",
       "      <td>1.3</td>\n",
       "      <td>0.2</td>\n",
       "      <td>0</td>\n",
       "    </tr>\n",
       "    <tr>\n",
       "      <th>3</th>\n",
       "      <td>4.6</td>\n",
       "      <td>3.1</td>\n",
       "      <td>1.5</td>\n",
       "      <td>0.2</td>\n",
       "      <td>0</td>\n",
       "    </tr>\n",
       "    <tr>\n",
       "      <th>4</th>\n",
       "      <td>5.0</td>\n",
       "      <td>3.6</td>\n",
       "      <td>1.4</td>\n",
       "      <td>0.2</td>\n",
       "      <td>0</td>\n",
       "    </tr>\n",
       "  </tbody>\n",
       "</table>\n",
       "</div>"
      ],
      "text/plain": [
       "   sepal length (cm)  sepal width (cm)  petal length (cm)  petal width (cm)  Target\n",
       "0                5.1               3.5                1.4               0.2       0\n",
       "1                4.9               3.0                1.4               0.2       0\n",
       "2                4.7               3.2                1.3               0.2       0\n",
       "3                4.6               3.1                1.5               0.2       0\n",
       "4                5.0               3.6                1.4               0.2       0"
      ]
     },
     "execution_count": 30,
     "metadata": {},
     "output_type": "execute_result"
    }
   ],
   "source": [
    "# creating dataframe\n",
    "import pandas as pd\n",
    "df = pd.DataFrame(data=dataset.data,columns=dataset.feature_names)\n",
    "df['Target'] = dataset.target\n",
    "df.head()"
   ]
  },
  {
   "cell_type": "code",
   "execution_count": 15,
   "id": "9618ce26",
   "metadata": {},
   "outputs": [],
   "source": [
    "# segregate the independent and dependent features\n",
    "X = df.iloc[:,:-1]\n",
    "y = df.iloc[:,-1]"
   ]
  },
  {
   "cell_type": "code",
   "execution_count": 16,
   "id": "16b6ee78",
   "metadata": {},
   "outputs": [],
   "source": [
    "# train test and split\n",
    "X_train, X_test, y_train, y_test = train_test_split(X,y,test_size=0.30,random_state=42)"
   ]
  },
  {
   "cell_type": "code",
   "execution_count": 17,
   "id": "da9ba7f1",
   "metadata": {},
   "outputs": [],
   "source": [
    "svc = SVC(kernel='poly')"
   ]
  },
  {
   "cell_type": "code",
   "execution_count": 18,
   "id": "a28eb554",
   "metadata": {},
   "outputs": [
    {
     "data": {
      "text/html": [
       "<style>#sk-container-id-1 {color: black;background-color: white;}#sk-container-id-1 pre{padding: 0;}#sk-container-id-1 div.sk-toggleable {background-color: white;}#sk-container-id-1 label.sk-toggleable__label {cursor: pointer;display: block;width: 100%;margin-bottom: 0;padding: 0.3em;box-sizing: border-box;text-align: center;}#sk-container-id-1 label.sk-toggleable__label-arrow:before {content: \"▸\";float: left;margin-right: 0.25em;color: #696969;}#sk-container-id-1 label.sk-toggleable__label-arrow:hover:before {color: black;}#sk-container-id-1 div.sk-estimator:hover label.sk-toggleable__label-arrow:before {color: black;}#sk-container-id-1 div.sk-toggleable__content {max-height: 0;max-width: 0;overflow: hidden;text-align: left;background-color: #f0f8ff;}#sk-container-id-1 div.sk-toggleable__content pre {margin: 0.2em;color: black;border-radius: 0.25em;background-color: #f0f8ff;}#sk-container-id-1 input.sk-toggleable__control:checked~div.sk-toggleable__content {max-height: 200px;max-width: 100%;overflow: auto;}#sk-container-id-1 input.sk-toggleable__control:checked~label.sk-toggleable__label-arrow:before {content: \"▾\";}#sk-container-id-1 div.sk-estimator input.sk-toggleable__control:checked~label.sk-toggleable__label {background-color: #d4ebff;}#sk-container-id-1 div.sk-label input.sk-toggleable__control:checked~label.sk-toggleable__label {background-color: #d4ebff;}#sk-container-id-1 input.sk-hidden--visually {border: 0;clip: rect(1px 1px 1px 1px);clip: rect(1px, 1px, 1px, 1px);height: 1px;margin: -1px;overflow: hidden;padding: 0;position: absolute;width: 1px;}#sk-container-id-1 div.sk-estimator {font-family: monospace;background-color: #f0f8ff;border: 1px dotted black;border-radius: 0.25em;box-sizing: border-box;margin-bottom: 0.5em;}#sk-container-id-1 div.sk-estimator:hover {background-color: #d4ebff;}#sk-container-id-1 div.sk-parallel-item::after {content: \"\";width: 100%;border-bottom: 1px solid gray;flex-grow: 1;}#sk-container-id-1 div.sk-label:hover label.sk-toggleable__label {background-color: #d4ebff;}#sk-container-id-1 div.sk-serial::before {content: \"\";position: absolute;border-left: 1px solid gray;box-sizing: border-box;top: 0;bottom: 0;left: 50%;z-index: 0;}#sk-container-id-1 div.sk-serial {display: flex;flex-direction: column;align-items: center;background-color: white;padding-right: 0.2em;padding-left: 0.2em;position: relative;}#sk-container-id-1 div.sk-item {position: relative;z-index: 1;}#sk-container-id-1 div.sk-parallel {display: flex;align-items: stretch;justify-content: center;background-color: white;position: relative;}#sk-container-id-1 div.sk-item::before, #sk-container-id-1 div.sk-parallel-item::before {content: \"\";position: absolute;border-left: 1px solid gray;box-sizing: border-box;top: 0;bottom: 0;left: 50%;z-index: -1;}#sk-container-id-1 div.sk-parallel-item {display: flex;flex-direction: column;z-index: 1;position: relative;background-color: white;}#sk-container-id-1 div.sk-parallel-item:first-child::after {align-self: flex-end;width: 50%;}#sk-container-id-1 div.sk-parallel-item:last-child::after {align-self: flex-start;width: 50%;}#sk-container-id-1 div.sk-parallel-item:only-child::after {width: 0;}#sk-container-id-1 div.sk-dashed-wrapped {border: 1px dashed gray;margin: 0 0.4em 0.5em 0.4em;box-sizing: border-box;padding-bottom: 0.4em;background-color: white;}#sk-container-id-1 div.sk-label label {font-family: monospace;font-weight: bold;display: inline-block;line-height: 1.2em;}#sk-container-id-1 div.sk-label-container {text-align: center;}#sk-container-id-1 div.sk-container {/* jupyter's `normalize.less` sets `[hidden] { display: none; }` but bootstrap.min.css set `[hidden] { display: none !important; }` so we also need the `!important` here to be able to override the default hidden behavior on the sphinx rendered scikit-learn.org. See: https://github.com/scikit-learn/scikit-learn/issues/21755 */display: inline-block !important;position: relative;}#sk-container-id-1 div.sk-text-repr-fallback {display: none;}</style><div id=\"sk-container-id-1\" class=\"sk-top-container\"><div class=\"sk-text-repr-fallback\"><pre>SVC(kernel=&#x27;poly&#x27;)</pre><b>In a Jupyter environment, please rerun this cell to show the HTML representation or trust the notebook. <br />On GitHub, the HTML representation is unable to render, please try loading this page with nbviewer.org.</b></div><div class=\"sk-container\" hidden><div class=\"sk-item\"><div class=\"sk-estimator sk-toggleable\"><input class=\"sk-toggleable__control sk-hidden--visually\" id=\"sk-estimator-id-1\" type=\"checkbox\" checked><label for=\"sk-estimator-id-1\" class=\"sk-toggleable__label sk-toggleable__label-arrow\">SVC</label><div class=\"sk-toggleable__content\"><pre>SVC(kernel=&#x27;poly&#x27;)</pre></div></div></div></div></div>"
      ],
      "text/plain": [
       "SVC(kernel='poly')"
      ]
     },
     "execution_count": 18,
     "metadata": {},
     "output_type": "execute_result"
    }
   ],
   "source": [
    "svc.fit(X_train,y_train)"
   ]
  },
  {
   "cell_type": "code",
   "execution_count": 19,
   "id": "ee941ed4",
   "metadata": {},
   "outputs": [],
   "source": [
    "y_pred = svc.predict(X_test)"
   ]
  },
  {
   "cell_type": "code",
   "execution_count": 20,
   "id": "661881e7",
   "metadata": {},
   "outputs": [
    {
     "data": {
      "text/plain": [
       "array([1, 0, 2, 1, 1, 0, 1, 2, 2, 1, 2, 0, 0, 0, 0, 1, 2, 1, 1, 2, 0, 2,\n",
       "       0, 2, 2, 2, 2, 2, 0, 0, 0, 0, 1, 0, 0, 2, 1, 0, 0, 0, 2, 1, 1, 0,\n",
       "       0])"
      ]
     },
     "execution_count": 20,
     "metadata": {},
     "output_type": "execute_result"
    }
   ],
   "source": [
    "y_pred"
   ]
  },
  {
   "cell_type": "code",
   "execution_count": 23,
   "id": "f90f05a4",
   "metadata": {},
   "outputs": [
    {
     "name": "stdout",
     "output_type": "stream",
     "text": [
      "Accuracy Score: 97.77777777777777\n"
     ]
    }
   ],
   "source": [
    "# Evaluate the performance of the SVM classifier\n",
    "from sklearn.metrics import accuracy_score\n",
    "print('Accuracy Score:',accuracy_score(y_test,y_pred)*100)"
   ]
  },
  {
   "cell_type": "markdown",
   "id": "d9766582",
   "metadata": {},
   "source": [
    "0 = Iris-Setosa\n",
    "\n",
    "1 = Iris-Versicolour\n",
    "\n",
    "2 = Iris-Virginica"
   ]
  },
  {
   "cell_type": "code",
   "execution_count": 31,
   "id": "d5a446e2",
   "metadata": {},
   "outputs": [
    {
     "name": "stdout",
     "output_type": "stream",
     "text": [
      "Versicolour\n"
     ]
    }
   ],
   "source": [
    "import warnings\n",
    "warnings.simplefilter('ignore')\n",
    "values = [[6.5,2.8,4.6,1.5]]\n",
    "op = svc.predict(values)\n",
    "if op[0] == 0:\n",
    "    print('Setosa')\n",
    "elif op[0] == 1:\n",
    "    print('Versicolour')\n",
    "else:\n",
    "    print('Virginica')"
   ]
  },
  {
   "cell_type": "markdown",
   "id": "c93b95f1",
   "metadata": {},
   "source": [
    "#### Q3. How does increasing the value of epsilon affect the number of support vectors in SVR?"
   ]
  },
  {
   "cell_type": "markdown",
   "id": "bb0c994f",
   "metadata": {},
   "source": [
    "Epsilon is distance between marginal plane.\n",
    "When the value of epsilon is increased, the width of the margin also increases, which means that more training examples can be included within the margin. This can result in more support vectors being selected by the SVR model.\n",
    "\n",
    "In general, increasing the value of epsilon tends to increase the number of support vectors used by the SVR model. This is because a larger margin allows the model to capture more of the variability in the training data, which can lead to a more complex model with more support vectors.\n",
    "\n",
    "However, it is important to note that increasing epsilon also increases the trade-off between the complexity of the model and its generalization performance. A larger margin with more support vectors can result in overfitting to the training data, which can lead to poor performance on new, unseen data."
   ]
  },
  {
   "cell_type": "markdown",
   "id": "7a2cc18e",
   "metadata": {},
   "source": [
    "#### Q4. How does the choice of kernel function, C parameter, epsilon parameter, and gamma parameter affect the performance of Support Vector Regression (SVR)? Can you explain how each parameter works and provide examples of when you might want to increase or decrease its value?"
   ]
  },
  {
   "cell_type": "markdown",
   "id": "8c1af0b2",
   "metadata": {},
   "source": [
    "Kernel Function: The kernel function specifies how the input data is transformed to a higher dimensional feature space, where it is easier to find a linear boundary that separates the data. Common choices of kernel functions include linear, polynomial, radial basis function (RBF), and sigmoid kernels. The choice of kernel function depends on the characteristics of the data and the problem at hand. For example, if the data is not linearly separable, an RBF kernel may perform better than a linear kernel.\n",
    "\n",
    "C Parameter: The C parameter controls the trade-off between achieving a low training error and a low testing error. A small value of C will result in a wider margin and a simpler model, while a large value of C will result in a narrower margin and a more complex model. If the model is overfitting, reducing the value of C can help to improve generalization performance. On the other hand, if the model is underfitting, increasing the value of C can help to improve the fit.\n",
    "\n",
    "Epsilon Parameter: The epsilon parameter controls the width of the tube around the predicted function within which no penalty is associated in the training loss function. A small value of epsilon means that the predicted function has to be close to the actual target values, while a large value of epsilon means that the predicted function can deviate further from the target values. A smaller epsilon will result in a more strict fit, which can help to reduce overfitting, while a larger epsilon will result in a more flexible fit, which can help to improve generalization performance.\n",
    "\n",
    "Gamma Parameter: The gamma parameter controls the shape of the decision boundary. A small value of gamma means that the decision boundary will be smoother, while a large value of gamma means that the decision boundary will be more complex and wiggly. If the model is overfitting, increasing the value of gamma can help to simplify the model and improve generalization performance. On the other hand, if the model is underfitting, decreasing the value of gamma can help to make the model more flexible and improve the fit."
   ]
  },
  {
   "cell_type": "markdown",
   "id": "45c0775b",
   "metadata": {},
   "source": [
    "#### Q5. Assignment:\n",
    "- Import the necessary libraries and load the dataseg\n",
    "- Split the dataset into training and testing sets\n",
    "- Preprocess the data using any technique of your choice (e.g. scaling, normaliMation)\n",
    "- Create an instance of the SVC classifier and train it on the training datW\n",
    "- hse the trained classifier to predict the labels of the testing datW\n",
    "- Evaluate the performance of the classifier using any metric of your choice (e.g. accuracy,\n",
    "  precision, recall, F1-score)\n",
    "- Tune the hyperparameters of the SVC classifier using GridSearchCV or RandomiMedSearchCV to\n",
    "  improve its performanc)\n",
    "- Train the tuned classifier on the entire dataseg\n",
    "- Save the trained classifier to a file for future use."
   ]
  },
  {
   "cell_type": "code",
   "execution_count": 60,
   "id": "562e5467",
   "metadata": {},
   "outputs": [],
   "source": [
    "dataset = datasets.load_iris()"
   ]
  },
  {
   "cell_type": "code",
   "execution_count": 61,
   "id": "75cdfb74",
   "metadata": {},
   "outputs": [],
   "source": [
    "df = pd.DataFrame(data=dataset.data,columns=dataset.feature_names)"
   ]
  },
  {
   "cell_type": "code",
   "execution_count": 62,
   "id": "68295ef0",
   "metadata": {},
   "outputs": [],
   "source": [
    "df['Target'] = dataset.target"
   ]
  },
  {
   "cell_type": "code",
   "execution_count": 63,
   "id": "8b74374e",
   "metadata": {},
   "outputs": [
    {
     "data": {
      "text/html": [
       "<div>\n",
       "<style scoped>\n",
       "    .dataframe tbody tr th:only-of-type {\n",
       "        vertical-align: middle;\n",
       "    }\n",
       "\n",
       "    .dataframe tbody tr th {\n",
       "        vertical-align: top;\n",
       "    }\n",
       "\n",
       "    .dataframe thead th {\n",
       "        text-align: right;\n",
       "    }\n",
       "</style>\n",
       "<table border=\"1\" class=\"dataframe\">\n",
       "  <thead>\n",
       "    <tr style=\"text-align: right;\">\n",
       "      <th></th>\n",
       "      <th>sepal length (cm)</th>\n",
       "      <th>sepal width (cm)</th>\n",
       "      <th>petal length (cm)</th>\n",
       "      <th>petal width (cm)</th>\n",
       "      <th>Target</th>\n",
       "    </tr>\n",
       "  </thead>\n",
       "  <tbody>\n",
       "    <tr>\n",
       "      <th>0</th>\n",
       "      <td>5.1</td>\n",
       "      <td>3.5</td>\n",
       "      <td>1.4</td>\n",
       "      <td>0.2</td>\n",
       "      <td>0</td>\n",
       "    </tr>\n",
       "    <tr>\n",
       "      <th>1</th>\n",
       "      <td>4.9</td>\n",
       "      <td>3.0</td>\n",
       "      <td>1.4</td>\n",
       "      <td>0.2</td>\n",
       "      <td>0</td>\n",
       "    </tr>\n",
       "    <tr>\n",
       "      <th>2</th>\n",
       "      <td>4.7</td>\n",
       "      <td>3.2</td>\n",
       "      <td>1.3</td>\n",
       "      <td>0.2</td>\n",
       "      <td>0</td>\n",
       "    </tr>\n",
       "    <tr>\n",
       "      <th>3</th>\n",
       "      <td>4.6</td>\n",
       "      <td>3.1</td>\n",
       "      <td>1.5</td>\n",
       "      <td>0.2</td>\n",
       "      <td>0</td>\n",
       "    </tr>\n",
       "    <tr>\n",
       "      <th>4</th>\n",
       "      <td>5.0</td>\n",
       "      <td>3.6</td>\n",
       "      <td>1.4</td>\n",
       "      <td>0.2</td>\n",
       "      <td>0</td>\n",
       "    </tr>\n",
       "  </tbody>\n",
       "</table>\n",
       "</div>"
      ],
      "text/plain": [
       "   sepal length (cm)  sepal width (cm)  petal length (cm)  petal width (cm)  Target\n",
       "0                5.1               3.5                1.4               0.2       0\n",
       "1                4.9               3.0                1.4               0.2       0\n",
       "2                4.7               3.2                1.3               0.2       0\n",
       "3                4.6               3.1                1.5               0.2       0\n",
       "4                5.0               3.6                1.4               0.2       0"
      ]
     },
     "execution_count": 63,
     "metadata": {},
     "output_type": "execute_result"
    }
   ],
   "source": [
    "df.head()"
   ]
  },
  {
   "cell_type": "code",
   "execution_count": 64,
   "id": "3983e769",
   "metadata": {},
   "outputs": [],
   "source": [
    "# segregate the independent and dependent features\n",
    "X = df.iloc[:,:-1]\n",
    "y = df.iloc[:,-1]"
   ]
  },
  {
   "cell_type": "code",
   "execution_count": 65,
   "id": "e6b5e7c4",
   "metadata": {},
   "outputs": [],
   "source": [
    "# train test and split\n",
    "X_train,X_test,y_train,y_test = train_test_split(X,y,test_size=0.20,random_state=42)"
   ]
  },
  {
   "cell_type": "code",
   "execution_count": 66,
   "id": "7fb6782e",
   "metadata": {},
   "outputs": [],
   "source": [
    "# scaling\n",
    "from sklearn.preprocessing import StandardScaler\n",
    "scaler = StandardScaler()"
   ]
  },
  {
   "cell_type": "code",
   "execution_count": 67,
   "id": "c59d1edf",
   "metadata": {},
   "outputs": [],
   "source": [
    "X_train = scaler.fit_transform(X_train)\n",
    "X_test = scaler.transform(X_test)"
   ]
  },
  {
   "cell_type": "code",
   "execution_count": 74,
   "id": "7f913a2f",
   "metadata": {},
   "outputs": [
    {
     "name": "stdout",
     "output_type": "stream",
     "text": [
      "Accuracy Score: 1.0\n",
      "              precision    recall  f1-score   support\n",
      "\n",
      "           0       1.00      1.00      1.00        10\n",
      "           1       1.00      1.00      1.00         9\n",
      "           2       1.00      1.00      1.00        11\n",
      "\n",
      "    accuracy                           1.00        30\n",
      "   macro avg       1.00      1.00      1.00        30\n",
      "weighted avg       1.00      1.00      1.00        30\n",
      "\n"
     ]
    }
   ],
   "source": [
    "# model training\n",
    "svc = SVC()\n",
    "svc.fit(X_train,y_train)\n",
    "y_pred = svc.predict(X_test)\n",
    "# Evaluate the performance of model\n",
    "from sklearn.metrics import accuracy_score, classification_report, f1_score\n",
    "print('Accuracy Score:',accuracy_score(y_test,y_pred))\n",
    "print(classification_report(y_test,y_pred))"
   ]
  },
  {
   "cell_type": "code",
   "execution_count": 77,
   "id": "d82fa1f5",
   "metadata": {},
   "outputs": [
    {
     "name": "stdout",
     "output_type": "stream",
     "text": [
      "Fitting 5 folds for each of 72 candidates, totalling 360 fits\n",
      "[CV 1/5] END C=0.1, degree=2, gamma=scale, kernel=linear;, score=0.958 total time=   0.0s\n",
      "[CV 2/5] END C=0.1, degree=2, gamma=scale, kernel=linear;, score=0.958 total time=   0.0s\n",
      "[CV 3/5] END C=0.1, degree=2, gamma=scale, kernel=linear;, score=0.875 total time=   0.0s\n",
      "[CV 4/5] END C=0.1, degree=2, gamma=scale, kernel=linear;, score=1.000 total time=   0.0s\n",
      "[CV 5/5] END C=0.1, degree=2, gamma=scale, kernel=linear;, score=0.958 total time=   0.0s\n",
      "[CV 1/5] END C=0.1, degree=2, gamma=scale, kernel=rbf;, score=0.875 total time=   0.0s\n",
      "[CV 2/5] END C=0.1, degree=2, gamma=scale, kernel=rbf;, score=0.833 total time=   0.0s\n",
      "[CV 3/5] END C=0.1, degree=2, gamma=scale, kernel=rbf;, score=0.833 total time=   0.0s\n",
      "[CV 4/5] END C=0.1, degree=2, gamma=scale, kernel=rbf;, score=0.917 total time=   0.0s\n",
      "[CV 5/5] END C=0.1, degree=2, gamma=scale, kernel=rbf;, score=0.833 total time=   0.0s\n",
      "[CV 1/5] END C=0.1, degree=2, gamma=scale, kernel=poly;, score=0.750 total time=   0.0s\n",
      "[CV 2/5] END C=0.1, degree=2, gamma=scale, kernel=poly;, score=0.625 total time=   0.0s\n",
      "[CV 3/5] END C=0.1, degree=2, gamma=scale, kernel=poly;, score=0.792 total time=   0.0s\n",
      "[CV 4/5] END C=0.1, degree=2, gamma=scale, kernel=poly;, score=0.625 total time=   0.0s\n",
      "[CV 5/5] END C=0.1, degree=2, gamma=scale, kernel=poly;, score=0.625 total time=   0.0s\n",
      "[CV 1/5] END C=0.1, degree=2, gamma=auto, kernel=linear;, score=0.958 total time=   0.0s\n",
      "[CV 2/5] END C=0.1, degree=2, gamma=auto, kernel=linear;, score=0.958 total time=   0.0s\n",
      "[CV 3/5] END C=0.1, degree=2, gamma=auto, kernel=linear;, score=0.875 total time=   0.0s\n",
      "[CV 4/5] END C=0.1, degree=2, gamma=auto, kernel=linear;, score=1.000 total time=   0.0s\n",
      "[CV 5/5] END C=0.1, degree=2, gamma=auto, kernel=linear;, score=0.958 total time=   0.0s\n",
      "[CV 1/5] END C=0.1, degree=2, gamma=auto, kernel=rbf;, score=0.875 total time=   0.0s\n",
      "[CV 2/5] END C=0.1, degree=2, gamma=auto, kernel=rbf;, score=0.833 total time=   0.0s\n",
      "[CV 3/5] END C=0.1, degree=2, gamma=auto, kernel=rbf;, score=0.833 total time=   0.0s\n",
      "[CV 4/5] END C=0.1, degree=2, gamma=auto, kernel=rbf;, score=0.917 total time=   0.0s\n",
      "[CV 5/5] END C=0.1, degree=2, gamma=auto, kernel=rbf;, score=0.833 total time=   0.0s\n",
      "[CV 1/5] END C=0.1, degree=2, gamma=auto, kernel=poly;, score=0.750 total time=   0.0s\n",
      "[CV 2/5] END C=0.1, degree=2, gamma=auto, kernel=poly;, score=0.625 total time=   0.0s\n",
      "[CV 3/5] END C=0.1, degree=2, gamma=auto, kernel=poly;, score=0.792 total time=   0.0s\n",
      "[CV 4/5] END C=0.1, degree=2, gamma=auto, kernel=poly;, score=0.667 total time=   0.0s\n",
      "[CV 5/5] END C=0.1, degree=2, gamma=auto, kernel=poly;, score=0.625 total time=   0.0s\n",
      "[CV 1/5] END C=0.1, degree=3, gamma=scale, kernel=linear;, score=0.958 total time=   0.0s\n",
      "[CV 2/5] END C=0.1, degree=3, gamma=scale, kernel=linear;, score=0.958 total time=   0.0s\n",
      "[CV 3/5] END C=0.1, degree=3, gamma=scale, kernel=linear;, score=0.875 total time=   0.0s\n",
      "[CV 4/5] END C=0.1, degree=3, gamma=scale, kernel=linear;, score=1.000 total time=   0.0s\n",
      "[CV 5/5] END C=0.1, degree=3, gamma=scale, kernel=linear;, score=0.958 total time=   0.0s\n",
      "[CV 1/5] END C=0.1, degree=3, gamma=scale, kernel=rbf;, score=0.875 total time=   0.0s\n",
      "[CV 2/5] END C=0.1, degree=3, gamma=scale, kernel=rbf;, score=0.833 total time=   0.0s\n",
      "[CV 3/5] END C=0.1, degree=3, gamma=scale, kernel=rbf;, score=0.833 total time=   0.0s\n",
      "[CV 4/5] END C=0.1, degree=3, gamma=scale, kernel=rbf;, score=0.917 total time=   0.0s\n",
      "[CV 5/5] END C=0.1, degree=3, gamma=scale, kernel=rbf;, score=0.833 total time=   0.0s\n",
      "[CV 1/5] END C=0.1, degree=3, gamma=scale, kernel=poly;, score=0.833 total time=   0.0s\n",
      "[CV 2/5] END C=0.1, degree=3, gamma=scale, kernel=poly;, score=0.708 total time=   0.0s\n",
      "[CV 3/5] END C=0.1, degree=3, gamma=scale, kernel=poly;, score=0.917 total time=   0.0s\n",
      "[CV 4/5] END C=0.1, degree=3, gamma=scale, kernel=poly;, score=0.833 total time=   0.0s\n",
      "[CV 5/5] END C=0.1, degree=3, gamma=scale, kernel=poly;, score=0.750 total time=   0.0s\n",
      "[CV 1/5] END C=0.1, degree=3, gamma=auto, kernel=linear;, score=0.958 total time=   0.0s\n",
      "[CV 2/5] END C=0.1, degree=3, gamma=auto, kernel=linear;, score=0.958 total time=   0.0s\n",
      "[CV 3/5] END C=0.1, degree=3, gamma=auto, kernel=linear;, score=0.875 total time=   0.0s\n",
      "[CV 4/5] END C=0.1, degree=3, gamma=auto, kernel=linear;, score=1.000 total time=   0.0s\n",
      "[CV 5/5] END C=0.1, degree=3, gamma=auto, kernel=linear;, score=0.958 total time=   0.0s\n",
      "[CV 1/5] END C=0.1, degree=3, gamma=auto, kernel=rbf;, score=0.875 total time=   0.0s\n",
      "[CV 2/5] END C=0.1, degree=3, gamma=auto, kernel=rbf;, score=0.833 total time=   0.0s\n",
      "[CV 3/5] END C=0.1, degree=3, gamma=auto, kernel=rbf;, score=0.833 total time=   0.0s\n",
      "[CV 4/5] END C=0.1, degree=3, gamma=auto, kernel=rbf;, score=0.917 total time=   0.0s\n",
      "[CV 5/5] END C=0.1, degree=3, gamma=auto, kernel=rbf;, score=0.833 total time=   0.0s\n",
      "[CV 1/5] END C=0.1, degree=3, gamma=auto, kernel=poly;, score=0.833 total time=   0.0s\n",
      "[CV 2/5] END C=0.1, degree=3, gamma=auto, kernel=poly;, score=0.708 total time=   0.0s\n",
      "[CV 3/5] END C=0.1, degree=3, gamma=auto, kernel=poly;, score=0.917 total time=   0.0s\n",
      "[CV 4/5] END C=0.1, degree=3, gamma=auto, kernel=poly;, score=0.833 total time=   0.0s\n",
      "[CV 5/5] END C=0.1, degree=3, gamma=auto, kernel=poly;, score=0.750 total time=   0.0s\n",
      "[CV 1/5] END C=0.1, degree=4, gamma=scale, kernel=linear;, score=0.958 total time=   0.0s\n",
      "[CV 2/5] END C=0.1, degree=4, gamma=scale, kernel=linear;, score=0.958 total time=   0.0s\n",
      "[CV 3/5] END C=0.1, degree=4, gamma=scale, kernel=linear;, score=0.875 total time=   0.0s\n",
      "[CV 4/5] END C=0.1, degree=4, gamma=scale, kernel=linear;, score=1.000 total time=   0.0s\n",
      "[CV 5/5] END C=0.1, degree=4, gamma=scale, kernel=linear;, score=0.958 total time=   0.0s\n",
      "[CV 1/5] END C=0.1, degree=4, gamma=scale, kernel=rbf;, score=0.875 total time=   0.0s\n",
      "[CV 2/5] END C=0.1, degree=4, gamma=scale, kernel=rbf;, score=0.833 total time=   0.0s\n",
      "[CV 3/5] END C=0.1, degree=4, gamma=scale, kernel=rbf;, score=0.833 total time=   0.0s\n",
      "[CV 4/5] END C=0.1, degree=4, gamma=scale, kernel=rbf;, score=0.917 total time=   0.0s\n",
      "[CV 5/5] END C=0.1, degree=4, gamma=scale, kernel=rbf;, score=0.833 total time=   0.0s\n",
      "[CV 1/5] END C=0.1, degree=4, gamma=scale, kernel=poly;, score=0.750 total time=   0.0s\n",
      "[CV 2/5] END C=0.1, degree=4, gamma=scale, kernel=poly;, score=0.583 total time=   0.0s\n",
      "[CV 3/5] END C=0.1, degree=4, gamma=scale, kernel=poly;, score=0.833 total time=   0.0s\n",
      "[CV 4/5] END C=0.1, degree=4, gamma=scale, kernel=poly;, score=0.625 total time=   0.0s\n",
      "[CV 5/5] END C=0.1, degree=4, gamma=scale, kernel=poly;, score=0.667 total time=   0.0s\n",
      "[CV 1/5] END C=0.1, degree=4, gamma=auto, kernel=linear;, score=0.958 total time=   0.0s\n",
      "[CV 2/5] END C=0.1, degree=4, gamma=auto, kernel=linear;, score=0.958 total time=   0.0s\n",
      "[CV 3/5] END C=0.1, degree=4, gamma=auto, kernel=linear;, score=0.875 total time=   0.0s\n",
      "[CV 4/5] END C=0.1, degree=4, gamma=auto, kernel=linear;, score=1.000 total time=   0.0s\n",
      "[CV 5/5] END C=0.1, degree=4, gamma=auto, kernel=linear;, score=0.958 total time=   0.0s\n",
      "[CV 1/5] END C=0.1, degree=4, gamma=auto, kernel=rbf;, score=0.875 total time=   0.0s\n",
      "[CV 2/5] END C=0.1, degree=4, gamma=auto, kernel=rbf;, score=0.833 total time=   0.0s\n",
      "[CV 3/5] END C=0.1, degree=4, gamma=auto, kernel=rbf;, score=0.833 total time=   0.0s\n",
      "[CV 4/5] END C=0.1, degree=4, gamma=auto, kernel=rbf;, score=0.917 total time=   0.0s\n",
      "[CV 5/5] END C=0.1, degree=4, gamma=auto, kernel=rbf;, score=0.833 total time=   0.0s\n",
      "[CV 1/5] END C=0.1, degree=4, gamma=auto, kernel=poly;, score=0.750 total time=   0.0s\n",
      "[CV 2/5] END C=0.1, degree=4, gamma=auto, kernel=poly;, score=0.583 total time=   0.0s\n",
      "[CV 3/5] END C=0.1, degree=4, gamma=auto, kernel=poly;, score=0.833 total time=   0.0s\n",
      "[CV 4/5] END C=0.1, degree=4, gamma=auto, kernel=poly;, score=0.625 total time=   0.0s\n",
      "[CV 5/5] END C=0.1, degree=4, gamma=auto, kernel=poly;, score=0.667 total time=   0.0s\n",
      "[CV 1/5] END C=1, degree=2, gamma=scale, kernel=linear;, score=0.958 total time=   0.0s\n",
      "[CV 2/5] END C=1, degree=2, gamma=scale, kernel=linear;, score=1.000 total time=   0.0s\n",
      "[CV 3/5] END C=1, degree=2, gamma=scale, kernel=linear;, score=0.833 total time=   0.0s\n",
      "[CV 4/5] END C=1, degree=2, gamma=scale, kernel=linear;, score=1.000 total time=   0.0s\n",
      "[CV 5/5] END C=1, degree=2, gamma=scale, kernel=linear;, score=0.958 total time=   0.0s\n",
      "[CV 1/5] END C=1, degree=2, gamma=scale, kernel=rbf;, score=0.958 total time=   0.0s\n",
      "[CV 2/5] END C=1, degree=2, gamma=scale, kernel=rbf;, score=1.000 total time=   0.0s\n",
      "[CV 3/5] END C=1, degree=2, gamma=scale, kernel=rbf;, score=0.833 total time=   0.0s\n",
      "[CV 4/5] END C=1, degree=2, gamma=scale, kernel=rbf;, score=1.000 total time=   0.0s\n",
      "[CV 5/5] END C=1, degree=2, gamma=scale, kernel=rbf;, score=0.958 total time=   0.0s\n",
      "[CV 1/5] END C=1, degree=2, gamma=scale, kernel=poly;, score=0.875 total time=   0.0s\n",
      "[CV 2/5] END C=1, degree=2, gamma=scale, kernel=poly;, score=0.875 total time=   0.0s\n",
      "[CV 3/5] END C=1, degree=2, gamma=scale, kernel=poly;, score=0.875 total time=   0.0s\n",
      "[CV 4/5] END C=1, degree=2, gamma=scale, kernel=poly;, score=0.792 total time=   0.0s\n",
      "[CV 5/5] END C=1, degree=2, gamma=scale, kernel=poly;, score=0.750 total time=   0.0s\n",
      "[CV 1/5] END C=1, degree=2, gamma=auto, kernel=linear;, score=0.958 total time=   0.0s\n",
      "[CV 2/5] END C=1, degree=2, gamma=auto, kernel=linear;, score=1.000 total time=   0.0s\n",
      "[CV 3/5] END C=1, degree=2, gamma=auto, kernel=linear;, score=0.833 total time=   0.0s\n",
      "[CV 4/5] END C=1, degree=2, gamma=auto, kernel=linear;, score=1.000 total time=   0.0s\n",
      "[CV 5/5] END C=1, degree=2, gamma=auto, kernel=linear;, score=0.958 total time=   0.0s\n",
      "[CV 1/5] END C=1, degree=2, gamma=auto, kernel=rbf;, score=0.958 total time=   0.0s\n",
      "[CV 2/5] END C=1, degree=2, gamma=auto, kernel=rbf;, score=1.000 total time=   0.0s\n",
      "[CV 3/5] END C=1, degree=2, gamma=auto, kernel=rbf;, score=0.833 total time=   0.0s\n",
      "[CV 4/5] END C=1, degree=2, gamma=auto, kernel=rbf;, score=1.000 total time=   0.0s\n",
      "[CV 5/5] END C=1, degree=2, gamma=auto, kernel=rbf;, score=0.958 total time=   0.0s\n",
      "[CV 1/5] END C=1, degree=2, gamma=auto, kernel=poly;, score=0.875 total time=   0.0s\n",
      "[CV 2/5] END C=1, degree=2, gamma=auto, kernel=poly;, score=0.875 total time=   0.0s\n",
      "[CV 3/5] END C=1, degree=2, gamma=auto, kernel=poly;, score=0.917 total time=   0.0s\n",
      "[CV 4/5] END C=1, degree=2, gamma=auto, kernel=poly;, score=0.792 total time=   0.0s\n",
      "[CV 5/5] END C=1, degree=2, gamma=auto, kernel=poly;, score=0.750 total time=   0.0s\n",
      "[CV 1/5] END C=1, degree=3, gamma=scale, kernel=linear;, score=0.958 total time=   0.0s\n",
      "[CV 2/5] END C=1, degree=3, gamma=scale, kernel=linear;, score=1.000 total time=   0.0s\n",
      "[CV 3/5] END C=1, degree=3, gamma=scale, kernel=linear;, score=0.833 total time=   0.0s\n",
      "[CV 4/5] END C=1, degree=3, gamma=scale, kernel=linear;, score=1.000 total time=   0.0s\n",
      "[CV 5/5] END C=1, degree=3, gamma=scale, kernel=linear;, score=0.958 total time=   0.0s\n",
      "[CV 1/5] END C=1, degree=3, gamma=scale, kernel=rbf;, score=0.958 total time=   0.0s\n",
      "[CV 2/5] END C=1, degree=3, gamma=scale, kernel=rbf;, score=1.000 total time=   0.0s\n",
      "[CV 3/5] END C=1, degree=3, gamma=scale, kernel=rbf;, score=0.833 total time=   0.0s\n",
      "[CV 4/5] END C=1, degree=3, gamma=scale, kernel=rbf;, score=1.000 total time=   0.0s\n",
      "[CV 5/5] END C=1, degree=3, gamma=scale, kernel=rbf;, score=0.958 total time=   0.0s\n",
      "[CV 1/5] END C=1, degree=3, gamma=scale, kernel=poly;, score=0.958 total time=   0.0s\n",
      "[CV 2/5] END C=1, degree=3, gamma=scale, kernel=poly;, score=0.917 total time=   0.0s\n",
      "[CV 3/5] END C=1, degree=3, gamma=scale, kernel=poly;, score=0.917 total time=   0.0s\n",
      "[CV 4/5] END C=1, degree=3, gamma=scale, kernel=poly;, score=0.958 total time=   0.0s\n",
      "[CV 5/5] END C=1, degree=3, gamma=scale, kernel=poly;, score=0.875 total time=   0.0s\n",
      "[CV 1/5] END C=1, degree=3, gamma=auto, kernel=linear;, score=0.958 total time=   0.0s\n",
      "[CV 2/5] END C=1, degree=3, gamma=auto, kernel=linear;, score=1.000 total time=   0.0s\n",
      "[CV 3/5] END C=1, degree=3, gamma=auto, kernel=linear;, score=0.833 total time=   0.0s\n",
      "[CV 4/5] END C=1, degree=3, gamma=auto, kernel=linear;, score=1.000 total time=   0.0s\n",
      "[CV 5/5] END C=1, degree=3, gamma=auto, kernel=linear;, score=0.958 total time=   0.0s\n",
      "[CV 1/5] END C=1, degree=3, gamma=auto, kernel=rbf;, score=0.958 total time=   0.0s\n",
      "[CV 2/5] END C=1, degree=3, gamma=auto, kernel=rbf;, score=1.000 total time=   0.0s\n",
      "[CV 3/5] END C=1, degree=3, gamma=auto, kernel=rbf;, score=0.833 total time=   0.0s\n",
      "[CV 4/5] END C=1, degree=3, gamma=auto, kernel=rbf;, score=1.000 total time=   0.0s\n",
      "[CV 5/5] END C=1, degree=3, gamma=auto, kernel=rbf;, score=0.958 total time=   0.0s\n",
      "[CV 1/5] END C=1, degree=3, gamma=auto, kernel=poly;, score=0.958 total time=   0.0s\n",
      "[CV 2/5] END C=1, degree=3, gamma=auto, kernel=poly;, score=0.917 total time=   0.0s\n",
      "[CV 3/5] END C=1, degree=3, gamma=auto, kernel=poly;, score=0.917 total time=   0.0s\n",
      "[CV 4/5] END C=1, degree=3, gamma=auto, kernel=poly;, score=0.958 total time=   0.0s\n",
      "[CV 5/5] END C=1, degree=3, gamma=auto, kernel=poly;, score=0.875 total time=   0.0s\n",
      "[CV 1/5] END C=1, degree=4, gamma=scale, kernel=linear;, score=0.958 total time=   0.0s\n",
      "[CV 2/5] END C=1, degree=4, gamma=scale, kernel=linear;, score=1.000 total time=   0.0s\n",
      "[CV 3/5] END C=1, degree=4, gamma=scale, kernel=linear;, score=0.833 total time=   0.0s\n",
      "[CV 4/5] END C=1, degree=4, gamma=scale, kernel=linear;, score=1.000 total time=   0.0s\n",
      "[CV 5/5] END C=1, degree=4, gamma=scale, kernel=linear;, score=0.958 total time=   0.0s\n",
      "[CV 1/5] END C=1, degree=4, gamma=scale, kernel=rbf;, score=0.958 total time=   0.0s\n",
      "[CV 2/5] END C=1, degree=4, gamma=scale, kernel=rbf;, score=1.000 total time=   0.0s\n",
      "[CV 3/5] END C=1, degree=4, gamma=scale, kernel=rbf;, score=0.833 total time=   0.0s\n",
      "[CV 4/5] END C=1, degree=4, gamma=scale, kernel=rbf;, score=1.000 total time=   0.0s\n",
      "[CV 5/5] END C=1, degree=4, gamma=scale, kernel=rbf;, score=0.958 total time=   0.0s\n",
      "[CV 1/5] END C=1, degree=4, gamma=scale, kernel=poly;, score=0.833 total time=   0.0s\n",
      "[CV 2/5] END C=1, degree=4, gamma=scale, kernel=poly;, score=0.750 total time=   0.0s\n",
      "[CV 3/5] END C=1, degree=4, gamma=scale, kernel=poly;, score=0.958 total time=   0.0s\n",
      "[CV 4/5] END C=1, degree=4, gamma=scale, kernel=poly;, score=0.750 total time=   0.0s\n",
      "[CV 5/5] END C=1, degree=4, gamma=scale, kernel=poly;, score=0.750 total time=   0.0s\n",
      "[CV 1/5] END C=1, degree=4, gamma=auto, kernel=linear;, score=0.958 total time=   0.0s\n",
      "[CV 2/5] END C=1, degree=4, gamma=auto, kernel=linear;, score=1.000 total time=   0.0s\n",
      "[CV 3/5] END C=1, degree=4, gamma=auto, kernel=linear;, score=0.833 total time=   0.0s\n",
      "[CV 4/5] END C=1, degree=4, gamma=auto, kernel=linear;, score=1.000 total time=   0.0s\n",
      "[CV 5/5] END C=1, degree=4, gamma=auto, kernel=linear;, score=0.958 total time=   0.0s\n",
      "[CV 1/5] END C=1, degree=4, gamma=auto, kernel=rbf;, score=0.958 total time=   0.0s\n",
      "[CV 2/5] END C=1, degree=4, gamma=auto, kernel=rbf;, score=1.000 total time=   0.0s\n",
      "[CV 3/5] END C=1, degree=4, gamma=auto, kernel=rbf;, score=0.833 total time=   0.0s\n",
      "[CV 4/5] END C=1, degree=4, gamma=auto, kernel=rbf;, score=1.000 total time=   0.0s\n",
      "[CV 5/5] END C=1, degree=4, gamma=auto, kernel=rbf;, score=0.958 total time=   0.0s\n",
      "[CV 1/5] END C=1, degree=4, gamma=auto, kernel=poly;, score=0.875 total time=   0.0s\n",
      "[CV 2/5] END C=1, degree=4, gamma=auto, kernel=poly;, score=0.750 total time=   0.0s\n",
      "[CV 3/5] END C=1, degree=4, gamma=auto, kernel=poly;, score=0.958 total time=   0.0s\n",
      "[CV 4/5] END C=1, degree=4, gamma=auto, kernel=poly;, score=0.792 total time=   0.0s\n",
      "[CV 5/5] END C=1, degree=4, gamma=auto, kernel=poly;, score=0.750 total time=   0.0s\n",
      "[CV 1/5] END C=10, degree=2, gamma=scale, kernel=linear;, score=0.958 total time=   0.0s\n",
      "[CV 2/5] END C=10, degree=2, gamma=scale, kernel=linear;, score=1.000 total time=   0.0s\n",
      "[CV 3/5] END C=10, degree=2, gamma=scale, kernel=linear;, score=0.833 total time=   0.0s\n",
      "[CV 4/5] END C=10, degree=2, gamma=scale, kernel=linear;, score=1.000 total time=   0.0s\n",
      "[CV 5/5] END C=10, degree=2, gamma=scale, kernel=linear;, score=1.000 total time=   0.0s\n",
      "[CV 1/5] END C=10, degree=2, gamma=scale, kernel=rbf;, score=0.958 total time=   0.0s\n",
      "[CV 2/5] END C=10, degree=2, gamma=scale, kernel=rbf;, score=0.958 total time=   0.0s\n",
      "[CV 3/5] END C=10, degree=2, gamma=scale, kernel=rbf;, score=0.833 total time=   0.0s\n",
      "[CV 4/5] END C=10, degree=2, gamma=scale, kernel=rbf;, score=1.000 total time=   0.0s\n",
      "[CV 5/5] END C=10, degree=2, gamma=scale, kernel=rbf;, score=0.958 total time=   0.0s\n",
      "[CV 1/5] END C=10, degree=2, gamma=scale, kernel=poly;, score=0.875 total time=   0.0s\n",
      "[CV 2/5] END C=10, degree=2, gamma=scale, kernel=poly;, score=0.792 total time=   0.0s\n",
      "[CV 3/5] END C=10, degree=2, gamma=scale, kernel=poly;, score=0.833 total time=   0.0s\n",
      "[CV 4/5] END C=10, degree=2, gamma=scale, kernel=poly;, score=0.792 total time=   0.0s\n",
      "[CV 5/5] END C=10, degree=2, gamma=scale, kernel=poly;, score=0.917 total time=   0.0s\n",
      "[CV 1/5] END C=10, degree=2, gamma=auto, kernel=linear;, score=0.958 total time=   0.0s\n",
      "[CV 2/5] END C=10, degree=2, gamma=auto, kernel=linear;, score=1.000 total time=   0.0s\n",
      "[CV 3/5] END C=10, degree=2, gamma=auto, kernel=linear;, score=0.833 total time=   0.0s\n",
      "[CV 4/5] END C=10, degree=2, gamma=auto, kernel=linear;, score=1.000 total time=   0.0s\n",
      "[CV 5/5] END C=10, degree=2, gamma=auto, kernel=linear;, score=1.000 total time=   0.0s\n",
      "[CV 1/5] END C=10, degree=2, gamma=auto, kernel=rbf;, score=0.958 total time=   0.0s\n",
      "[CV 2/5] END C=10, degree=2, gamma=auto, kernel=rbf;, score=0.958 total time=   0.0s\n",
      "[CV 3/5] END C=10, degree=2, gamma=auto, kernel=rbf;, score=0.833 total time=   0.0s\n",
      "[CV 4/5] END C=10, degree=2, gamma=auto, kernel=rbf;, score=1.000 total time=   0.0s\n",
      "[CV 5/5] END C=10, degree=2, gamma=auto, kernel=rbf;, score=0.958 total time=   0.0s\n",
      "[CV 1/5] END C=10, degree=2, gamma=auto, kernel=poly;, score=0.875 total time=   0.0s\n",
      "[CV 2/5] END C=10, degree=2, gamma=auto, kernel=poly;, score=0.792 total time=   0.0s\n",
      "[CV 3/5] END C=10, degree=2, gamma=auto, kernel=poly;, score=0.833 total time=   0.0s\n",
      "[CV 4/5] END C=10, degree=2, gamma=auto, kernel=poly;, score=0.792 total time=   0.0s\n"
     ]
    },
    {
     "name": "stdout",
     "output_type": "stream",
     "text": [
      "[CV 5/5] END C=10, degree=2, gamma=auto, kernel=poly;, score=0.917 total time=   0.0s\n",
      "[CV 1/5] END C=10, degree=3, gamma=scale, kernel=linear;, score=0.958 total time=   0.0s\n",
      "[CV 2/5] END C=10, degree=3, gamma=scale, kernel=linear;, score=1.000 total time=   0.0s\n",
      "[CV 3/5] END C=10, degree=3, gamma=scale, kernel=linear;, score=0.833 total time=   0.0s\n",
      "[CV 4/5] END C=10, degree=3, gamma=scale, kernel=linear;, score=1.000 total time=   0.0s\n",
      "[CV 5/5] END C=10, degree=3, gamma=scale, kernel=linear;, score=1.000 total time=   0.0s\n",
      "[CV 1/5] END C=10, degree=3, gamma=scale, kernel=rbf;, score=0.958 total time=   0.0s\n",
      "[CV 2/5] END C=10, degree=3, gamma=scale, kernel=rbf;, score=0.958 total time=   0.0s\n",
      "[CV 3/5] END C=10, degree=3, gamma=scale, kernel=rbf;, score=0.833 total time=   0.0s\n",
      "[CV 4/5] END C=10, degree=3, gamma=scale, kernel=rbf;, score=1.000 total time=   0.0s\n",
      "[CV 5/5] END C=10, degree=3, gamma=scale, kernel=rbf;, score=0.958 total time=   0.0s\n",
      "[CV 1/5] END C=10, degree=3, gamma=scale, kernel=poly;, score=0.958 total time=   0.0s\n",
      "[CV 2/5] END C=10, degree=3, gamma=scale, kernel=poly;, score=0.958 total time=   0.0s\n",
      "[CV 3/5] END C=10, degree=3, gamma=scale, kernel=poly;, score=0.875 total time=   0.0s\n",
      "[CV 4/5] END C=10, degree=3, gamma=scale, kernel=poly;, score=1.000 total time=   0.0s\n",
      "[CV 5/5] END C=10, degree=3, gamma=scale, kernel=poly;, score=0.917 total time=   0.0s\n",
      "[CV 1/5] END C=10, degree=3, gamma=auto, kernel=linear;, score=0.958 total time=   0.0s\n",
      "[CV 2/5] END C=10, degree=3, gamma=auto, kernel=linear;, score=1.000 total time=   0.0s\n",
      "[CV 3/5] END C=10, degree=3, gamma=auto, kernel=linear;, score=0.833 total time=   0.0s\n",
      "[CV 4/5] END C=10, degree=3, gamma=auto, kernel=linear;, score=1.000 total time=   0.0s\n",
      "[CV 5/5] END C=10, degree=3, gamma=auto, kernel=linear;, score=1.000 total time=   0.0s\n",
      "[CV 1/5] END C=10, degree=3, gamma=auto, kernel=rbf;, score=0.958 total time=   0.0s\n",
      "[CV 2/5] END C=10, degree=3, gamma=auto, kernel=rbf;, score=0.958 total time=   0.0s\n",
      "[CV 3/5] END C=10, degree=3, gamma=auto, kernel=rbf;, score=0.833 total time=   0.0s\n",
      "[CV 4/5] END C=10, degree=3, gamma=auto, kernel=rbf;, score=1.000 total time=   0.0s\n",
      "[CV 5/5] END C=10, degree=3, gamma=auto, kernel=rbf;, score=0.958 total time=   0.0s\n",
      "[CV 1/5] END C=10, degree=3, gamma=auto, kernel=poly;, score=0.958 total time=   0.0s\n",
      "[CV 2/5] END C=10, degree=3, gamma=auto, kernel=poly;, score=0.958 total time=   0.0s\n",
      "[CV 3/5] END C=10, degree=3, gamma=auto, kernel=poly;, score=0.875 total time=   0.0s\n",
      "[CV 4/5] END C=10, degree=3, gamma=auto, kernel=poly;, score=1.000 total time=   0.0s\n",
      "[CV 5/5] END C=10, degree=3, gamma=auto, kernel=poly;, score=0.917 total time=   0.0s\n",
      "[CV 1/5] END C=10, degree=4, gamma=scale, kernel=linear;, score=0.958 total time=   0.0s\n",
      "[CV 2/5] END C=10, degree=4, gamma=scale, kernel=linear;, score=1.000 total time=   0.0s\n",
      "[CV 3/5] END C=10, degree=4, gamma=scale, kernel=linear;, score=0.833 total time=   0.0s\n",
      "[CV 4/5] END C=10, degree=4, gamma=scale, kernel=linear;, score=1.000 total time=   0.0s\n",
      "[CV 5/5] END C=10, degree=4, gamma=scale, kernel=linear;, score=1.000 total time=   0.0s\n",
      "[CV 1/5] END C=10, degree=4, gamma=scale, kernel=rbf;, score=0.958 total time=   0.0s\n",
      "[CV 2/5] END C=10, degree=4, gamma=scale, kernel=rbf;, score=0.958 total time=   0.0s\n",
      "[CV 3/5] END C=10, degree=4, gamma=scale, kernel=rbf;, score=0.833 total time=   0.0s\n",
      "[CV 4/5] END C=10, degree=4, gamma=scale, kernel=rbf;, score=1.000 total time=   0.0s\n",
      "[CV 5/5] END C=10, degree=4, gamma=scale, kernel=rbf;, score=0.958 total time=   0.0s\n",
      "[CV 1/5] END C=10, degree=4, gamma=scale, kernel=poly;, score=0.875 total time=   0.0s\n",
      "[CV 2/5] END C=10, degree=4, gamma=scale, kernel=poly;, score=0.875 total time=   0.0s\n",
      "[CV 3/5] END C=10, degree=4, gamma=scale, kernel=poly;, score=0.917 total time=   0.0s\n",
      "[CV 4/5] END C=10, degree=4, gamma=scale, kernel=poly;, score=0.875 total time=   0.0s\n",
      "[CV 5/5] END C=10, degree=4, gamma=scale, kernel=poly;, score=0.792 total time=   0.0s\n",
      "[CV 1/5] END C=10, degree=4, gamma=auto, kernel=linear;, score=0.958 total time=   0.0s\n",
      "[CV 2/5] END C=10, degree=4, gamma=auto, kernel=linear;, score=1.000 total time=   0.0s\n",
      "[CV 3/5] END C=10, degree=4, gamma=auto, kernel=linear;, score=0.833 total time=   0.0s\n",
      "[CV 4/5] END C=10, degree=4, gamma=auto, kernel=linear;, score=1.000 total time=   0.0s\n",
      "[CV 5/5] END C=10, degree=4, gamma=auto, kernel=linear;, score=1.000 total time=   0.0s\n",
      "[CV 1/5] END C=10, degree=4, gamma=auto, kernel=rbf;, score=0.958 total time=   0.0s\n",
      "[CV 2/5] END C=10, degree=4, gamma=auto, kernel=rbf;, score=0.958 total time=   0.0s\n",
      "[CV 3/5] END C=10, degree=4, gamma=auto, kernel=rbf;, score=0.833 total time=   0.0s\n",
      "[CV 4/5] END C=10, degree=4, gamma=auto, kernel=rbf;, score=1.000 total time=   0.0s\n",
      "[CV 5/5] END C=10, degree=4, gamma=auto, kernel=rbf;, score=0.958 total time=   0.0s\n",
      "[CV 1/5] END C=10, degree=4, gamma=auto, kernel=poly;, score=0.875 total time=   0.0s\n",
      "[CV 2/5] END C=10, degree=4, gamma=auto, kernel=poly;, score=0.875 total time=   0.0s\n",
      "[CV 3/5] END C=10, degree=4, gamma=auto, kernel=poly;, score=0.917 total time=   0.0s\n",
      "[CV 4/5] END C=10, degree=4, gamma=auto, kernel=poly;, score=0.875 total time=   0.0s\n",
      "[CV 5/5] END C=10, degree=4, gamma=auto, kernel=poly;, score=0.792 total time=   0.0s\n",
      "[CV 1/5] END C=100, degree=2, gamma=scale, kernel=linear;, score=0.958 total time=   0.0s\n",
      "[CV 2/5] END C=100, degree=2, gamma=scale, kernel=linear;, score=0.958 total time=   0.0s\n",
      "[CV 3/5] END C=100, degree=2, gamma=scale, kernel=linear;, score=0.833 total time=   0.0s\n",
      "[CV 4/5] END C=100, degree=2, gamma=scale, kernel=linear;, score=1.000 total time=   0.0s\n",
      "[CV 5/5] END C=100, degree=2, gamma=scale, kernel=linear;, score=1.000 total time=   0.0s\n",
      "[CV 1/5] END C=100, degree=2, gamma=scale, kernel=rbf;, score=0.958 total time=   0.0s\n",
      "[CV 2/5] END C=100, degree=2, gamma=scale, kernel=rbf;, score=0.958 total time=   0.0s\n",
      "[CV 3/5] END C=100, degree=2, gamma=scale, kernel=rbf;, score=0.833 total time=   0.0s\n",
      "[CV 4/5] END C=100, degree=2, gamma=scale, kernel=rbf;, score=0.958 total time=   0.0s\n",
      "[CV 5/5] END C=100, degree=2, gamma=scale, kernel=rbf;, score=1.000 total time=   0.0s\n",
      "[CV 1/5] END C=100, degree=2, gamma=scale, kernel=poly;, score=0.875 total time=   0.0s\n",
      "[CV 2/5] END C=100, degree=2, gamma=scale, kernel=poly;, score=0.917 total time=   0.0s\n",
      "[CV 3/5] END C=100, degree=2, gamma=scale, kernel=poly;, score=0.792 total time=   0.0s\n",
      "[CV 4/5] END C=100, degree=2, gamma=scale, kernel=poly;, score=0.875 total time=   0.0s\n",
      "[CV 5/5] END C=100, degree=2, gamma=scale, kernel=poly;, score=0.917 total time=   0.0s\n",
      "[CV 1/5] END C=100, degree=2, gamma=auto, kernel=linear;, score=0.958 total time=   0.0s\n",
      "[CV 2/5] END C=100, degree=2, gamma=auto, kernel=linear;, score=0.958 total time=   0.0s\n",
      "[CV 3/5] END C=100, degree=2, gamma=auto, kernel=linear;, score=0.833 total time=   0.0s\n",
      "[CV 4/5] END C=100, degree=2, gamma=auto, kernel=linear;, score=1.000 total time=   0.0s\n",
      "[CV 5/5] END C=100, degree=2, gamma=auto, kernel=linear;, score=1.000 total time=   0.0s\n",
      "[CV 1/5] END C=100, degree=2, gamma=auto, kernel=rbf;, score=0.958 total time=   0.0s\n",
      "[CV 2/5] END C=100, degree=2, gamma=auto, kernel=rbf;, score=0.958 total time=   0.0s\n",
      "[CV 3/5] END C=100, degree=2, gamma=auto, kernel=rbf;, score=0.833 total time=   0.0s\n",
      "[CV 4/5] END C=100, degree=2, gamma=auto, kernel=rbf;, score=0.958 total time=   0.0s\n",
      "[CV 5/5] END C=100, degree=2, gamma=auto, kernel=rbf;, score=1.000 total time=   0.0s\n",
      "[CV 1/5] END C=100, degree=2, gamma=auto, kernel=poly;, score=0.875 total time=   0.0s\n",
      "[CV 2/5] END C=100, degree=2, gamma=auto, kernel=poly;, score=0.917 total time=   0.0s\n",
      "[CV 3/5] END C=100, degree=2, gamma=auto, kernel=poly;, score=0.792 total time=   0.0s\n",
      "[CV 4/5] END C=100, degree=2, gamma=auto, kernel=poly;, score=0.875 total time=   0.0s\n",
      "[CV 5/5] END C=100, degree=2, gamma=auto, kernel=poly;, score=0.917 total time=   0.0s\n",
      "[CV 1/5] END C=100, degree=3, gamma=scale, kernel=linear;, score=0.958 total time=   0.0s\n",
      "[CV 2/5] END C=100, degree=3, gamma=scale, kernel=linear;, score=0.958 total time=   0.0s\n",
      "[CV 3/5] END C=100, degree=3, gamma=scale, kernel=linear;, score=0.833 total time=   0.0s\n",
      "[CV 4/5] END C=100, degree=3, gamma=scale, kernel=linear;, score=1.000 total time=   0.0s\n",
      "[CV 5/5] END C=100, degree=3, gamma=scale, kernel=linear;, score=1.000 total time=   0.0s\n",
      "[CV 1/5] END C=100, degree=3, gamma=scale, kernel=rbf;, score=0.958 total time=   0.0s\n",
      "[CV 2/5] END C=100, degree=3, gamma=scale, kernel=rbf;, score=0.958 total time=   0.0s\n",
      "[CV 3/5] END C=100, degree=3, gamma=scale, kernel=rbf;, score=0.833 total time=   0.0s\n",
      "[CV 4/5] END C=100, degree=3, gamma=scale, kernel=rbf;, score=0.958 total time=   0.0s\n",
      "[CV 5/5] END C=100, degree=3, gamma=scale, kernel=rbf;, score=1.000 total time=   0.0s\n",
      "[CV 1/5] END C=100, degree=3, gamma=scale, kernel=poly;, score=0.958 total time=   0.0s\n",
      "[CV 2/5] END C=100, degree=3, gamma=scale, kernel=poly;, score=0.917 total time=   0.0s\n",
      "[CV 3/5] END C=100, degree=3, gamma=scale, kernel=poly;, score=0.833 total time=   0.0s\n",
      "[CV 4/5] END C=100, degree=3, gamma=scale, kernel=poly;, score=0.958 total time=   0.0s\n",
      "[CV 5/5] END C=100, degree=3, gamma=scale, kernel=poly;, score=0.958 total time=   0.0s\n",
      "[CV 1/5] END C=100, degree=3, gamma=auto, kernel=linear;, score=0.958 total time=   0.0s\n",
      "[CV 2/5] END C=100, degree=3, gamma=auto, kernel=linear;, score=0.958 total time=   0.0s\n",
      "[CV 3/5] END C=100, degree=3, gamma=auto, kernel=linear;, score=0.833 total time=   0.0s\n",
      "[CV 4/5] END C=100, degree=3, gamma=auto, kernel=linear;, score=1.000 total time=   0.0s\n",
      "[CV 5/5] END C=100, degree=3, gamma=auto, kernel=linear;, score=1.000 total time=   0.0s\n",
      "[CV 1/5] END C=100, degree=3, gamma=auto, kernel=rbf;, score=0.958 total time=   0.0s\n",
      "[CV 2/5] END C=100, degree=3, gamma=auto, kernel=rbf;, score=0.958 total time=   0.0s\n",
      "[CV 3/5] END C=100, degree=3, gamma=auto, kernel=rbf;, score=0.833 total time=   0.0s\n",
      "[CV 4/5] END C=100, degree=3, gamma=auto, kernel=rbf;, score=0.958 total time=   0.0s\n",
      "[CV 5/5] END C=100, degree=3, gamma=auto, kernel=rbf;, score=1.000 total time=   0.0s\n",
      "[CV 1/5] END C=100, degree=3, gamma=auto, kernel=poly;, score=0.958 total time=   0.0s\n",
      "[CV 2/5] END C=100, degree=3, gamma=auto, kernel=poly;, score=0.917 total time=   0.0s\n",
      "[CV 3/5] END C=100, degree=3, gamma=auto, kernel=poly;, score=0.833 total time=   0.0s\n",
      "[CV 4/5] END C=100, degree=3, gamma=auto, kernel=poly;, score=0.958 total time=   0.0s\n",
      "[CV 5/5] END C=100, degree=3, gamma=auto, kernel=poly;, score=0.958 total time=   0.0s\n",
      "[CV 1/5] END C=100, degree=4, gamma=scale, kernel=linear;, score=0.958 total time=   0.0s\n",
      "[CV 2/5] END C=100, degree=4, gamma=scale, kernel=linear;, score=0.958 total time=   0.0s\n",
      "[CV 3/5] END C=100, degree=4, gamma=scale, kernel=linear;, score=0.833 total time=   0.0s\n",
      "[CV 4/5] END C=100, degree=4, gamma=scale, kernel=linear;, score=1.000 total time=   0.0s\n",
      "[CV 5/5] END C=100, degree=4, gamma=scale, kernel=linear;, score=1.000 total time=   0.0s\n",
      "[CV 1/5] END C=100, degree=4, gamma=scale, kernel=rbf;, score=0.958 total time=   0.0s\n",
      "[CV 2/5] END C=100, degree=4, gamma=scale, kernel=rbf;, score=0.958 total time=   0.0s\n",
      "[CV 3/5] END C=100, degree=4, gamma=scale, kernel=rbf;, score=0.833 total time=   0.0s\n",
      "[CV 4/5] END C=100, degree=4, gamma=scale, kernel=rbf;, score=0.958 total time=   0.0s\n",
      "[CV 5/5] END C=100, degree=4, gamma=scale, kernel=rbf;, score=1.000 total time=   0.0s\n",
      "[CV 1/5] END C=100, degree=4, gamma=scale, kernel=poly;, score=0.875 total time=   0.0s\n",
      "[CV 2/5] END C=100, degree=4, gamma=scale, kernel=poly;, score=0.875 total time=   0.0s\n",
      "[CV 3/5] END C=100, degree=4, gamma=scale, kernel=poly;, score=0.875 total time=   0.0s\n",
      "[CV 4/5] END C=100, degree=4, gamma=scale, kernel=poly;, score=0.875 total time=   0.0s\n",
      "[CV 5/5] END C=100, degree=4, gamma=scale, kernel=poly;, score=0.833 total time=   0.0s\n",
      "[CV 1/5] END C=100, degree=4, gamma=auto, kernel=linear;, score=0.958 total time=   0.0s\n",
      "[CV 2/5] END C=100, degree=4, gamma=auto, kernel=linear;, score=0.958 total time=   0.0s\n",
      "[CV 3/5] END C=100, degree=4, gamma=auto, kernel=linear;, score=0.833 total time=   0.0s\n",
      "[CV 4/5] END C=100, degree=4, gamma=auto, kernel=linear;, score=1.000 total time=   0.0s\n",
      "[CV 5/5] END C=100, degree=4, gamma=auto, kernel=linear;, score=1.000 total time=   0.0s\n",
      "[CV 1/5] END C=100, degree=4, gamma=auto, kernel=rbf;, score=0.958 total time=   0.0s\n",
      "[CV 2/5] END C=100, degree=4, gamma=auto, kernel=rbf;, score=0.958 total time=   0.0s\n",
      "[CV 3/5] END C=100, degree=4, gamma=auto, kernel=rbf;, score=0.833 total time=   0.0s\n",
      "[CV 4/5] END C=100, degree=4, gamma=auto, kernel=rbf;, score=0.958 total time=   0.0s\n",
      "[CV 5/5] END C=100, degree=4, gamma=auto, kernel=rbf;, score=1.000 total time=   0.0s\n",
      "[CV 1/5] END C=100, degree=4, gamma=auto, kernel=poly;, score=0.875 total time=   0.0s\n",
      "[CV 2/5] END C=100, degree=4, gamma=auto, kernel=poly;, score=0.875 total time=   0.0s\n",
      "[CV 3/5] END C=100, degree=4, gamma=auto, kernel=poly;, score=0.875 total time=   0.0s\n",
      "[CV 4/5] END C=100, degree=4, gamma=auto, kernel=poly;, score=0.875 total time=   0.0s\n",
      "[CV 5/5] END C=100, degree=4, gamma=auto, kernel=poly;, score=0.833 total time=   0.0s\n"
     ]
    },
    {
     "data": {
      "text/html": [
       "<style>#sk-container-id-3 {color: black;background-color: white;}#sk-container-id-3 pre{padding: 0;}#sk-container-id-3 div.sk-toggleable {background-color: white;}#sk-container-id-3 label.sk-toggleable__label {cursor: pointer;display: block;width: 100%;margin-bottom: 0;padding: 0.3em;box-sizing: border-box;text-align: center;}#sk-container-id-3 label.sk-toggleable__label-arrow:before {content: \"▸\";float: left;margin-right: 0.25em;color: #696969;}#sk-container-id-3 label.sk-toggleable__label-arrow:hover:before {color: black;}#sk-container-id-3 div.sk-estimator:hover label.sk-toggleable__label-arrow:before {color: black;}#sk-container-id-3 div.sk-toggleable__content {max-height: 0;max-width: 0;overflow: hidden;text-align: left;background-color: #f0f8ff;}#sk-container-id-3 div.sk-toggleable__content pre {margin: 0.2em;color: black;border-radius: 0.25em;background-color: #f0f8ff;}#sk-container-id-3 input.sk-toggleable__control:checked~div.sk-toggleable__content {max-height: 200px;max-width: 100%;overflow: auto;}#sk-container-id-3 input.sk-toggleable__control:checked~label.sk-toggleable__label-arrow:before {content: \"▾\";}#sk-container-id-3 div.sk-estimator input.sk-toggleable__control:checked~label.sk-toggleable__label {background-color: #d4ebff;}#sk-container-id-3 div.sk-label input.sk-toggleable__control:checked~label.sk-toggleable__label {background-color: #d4ebff;}#sk-container-id-3 input.sk-hidden--visually {border: 0;clip: rect(1px 1px 1px 1px);clip: rect(1px, 1px, 1px, 1px);height: 1px;margin: -1px;overflow: hidden;padding: 0;position: absolute;width: 1px;}#sk-container-id-3 div.sk-estimator {font-family: monospace;background-color: #f0f8ff;border: 1px dotted black;border-radius: 0.25em;box-sizing: border-box;margin-bottom: 0.5em;}#sk-container-id-3 div.sk-estimator:hover {background-color: #d4ebff;}#sk-container-id-3 div.sk-parallel-item::after {content: \"\";width: 100%;border-bottom: 1px solid gray;flex-grow: 1;}#sk-container-id-3 div.sk-label:hover label.sk-toggleable__label {background-color: #d4ebff;}#sk-container-id-3 div.sk-serial::before {content: \"\";position: absolute;border-left: 1px solid gray;box-sizing: border-box;top: 0;bottom: 0;left: 50%;z-index: 0;}#sk-container-id-3 div.sk-serial {display: flex;flex-direction: column;align-items: center;background-color: white;padding-right: 0.2em;padding-left: 0.2em;position: relative;}#sk-container-id-3 div.sk-item {position: relative;z-index: 1;}#sk-container-id-3 div.sk-parallel {display: flex;align-items: stretch;justify-content: center;background-color: white;position: relative;}#sk-container-id-3 div.sk-item::before, #sk-container-id-3 div.sk-parallel-item::before {content: \"\";position: absolute;border-left: 1px solid gray;box-sizing: border-box;top: 0;bottom: 0;left: 50%;z-index: -1;}#sk-container-id-3 div.sk-parallel-item {display: flex;flex-direction: column;z-index: 1;position: relative;background-color: white;}#sk-container-id-3 div.sk-parallel-item:first-child::after {align-self: flex-end;width: 50%;}#sk-container-id-3 div.sk-parallel-item:last-child::after {align-self: flex-start;width: 50%;}#sk-container-id-3 div.sk-parallel-item:only-child::after {width: 0;}#sk-container-id-3 div.sk-dashed-wrapped {border: 1px dashed gray;margin: 0 0.4em 0.5em 0.4em;box-sizing: border-box;padding-bottom: 0.4em;background-color: white;}#sk-container-id-3 div.sk-label label {font-family: monospace;font-weight: bold;display: inline-block;line-height: 1.2em;}#sk-container-id-3 div.sk-label-container {text-align: center;}#sk-container-id-3 div.sk-container {/* jupyter's `normalize.less` sets `[hidden] { display: none; }` but bootstrap.min.css set `[hidden] { display: none !important; }` so we also need the `!important` here to be able to override the default hidden behavior on the sphinx rendered scikit-learn.org. See: https://github.com/scikit-learn/scikit-learn/issues/21755 */display: inline-block !important;position: relative;}#sk-container-id-3 div.sk-text-repr-fallback {display: none;}</style><div id=\"sk-container-id-3\" class=\"sk-top-container\"><div class=\"sk-text-repr-fallback\"><pre>GridSearchCV(cv=5, estimator=SVC(),\n",
       "             param_grid={&#x27;C&#x27;: [0.1, 1, 10, 100], &#x27;degree&#x27;: [2, 3, 4],\n",
       "                         &#x27;gamma&#x27;: [&#x27;scale&#x27;, &#x27;auto&#x27;],\n",
       "                         &#x27;kernel&#x27;: [&#x27;linear&#x27;, &#x27;rbf&#x27;, &#x27;poly&#x27;]},\n",
       "             verbose=3)</pre><b>In a Jupyter environment, please rerun this cell to show the HTML representation or trust the notebook. <br />On GitHub, the HTML representation is unable to render, please try loading this page with nbviewer.org.</b></div><div class=\"sk-container\" hidden><div class=\"sk-item sk-dashed-wrapped\"><div class=\"sk-label-container\"><div class=\"sk-label sk-toggleable\"><input class=\"sk-toggleable__control sk-hidden--visually\" id=\"sk-estimator-id-5\" type=\"checkbox\" ><label for=\"sk-estimator-id-5\" class=\"sk-toggleable__label sk-toggleable__label-arrow\">GridSearchCV</label><div class=\"sk-toggleable__content\"><pre>GridSearchCV(cv=5, estimator=SVC(),\n",
       "             param_grid={&#x27;C&#x27;: [0.1, 1, 10, 100], &#x27;degree&#x27;: [2, 3, 4],\n",
       "                         &#x27;gamma&#x27;: [&#x27;scale&#x27;, &#x27;auto&#x27;],\n",
       "                         &#x27;kernel&#x27;: [&#x27;linear&#x27;, &#x27;rbf&#x27;, &#x27;poly&#x27;]},\n",
       "             verbose=3)</pre></div></div></div><div class=\"sk-parallel\"><div class=\"sk-parallel-item\"><div class=\"sk-item\"><div class=\"sk-label-container\"><div class=\"sk-label sk-toggleable\"><input class=\"sk-toggleable__control sk-hidden--visually\" id=\"sk-estimator-id-6\" type=\"checkbox\" ><label for=\"sk-estimator-id-6\" class=\"sk-toggleable__label sk-toggleable__label-arrow\">estimator: SVC</label><div class=\"sk-toggleable__content\"><pre>SVC()</pre></div></div></div><div class=\"sk-serial\"><div class=\"sk-item\"><div class=\"sk-estimator sk-toggleable\"><input class=\"sk-toggleable__control sk-hidden--visually\" id=\"sk-estimator-id-7\" type=\"checkbox\" ><label for=\"sk-estimator-id-7\" class=\"sk-toggleable__label sk-toggleable__label-arrow\">SVC</label><div class=\"sk-toggleable__content\"><pre>SVC()</pre></div></div></div></div></div></div></div></div></div></div>"
      ],
      "text/plain": [
       "GridSearchCV(cv=5, estimator=SVC(),\n",
       "             param_grid={'C': [0.1, 1, 10, 100], 'degree': [2, 3, 4],\n",
       "                         'gamma': ['scale', 'auto'],\n",
       "                         'kernel': ['linear', 'rbf', 'poly']},\n",
       "             verbose=3)"
      ]
     },
     "execution_count": 77,
     "metadata": {},
     "output_type": "execute_result"
    }
   ],
   "source": [
    "# hyperparameter tunning\n",
    "from sklearn.model_selection import GridSearchCV\n",
    "param_grid = {\n",
    "    'C': [0.1, 1, 10, 100],\n",
    "    'kernel': ['linear', 'rbf', 'poly'],\n",
    "    'degree': [2, 3, 4],\n",
    "    'gamma': ['scale', 'auto'],\n",
    "}\n",
    "grid = GridSearchCV(SVC(),param_grid=param_grid,cv=5,verbose=3)\n",
    "grid.fit(X_train,y_train)"
   ]
  },
  {
   "cell_type": "code",
   "execution_count": 80,
   "id": "8daa677d",
   "metadata": {},
   "outputs": [
    {
     "data": {
      "text/html": [
       "<style>#sk-container-id-4 {color: black;background-color: white;}#sk-container-id-4 pre{padding: 0;}#sk-container-id-4 div.sk-toggleable {background-color: white;}#sk-container-id-4 label.sk-toggleable__label {cursor: pointer;display: block;width: 100%;margin-bottom: 0;padding: 0.3em;box-sizing: border-box;text-align: center;}#sk-container-id-4 label.sk-toggleable__label-arrow:before {content: \"▸\";float: left;margin-right: 0.25em;color: #696969;}#sk-container-id-4 label.sk-toggleable__label-arrow:hover:before {color: black;}#sk-container-id-4 div.sk-estimator:hover label.sk-toggleable__label-arrow:before {color: black;}#sk-container-id-4 div.sk-toggleable__content {max-height: 0;max-width: 0;overflow: hidden;text-align: left;background-color: #f0f8ff;}#sk-container-id-4 div.sk-toggleable__content pre {margin: 0.2em;color: black;border-radius: 0.25em;background-color: #f0f8ff;}#sk-container-id-4 input.sk-toggleable__control:checked~div.sk-toggleable__content {max-height: 200px;max-width: 100%;overflow: auto;}#sk-container-id-4 input.sk-toggleable__control:checked~label.sk-toggleable__label-arrow:before {content: \"▾\";}#sk-container-id-4 div.sk-estimator input.sk-toggleable__control:checked~label.sk-toggleable__label {background-color: #d4ebff;}#sk-container-id-4 div.sk-label input.sk-toggleable__control:checked~label.sk-toggleable__label {background-color: #d4ebff;}#sk-container-id-4 input.sk-hidden--visually {border: 0;clip: rect(1px 1px 1px 1px);clip: rect(1px, 1px, 1px, 1px);height: 1px;margin: -1px;overflow: hidden;padding: 0;position: absolute;width: 1px;}#sk-container-id-4 div.sk-estimator {font-family: monospace;background-color: #f0f8ff;border: 1px dotted black;border-radius: 0.25em;box-sizing: border-box;margin-bottom: 0.5em;}#sk-container-id-4 div.sk-estimator:hover {background-color: #d4ebff;}#sk-container-id-4 div.sk-parallel-item::after {content: \"\";width: 100%;border-bottom: 1px solid gray;flex-grow: 1;}#sk-container-id-4 div.sk-label:hover label.sk-toggleable__label {background-color: #d4ebff;}#sk-container-id-4 div.sk-serial::before {content: \"\";position: absolute;border-left: 1px solid gray;box-sizing: border-box;top: 0;bottom: 0;left: 50%;z-index: 0;}#sk-container-id-4 div.sk-serial {display: flex;flex-direction: column;align-items: center;background-color: white;padding-right: 0.2em;padding-left: 0.2em;position: relative;}#sk-container-id-4 div.sk-item {position: relative;z-index: 1;}#sk-container-id-4 div.sk-parallel {display: flex;align-items: stretch;justify-content: center;background-color: white;position: relative;}#sk-container-id-4 div.sk-item::before, #sk-container-id-4 div.sk-parallel-item::before {content: \"\";position: absolute;border-left: 1px solid gray;box-sizing: border-box;top: 0;bottom: 0;left: 50%;z-index: -1;}#sk-container-id-4 div.sk-parallel-item {display: flex;flex-direction: column;z-index: 1;position: relative;background-color: white;}#sk-container-id-4 div.sk-parallel-item:first-child::after {align-self: flex-end;width: 50%;}#sk-container-id-4 div.sk-parallel-item:last-child::after {align-self: flex-start;width: 50%;}#sk-container-id-4 div.sk-parallel-item:only-child::after {width: 0;}#sk-container-id-4 div.sk-dashed-wrapped {border: 1px dashed gray;margin: 0 0.4em 0.5em 0.4em;box-sizing: border-box;padding-bottom: 0.4em;background-color: white;}#sk-container-id-4 div.sk-label label {font-family: monospace;font-weight: bold;display: inline-block;line-height: 1.2em;}#sk-container-id-4 div.sk-label-container {text-align: center;}#sk-container-id-4 div.sk-container {/* jupyter's `normalize.less` sets `[hidden] { display: none; }` but bootstrap.min.css set `[hidden] { display: none !important; }` so we also need the `!important` here to be able to override the default hidden behavior on the sphinx rendered scikit-learn.org. See: https://github.com/scikit-learn/scikit-learn/issues/21755 */display: inline-block !important;position: relative;}#sk-container-id-4 div.sk-text-repr-fallback {display: none;}</style><div id=\"sk-container-id-4\" class=\"sk-top-container\"><div class=\"sk-text-repr-fallback\"><pre>SVC(C=10, degree=2, kernel=&#x27;linear&#x27;)</pre><b>In a Jupyter environment, please rerun this cell to show the HTML representation or trust the notebook. <br />On GitHub, the HTML representation is unable to render, please try loading this page with nbviewer.org.</b></div><div class=\"sk-container\" hidden><div class=\"sk-item\"><div class=\"sk-estimator sk-toggleable\"><input class=\"sk-toggleable__control sk-hidden--visually\" id=\"sk-estimator-id-8\" type=\"checkbox\" checked><label for=\"sk-estimator-id-8\" class=\"sk-toggleable__label sk-toggleable__label-arrow\">SVC</label><div class=\"sk-toggleable__content\"><pre>SVC(C=10, degree=2, kernel=&#x27;linear&#x27;)</pre></div></div></div></div></div>"
      ],
      "text/plain": [
       "SVC(C=10, degree=2, kernel='linear')"
      ]
     },
     "execution_count": 80,
     "metadata": {},
     "output_type": "execute_result"
    }
   ],
   "source": [
    "tuned_svc = SVC(**grid.best_params_)\n",
    "tuned_svc.fit(X_train,y_train)"
   ]
  },
  {
   "cell_type": "code",
   "execution_count": 81,
   "id": "34ea75b3",
   "metadata": {},
   "outputs": [],
   "source": [
    "y_pred = tuned_svc.predict(X_test)"
   ]
  },
  {
   "cell_type": "code",
   "execution_count": 82,
   "id": "b5b64363",
   "metadata": {},
   "outputs": [
    {
     "name": "stdout",
     "output_type": "stream",
     "text": [
      "0.9666666666666667\n"
     ]
    }
   ],
   "source": [
    "print(accuracy_score(y_test,y_pred))"
   ]
  },
  {
   "cell_type": "code",
   "execution_count": 84,
   "id": "11c897e5",
   "metadata": {},
   "outputs": [],
   "source": [
    "# pickling\n",
    "import pickle\n",
    "pickle.dump(tuned_svc,open(\"model_svc.pkl\",'wb'))"
   ]
  }
 ],
 "metadata": {
  "kernelspec": {
   "display_name": "Python 3 (ipykernel)",
   "language": "python",
   "name": "python3"
  },
  "language_info": {
   "codemirror_mode": {
    "name": "ipython",
    "version": 3
   },
   "file_extension": ".py",
   "mimetype": "text/x-python",
   "name": "python",
   "nbconvert_exporter": "python",
   "pygments_lexer": "ipython3",
   "version": "3.11.2"
  }
 },
 "nbformat": 4,
 "nbformat_minor": 5
}
