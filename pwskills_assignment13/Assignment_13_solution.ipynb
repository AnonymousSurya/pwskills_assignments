{
 "cells": [
  {
   "cell_type": "markdown",
   "id": "f22e1436-888b-4668-b665-1567466dcdaa",
   "metadata": {},
   "source": [
    "### 1)"
   ]
  },
  {
   "cell_type": "markdown",
   "id": "9023a20f-3b05-411e-852f-7db622061f48",
   "metadata": {},
   "source": [
    "#### Multithreading is defined as the ability of a processor to execute multiple threads concurrently."
   ]
  },
  {
   "cell_type": "markdown",
   "id": "d49ab49a-4164-474a-89b4-c57eb91655f2",
   "metadata": {},
   "source": [
    "#### It is used because-  Multiple threads within a process share the same data space with the main thread and can therefore share information or communicate with each other more easily than if they were separate processes.  Threads also sometimes called light-weight processes and they do not require much memory overhead; they are cheaper than processes.\n",
    "#### Basically Multithreading aims to perform multiple tasks simultaneously, which increases performance, speed and improves the rendering of the application."
   ]
  },
  {
   "cell_type": "markdown",
   "id": "2a02d922-e245-498f-95e0-a93a0c41b052",
   "metadata": {},
   "source": [
    "#### The Threading Module is used to handle threads in python."
   ]
  },
  {
   "cell_type": "markdown",
   "id": "b8fd824a-48f9-41e4-ae1d-313c74366e8c",
   "metadata": {},
   "source": [
    "### 2) "
   ]
  },
  {
   "cell_type": "markdown",
   "id": "3d8ff90c-fc33-48d9-ba0d-54ad4b70199a",
   "metadata": {},
   "source": [
    "#### Threading in python is used to run multiple threads (tasks, function calls) at the same time."
   ]
  },
  {
   "cell_type": "markdown",
   "id": "96af2388-bc5b-4337-88ed-a7295d85fcc5",
   "metadata": {},
   "source": [
    "#### active_count()\n",
    "> In Python, the method threading.active_count() from the threading module is used to count the currently active or running threads."
   ]
  },
  {
   "cell_type": "markdown",
   "id": "c8a86abc-cdee-4fc3-bf0c-60a8bb3d42a1",
   "metadata": {},
   "source": [
    "#### current_thread()"
   ]
  },
  {
   "cell_type": "markdown",
   "id": "0140b11e-06f3-4a48-b1e1-d28fab713b55",
   "metadata": {},
   "source": [
    "> current_thread() is an inbuilt method of the threading module in Python. It is used to return the current Thread object, which corresponds to the caller's thread of control."
   ]
  },
  {
   "cell_type": "markdown",
   "id": "0bbe4af6-ddbf-4377-bbf9-9cc07cde765f",
   "metadata": {},
   "source": [
    "#### enumerate()"
   ]
  },
  {
   "cell_type": "markdown",
   "id": "9966834f-a226-4582-aad9-dbf74fca4260",
   "metadata": {},
   "source": [
    "> Often, when dealing with iterators, we also get need to keep a count of iterations. Python eases the programmers’ task by providing a built-in function enumerate() for this task. Enumerate() method adds a counter to an iterable and returns it in a form of enumerating object. This enumerated object can then be used directly for loops or converted into a list of tuples using the list() function."
   ]
  },
  {
   "cell_type": "markdown",
   "id": "53e73394-0c86-4404-b588-6f39048d3a76",
   "metadata": {},
   "source": [
    "### 3)"
   ]
  },
  {
   "cell_type": "markdown",
   "id": "a5b70079-eb09-47e7-b41f-5244324909ba",
   "metadata": {},
   "source": [
    "#### run()"
   ]
  },
  {
   "cell_type": "markdown",
   "id": "56d9d4fe-ecd2-42be-ba30-8be3021976b1",
   "metadata": {},
   "source": [
    "> The .run() method executes any target function belonging to a given thread object that is now active. It normally executes in the background after the .start() method is invoked. The .run() method commonly takes the form of the target function passed to the thread_object, if any."
   ]
  },
  {
   "cell_type": "markdown",
   "id": "1460e11c-cb59-4a6e-ab3b-c843e264345b",
   "metadata": {},
   "source": [
    "#### start()"
   ]
  },
  {
   "cell_type": "markdown",
   "id": "15c17cb2-b527-44b3-b55e-f30d85f256c0",
   "metadata": {},
   "source": [
    ">  It start the thread’s activity.\n",
    "It must be called at most once per thread object. It arranges for the object’s run() method to be invoked in a separate thread of control.\n",
    "This method will raise a RuntimeError if called more than once on the same thread object."
   ]
  },
  {
   "cell_type": "markdown",
   "id": "11e5ca97-23fb-4e11-84a9-754e698e3fd8",
   "metadata": {},
   "source": [
    "#### join()"
   ]
  },
  {
   "cell_type": "markdown",
   "id": "2be21184-122d-4e74-8972-78888c88bb59",
   "metadata": {},
   "source": [
    "> The join() method delays a program’s flow of execution until the target thread has been completely read. The join() method always returns None. There is also a timeout parameter that is set to None by default. If set otherwise, it must be represented in seconds with a floating-point value"
   ]
  },
  {
   "cell_type": "markdown",
   "id": "c4d87455-df6a-41e7-9371-56033e71b628",
   "metadata": {},
   "source": [
    "#### is_alive()"
   ]
  },
  {
   "cell_type": "markdown",
   "id": "41ee24b2-3536-417d-b807-edcb5fd7e79f",
   "metadata": {},
   "source": [
    "> The is_alive() method returns True if the thread is still running and False, otherwise. This method will return True from when the run() method starts until just after it finishes."
   ]
  },
  {
   "cell_type": "markdown",
   "id": "28daa7b7-1a43-4443-a4f5-ca8829d84d4c",
   "metadata": {},
   "source": [
    "### 4)"
   ]
  },
  {
   "cell_type": "code",
   "execution_count": 2,
   "id": "4b0e6d2d-2014-4cb1-8b1c-88f57796b5cb",
   "metadata": {},
   "outputs": [],
   "source": [
    "import threading"
   ]
  },
  {
   "cell_type": "code",
   "execution_count": 5,
   "id": "f5a6457e-057d-48ac-9c6a-007ecd58b3f8",
   "metadata": {},
   "outputs": [],
   "source": [
    "def sqr(q):\n",
    "    print(\"square of {} is {}\".format(q,q**2))"
   ]
  },
  {
   "cell_type": "code",
   "execution_count": 6,
   "id": "f19bc865-7c69-4ff5-bafc-f87e63a133bd",
   "metadata": {},
   "outputs": [],
   "source": [
    "def cube(q):\n",
    "    print(\"cube of {} is {}\".format(q,q**3))"
   ]
  },
  {
   "cell_type": "code",
   "execution_count": 7,
   "id": "8033f0cd-d5de-44a4-a8a9-69a6c988c87a",
   "metadata": {},
   "outputs": [],
   "source": [
    "thread_for_sqr = [threading.Thread(target=sqr , args=(i,)) for i in range(15)]\n",
    "thread_for_cube = [threading.Thread(target=cube , args=(i,)) for i in range(15)]"
   ]
  },
  {
   "cell_type": "code",
   "execution_count": 8,
   "id": "93596b5a-dc95-4022-82f5-4570981edf9d",
   "metadata": {},
   "outputs": [
    {
     "name": "stdout",
     "output_type": "stream",
     "text": [
      "square of 0 is 0\n",
      "square of 1 is 1\n",
      "square of 2 is 4\n",
      "square of 3 is 9\n",
      "square of 4 is 16\n",
      "square of 5 is 25\n",
      "square of 6 is 36\n",
      "square of 7 is 49\n",
      "square of 8 is 64\n",
      "square of 9 is 81\n",
      "square of 10 is 100\n",
      "square of 11 is 121\n",
      "square of 12 is 144\n",
      "square of 13 is 169\n",
      "square of 14 is 196\n"
     ]
    }
   ],
   "source": [
    "for t in thread_for_sqr:\n",
    "    t.start()"
   ]
  },
  {
   "cell_type": "code",
   "execution_count": 9,
   "id": "f3b5d530-c89f-42b2-8b33-36bcfe5e5e28",
   "metadata": {},
   "outputs": [
    {
     "name": "stdout",
     "output_type": "stream",
     "text": [
      "cube of 0 is 0\n",
      "cube of 1 is 1\n",
      "cube of 2 is 8\n",
      "cube of 3 is 27\n",
      "cube of 4 is 64\n",
      "cube of 5 is 125\n",
      "cube of 6 is 216\n",
      "cube of 7 is 343\n",
      "cube of 8 is 512\n",
      "cube of 9 is 729\n",
      "cube of 10 is 1000\n",
      "cube of 11 is 1331\n",
      "cube of 12 is 1728\n",
      "cube of 13 is 2197\n",
      "cube of 14 is 2744\n"
     ]
    }
   ],
   "source": [
    "for s in thread_for_cube:\n",
    "    s.start()"
   ]
  },
  {
   "cell_type": "markdown",
   "id": "3ba27cb4-0825-4e85-8754-acd59d50df7a",
   "metadata": {},
   "source": [
    "### 5)"
   ]
  },
  {
   "cell_type": "markdown",
   "id": "be94cfef-016f-45a3-90dc-985537b342f9",
   "metadata": {},
   "source": [
    "#### Advantages:- Multithreading in Python streamlines the efficient utilization of resources as the threads share the same memory and data space. It also allows the concurrent appearance of multiple tasks and reduces the response time. This improves the performance. "
   ]
  },
  {
   "cell_type": "markdown",
   "id": "cd8f848d-44a6-4c67-9c9c-3e20135a75f2",
   "metadata": {},
   "source": [
    "#### Disadvantags:- When context switch happens it block process, as process is maintaining threads so threads also block. Multithreaded application cannot take advantage of multiprocessing"
   ]
  },
  {
   "cell_type": "markdown",
   "id": "b82245cf-99bd-4047-ab92-cbe8c5b6b1ce",
   "metadata": {},
   "source": [
    "### 6)"
   ]
  },
  {
   "cell_type": "markdown",
   "id": "f1333efb-bef1-4276-9ffe-c5d1013161c6",
   "metadata": {},
   "source": [
    "#### Deadlocks\n",
    "> A deadlock is a concurrency failure mode where a thread or threads wait for a condition that never occurs.\n",
    "The result is that the deadlock threads are unable to progress and the program is stuck or frozen and must be terminated forcefully.\n",
    "\n",
    "Common examples of the cause of threading deadlocks include:\n",
    "\n",
    ">> A thread that waits on itself (e.g. attempts to acquire the same mutex lock twice).\n",
    "\n",
    ">> Threads that wait on each other (e.g. A waits on B, B waits on A).\n",
    "\n",
    ">> Thread that fails to release a resource (e.g. mutex lock, semaphore, barrier, condition, event, etc.).\n",
    "\n",
    ">> Threads that acquire mutex locks in different orders (e.g. fail to perform lock ordering)."
   ]
  },
  {
   "cell_type": "markdown",
   "id": "4be5f1ee-0098-419f-89e5-88eb3973e253",
   "metadata": {},
   "source": [
    "#### Race conditions\n",
    "> A race condition is a bug in concurrency programming. It is a failure case where the behavior of the program is dependent upon the order of execution by two or more threads. This means, the behavior of the program will not be predictable, possibly changing each time it is run."
   ]
  }
 ],
 "metadata": {
  "kernelspec": {
   "display_name": "Python 3 (ipykernel)",
   "language": "python",
   "name": "python3"
  },
  "language_info": {
   "codemirror_mode": {
    "name": "ipython",
    "version": 3
   },
   "file_extension": ".py",
   "mimetype": "text/x-python",
   "name": "python",
   "nbconvert_exporter": "python",
   "pygments_lexer": "ipython3",
   "version": "3.10.8"
  }
 },
 "nbformat": 4,
 "nbformat_minor": 5
}
