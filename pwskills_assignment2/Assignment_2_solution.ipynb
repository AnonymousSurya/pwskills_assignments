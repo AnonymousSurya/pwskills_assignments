{
 "cells": [
  {
   "cell_type": "markdown",
   "id": "53699ad5-8946-46c0-9d4b-668d84319d08",
   "metadata": {},
   "source": [
    "## 1st Question Solution"
   ]
  },
  {
   "cell_type": "code",
   "execution_count": null,
   "id": "acac7d3d-7477-49e8-b17a-5eb395a72e1d",
   "metadata": {},
   "outputs": [],
   "source": [
    "percent = float(input(\"Enter your percentage: \"))\n",
    "\n",
    "if percent <= 100:\n",
    "    if percent > 90:\n",
    "        print(\"You have 'A' grade\")\n",
    "    elif percent <= 90 and percent > 80:\n",
    "        print(\"You have 'B' grade\")\n",
    "    elif percent <= 80 and percent > 60:\n",
    "        print(\"You have 'C' grade\")\n",
    "    else:\n",
    "        print(\"You have 'D' grade\")\n",
    "\n",
    "else: \n",
    "    print(\"Enter a valid percentage!!!\")\n"
   ]
  },
  {
   "cell_type": "markdown",
   "id": "a1b540ef-acec-4f89-8e18-d1266416c3a0",
   "metadata": {},
   "source": [
    "## 2nd Question Solution"
   ]
  },
  {
   "cell_type": "code",
   "execution_count": null,
   "id": "665742b9-ef14-4082-8f36-40421194a107",
   "metadata": {},
   "outputs": [],
   "source": [
    "bike_price = int(input(\"Enter the price of the bike: \"))\n",
    "\n",
    "if bike_price > 0:\n",
    "    if bike_price > 100000:\n",
    "        print(\"You have '15%' road tax on this bike\")\n",
    "    elif bike_price <= 100000 and bike_price > 50000:\n",
    "        print(\"You have '10%' road tax on this bike\")\n",
    "    else:\n",
    "        print(\"You have '5%' road tax on this bike\")\n",
    "        \n",
    "else: \n",
    "    print(\"Enter a positive number!!!\")\n"
   ]
  },
  {
   "cell_type": "markdown",
   "id": "916887fd-5775-4a61-94e5-2615426a3379",
   "metadata": {},
   "source": [
    "## 3rd Question Solution"
   ]
  },
  {
   "cell_type": "code",
   "execution_count": null,
   "id": "7050ef66-690d-410a-acd4-b208b523475f",
   "metadata": {},
   "outputs": [],
   "source": [
    "city = input(\"Enter city name: \").capitalize()\n",
    "\n",
    "if city == 'Delhi':\n",
    "    print(f\"The Monument in {city} is Red Fort.\")\n",
    "elif city == 'Agra':\n",
    "    print(f\"The Monument in {city} is Taj Mahal.\")\n",
    "elif city == 'Jaipur':\n",
    "    print(f\"The Monument in {city} is Jal Mahal.\")      \n",
    "else: \n",
    "    print(\"We don't have data on this city or you have spelled it incorrectly.\")\n"
   ]
  },
  {
   "cell_type": "markdown",
   "id": "4d9a2d8a-ed69-4562-9aaf-e11bd274b81a",
   "metadata": {},
   "source": [
    "## 4th Question Solution"
   ]
  },
  {
   "cell_type": "code",
   "execution_count": null,
   "id": "7d9e60bf-aaea-4f1e-8f32-12b4632407d6",
   "metadata": {},
   "outputs": [],
   "source": [
    "count = 0\n",
    "num = int(input(\"Enter the number: \"))\n",
    "while num > 10:\n",
    "\n",
    "    if (num/3)> 10:\n",
    "        count+= 1\n",
    "\n",
    "    num/= 3\n",
    "    \n",
    "    \n",
    "print(count)\n"
   ]
  },
  {
   "cell_type": "markdown",
   "id": "a7661441-dd49-41ac-b004-1501d7f460e2",
   "metadata": {},
   "source": [
    "## 5th Question Solution"
   ]
  },
  {
   "cell_type": "markdown",
   "id": "706b6c8e-5ad6-4285-9418-67d5427601fa",
   "metadata": {},
   "source": [
    "#### while loop is used to execute a block of statements repeatedly until a given condition is satisfied. If the condition is True the code inside the while loop is executed. This process repeats until the condition is False. After that the loop stops.\n",
    "#### For loop is usually used when the no. of iterations is known. While loop is used when the number of iterations is unknown. If we don't have a tidy data structure to iterate through, or we don't have a generator function that drives our processing, we must use while loop.\n",
    "#### Example--->"
   ]
  },
  {
   "cell_type": "code",
   "execution_count": null,
   "id": "d8c37f4f-4458-4e56-9844-60856721ee09",
   "metadata": {},
   "outputs": [
    {
     "name": "stdin",
     "output_type": "stream",
     "text": [
      "Enter a number: 78\n",
      "Enter a number: 78\n"
     ]
    }
   ],
   "source": [
    "# program to calculate the sum of numbers until the user enters zero\n",
    "\n",
    "number = int(input(\"Enter a number:\"))\n",
    "total = 0\n",
    "\n",
    "# add numbers until number is zero\n",
    "while number != 0:\n",
    "    total = total + number\n",
    "    # take input again\n",
    "    number = int(input(\"Enter a number:\"))\n",
    "    \n",
    "print('total =', total)"
   ]
  },
  {
   "cell_type": "markdown",
   "id": "a179a24e-a95c-4812-bee7-a926413b9a84",
   "metadata": {},
   "source": [
    "## 6th Question Solution"
   ]
  },
  {
   "cell_type": "code",
   "execution_count": null,
   "id": "38e29576-78fb-42f4-9ef9-1a5b576c4b89",
   "metadata": {},
   "outputs": [],
   "source": [
    "rows = 14\n",
    "print(\"*\" * rows, end=\"\\n\")\n",
    "i = (rows // 2) - 1\n",
    "j = 2\n",
    "while i != 0:\n",
    "    while j <= (rows - 2):\n",
    "        print(\"*\" * i, end=\"\")\n",
    "        print(\"_\" * j, end=\"\")\n",
    "        print(\"*\" * i, end=\"\\n\")\n",
    "        i = i - 1\n",
    "        j = j + 2\n"
   ]
  },
  {
   "cell_type": "code",
   "execution_count": null,
   "id": "c351ff9e-27a3-411c-8b4a-4738628f68bd",
   "metadata": {},
   "outputs": [],
   "source": [
    "rows = 7\n",
    "i = rows\n",
    "while i >= 1:\n",
    "    j = rows\n",
    "    while j > i:\n",
    "        # display space\n",
    "        print('<', end='>')\n",
    "        j -= 1\n",
    "    k = 1\n",
    "    while k <= i:\n",
    "        print('<', end='>')\n",
    "        k += 1\n",
    "    print()\n",
    "    i -= 1\n"
   ]
  },
  {
   "cell_type": "code",
   "execution_count": null,
   "id": "3bb3481b-2ca1-4f79-9528-5643bdbea7b8",
   "metadata": {},
   "outputs": [],
   "source": [
    "rows = 7\n",
    "i = 0\n",
    "while i <= rows - 1:\n",
    "    j = 0\n",
    "    while j < i:\n",
    "        print('', end=' ')\n",
    "        j += 1\n",
    "    k = i\n",
    "    while k <= rows - 1:\n",
    "        print('V', end=' ')\n",
    "        k += 1\n",
    "    print()\n",
    "    i += 1\n",
    "\n",
    "i = rows - 1\n",
    "while i >= 0:\n",
    "    j = 0\n",
    "    while j < i:\n",
    "        print('', end=' ')\n",
    "        j += 1\n",
    "    k = i\n",
    "    while k <= rows - 1:\n",
    "        print('^', end=' ')\n",
    "        k += 1\n",
    "    print('')\n",
    "    i -= 1\n"
   ]
  },
  {
   "cell_type": "markdown",
   "id": "dcefebea-7427-4fec-b986-a8b67f6be65f",
   "metadata": {},
   "source": [
    "## 7th Question Solution"
   ]
  },
  {
   "cell_type": "code",
   "execution_count": null,
   "id": "813cd0cc-ac73-483a-a3c2-02a08b5fbb67",
   "metadata": {},
   "outputs": [],
   "source": [
    "num = 10\n",
    "while num >= 1:\n",
    "    print(num)\n",
    "    num-=1"
   ]
  },
  {
   "cell_type": "markdown",
   "id": "8d20cb95-9768-4783-8a58-cda069b7a00b",
   "metadata": {},
   "source": [
    "## 8th Question Solution"
   ]
  },
  {
   "cell_type": "code",
   "execution_count": null,
   "id": "b4ea8fef-9714-4ddf-8340-8f4a8573d872",
   "metadata": {},
   "outputs": [],
   "source": [
    "num = 10\n",
    "while num >= 1:\n",
    "    print(num, end=\" \")\n",
    "    num-=1"
   ]
  }
 ],
 "metadata": {
  "kernelspec": {
   "display_name": "Python 3 (ipykernel)",
   "language": "python",
   "name": "python3"
  },
  "language_info": {
   "codemirror_mode": {
    "name": "ipython",
    "version": 3
   },
   "file_extension": ".py",
   "mimetype": "text/x-python",
   "name": "python",
   "nbconvert_exporter": "python",
   "pygments_lexer": "ipython3",
   "version": "3.10.8"
  }
 },
 "nbformat": 4,
 "nbformat_minor": 5
}
