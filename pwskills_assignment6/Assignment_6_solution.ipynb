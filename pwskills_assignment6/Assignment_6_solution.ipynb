{
 "cells": [
  {
   "cell_type": "markdown",
   "id": "22b6e087",
   "metadata": {},
   "source": [
    "#### Q1. What is data encoding? How is it useful in data science?"
   ]
  },
  {
   "cell_type": "markdown",
   "id": "aed62262",
   "metadata": {},
   "source": [
    "Data encoding is technique which is used to assign numerical values to categorical features.\n",
    "it is very useful for machine learning model beacause machine learning does not understand categorical data."
   ]
  },
  {
   "cell_type": "markdown",
   "id": "39ab6473",
   "metadata": {},
   "source": [
    "#### Q2. What is nominal encoding? Provide an example of how you would use it in a real-world scenario."
   ]
  },
  {
   "cell_type": "markdown",
   "id": "441158e5",
   "metadata": {},
   "source": [
    "Nominal encoding is also known as one hot encoding. it is use when we have feature where variables are just names and there is no rank or no order to this variable features.\n",
    "\n",
    "example:\n",
    "\n",
    "City of person lives in, Gender of person, Marital Status, etc… In the above example, We do not have any order or rank, or sequence."
   ]
  },
  {
   "cell_type": "markdown",
   "id": "b7734855",
   "metadata": {},
   "source": [
    "#### Q3. In what situations is nominal encoding preferred over one-hot encoding? Provide a practical example."
   ]
  },
  {
   "cell_type": "markdown",
   "id": "319b47e3",
   "metadata": {},
   "source": [
    "Nominal encoding also known as lable encoding. is technique of representing categorical variable as numerical value.\n",
    "whereas One hot encoding technique is technique of representing categorical variable as binary vector.\n",
    "\n",
    "Nominal encoding is preferred over one-hot encoding in the following situations:\n",
    "\n",
    "When the categorical variable has a high number of unique categories: One-hot encoding can lead to a high-dimensional feature space when the categorical variable has a large number of unique categories. This can lead to the curse of dimensionality and can make the model overfit. Nominal encoding can be used in such cases to reduce the dimensionality of the feature space.\n",
    "\n",
    "When the order of categories does not matter: Nominal encoding is preferred when the order of categories does not matter, and the categories are simply labels. For example, consider the variable \"color\" with categories \"red,\" \"green,\" and \"blue.\" In this case, the order of categories does not matter, and nominal encoding can be used.\n",
    "\n",
    "When the algorithm can learn the order of categories: Nominal encoding can be used when the algorithm can learn the order of categories implicitly. For example, in decision trees and random forests, the algorithm can learn the order of categories without explicit encoding."
   ]
  },
  {
   "cell_type": "markdown",
   "id": "e7ed3fa1",
   "metadata": {},
   "source": [
    "#### Q4. Suppose you have a dataset containing categorical data with 5 unique values. Which encoding technique would you use to transform this data into a format suitable for machine learning algorithms? Explain why you made this choice."
   ]
  },
  {
   "cell_type": "markdown",
   "id": "2378b98f",
   "metadata": {},
   "source": [
    "lets takes example of 5 fruits banana, grapes, kiwi, mango, orange are 5 categorical variables are there:\n",
    "i would uswe to like nominal encoding because in this scenario we don't requires any order and rank."
   ]
  },
  {
   "cell_type": "markdown",
   "id": "d3ac119d",
   "metadata": {},
   "source": [
    "#### Q5. In a machine learning project, you have a dataset with 1000 rows and 5 columns. Two of the columns are categorical, and the remaining three columns are numerical. If you were to use nominal encoding to transform the categorical data, how many new columns would be created? Show your calculations."
   ]
  },
  {
   "cell_type": "markdown",
   "id": "0247dd03",
   "metadata": {},
   "source": [
    "As we using nominal encoding on our categorical column so it will create 4 new columns."
   ]
  },
  {
   "cell_type": "markdown",
   "id": "b951a44d",
   "metadata": {},
   "source": [
    "#### Q6. You are working with a dataset containing information about different types of animals, including their species, habitat, and diet. Which encoding technique would you use to transform the categorical data into |a format suitable for machine learning algorithms? Justify your answer."
   ]
  },
  {
   "cell_type": "markdown",
   "id": "beac17a8",
   "metadata": {},
   "source": [
    "As we can see above example consists of categorical variables and ther is not need od order and rank so we will use nominal encoding technique which is best fit for species and diet, habitat variable."
   ]
  },
  {
   "cell_type": "markdown",
   "id": "02923ee3",
   "metadata": {},
   "source": [
    "#### Q7.You are working on a project that involves predicting customer churn for a telecommunications company. You have a dataset with 5 features, including the customer's gender, age, contract type, monthly charges, and tenure. Which encoding technique(s) would you use to transform the categorical data into numerical data? Provide a step-by-step explanation of how you would implement the encoding."
   ]
  },
  {
   "cell_type": "markdown",
   "id": "2f1a0304",
   "metadata": {},
   "source": [
    "As we can see in this project we have one categorical variable that is gender and definitely i would use binary encoding for male 0 and for female 1."
   ]
  }
 ],
 "metadata": {
  "kernelspec": {
   "display_name": "Python 3 (ipykernel)",
   "language": "python",
   "name": "python3"
  },
  "language_info": {
   "codemirror_mode": {
    "name": "ipython",
    "version": 3
   },
   "file_extension": ".py",
   "mimetype": "text/x-python",
   "name": "python",
   "nbconvert_exporter": "python",
   "pygments_lexer": "ipython3",
   "version": "3.11.2"
  }
 },
 "nbformat": 4,
 "nbformat_minor": 5
}
